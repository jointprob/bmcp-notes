{
 "cells": [
  {
   "cell_type": "markdown",
   "id": "62aca56d-59ef-417d-a705-06ceeff01f30",
   "metadata": {},
   "source": [
    "# Fraud - 05"
   ]
  },
  {
   "cell_type": "code",
   "execution_count": 1,
   "id": "fb144525-80a2-431e-807c-e1e4fce32ec9",
   "metadata": {
    "tags": []
   },
   "outputs": [],
   "source": [
    "import numpy as np\n",
    "import pandas as pd\n",
    "import pymc3 as pm\n",
    "import arviz as az\n",
    "from plotnine import *\n",
    "import plotnine as p9\n",
    "import matplotlib.pyplot as plt\n",
    "import seaborn as sns\n",
    "from scipy.stats import linregress\n",
    "import xarray as xr\n",
    "from fitter import Fitter\n",
    "\n",
    "%matplotlib inline"
   ]
  },
  {
   "cell_type": "code",
   "execution_count": 2,
   "id": "5930ec8f-7a0c-4b9a-a5a1-98ea80175de9",
   "metadata": {},
   "outputs": [
    {
     "name": "stdout",
     "output_type": "stream",
     "text": [
      "pymc3     : 3.11.4\n",
      "arviz     : 0.11.2\n",
      "numpy     : 1.19.5\n",
      "pandas    : 1.3.2\n",
      "xarray    : 0.19.0\n",
      "plotnine  : 0.8.0\n",
      "seaborn   : 0.11.2\n",
      "matplotlib: 3.4.3\n",
      "\n"
     ]
    }
   ],
   "source": [
    "%matplotlib inline\n",
    "%load_ext autoreload\n",
    "%autoreload 2\n",
    "\n",
    "theme_set(theme_bw())\n",
    "sns.set_theme(style='white')\n",
    "pd.set_option('display.max_columns', 100)\n",
    "xr.set_options(display_expand_data=False, display_expand_attrs=False, display_expand_coords=False,\n",
    "              display_expand_data_vars=False)\n",
    "SEED = 1925\n",
    "\n",
    "%load_ext watermark\n",
    "%watermark --iversions"
   ]
  },
  {
   "cell_type": "markdown",
   "id": "39c51649-4ba3-463b-a08f-5e1c01966959",
   "metadata": {},
   "source": [
    "## Data Generating Process "
   ]
  },
  {
   "cell_type": "code",
   "execution_count": 3,
   "id": "db93e65b-0be2-48f0-849c-66c8149c724a",
   "metadata": {},
   "outputs": [
    {
     "data": {
      "text/html": [
       "<div>\n",
       "<style scoped>\n",
       "    .dataframe tbody tr th:only-of-type {\n",
       "        vertical-align: middle;\n",
       "    }\n",
       "\n",
       "    .dataframe tbody tr th {\n",
       "        vertical-align: top;\n",
       "    }\n",
       "\n",
       "    .dataframe thead th {\n",
       "        text-align: right;\n",
       "    }\n",
       "</style>\n",
       "<table border=\"1\" class=\"dataframe\">\n",
       "  <thead>\n",
       "    <tr style=\"text-align: right;\">\n",
       "      <th></th>\n",
       "      <th>day</th>\n",
       "      <th>obs_orange</th>\n",
       "      <th>obs_green</th>\n",
       "      <th>total_obs</th>\n",
       "      <th>true_orange</th>\n",
       "      <th>true_green</th>\n",
       "      <th>unknown</th>\n",
       "      <th>total</th>\n",
       "      <th>true_orange_ratio</th>\n",
       "    </tr>\n",
       "  </thead>\n",
       "  <tbody>\n",
       "    <tr>\n",
       "      <th>0</th>\n",
       "      <td>0</td>\n",
       "      <td>21</td>\n",
       "      <td>355</td>\n",
       "      <td>376</td>\n",
       "      <td>216</td>\n",
       "      <td>639</td>\n",
       "      <td>479</td>\n",
       "      <td>855</td>\n",
       "      <td>0.252632</td>\n",
       "    </tr>\n",
       "    <tr>\n",
       "      <th>1</th>\n",
       "      <td>1</td>\n",
       "      <td>27</td>\n",
       "      <td>294</td>\n",
       "      <td>321</td>\n",
       "      <td>354</td>\n",
       "      <td>943</td>\n",
       "      <td>976</td>\n",
       "      <td>1297</td>\n",
       "      <td>0.272938</td>\n",
       "    </tr>\n",
       "    <tr>\n",
       "      <th>2</th>\n",
       "      <td>2</td>\n",
       "      <td>38</td>\n",
       "      <td>242</td>\n",
       "      <td>280</td>\n",
       "      <td>295</td>\n",
       "      <td>432</td>\n",
       "      <td>447</td>\n",
       "      <td>727</td>\n",
       "      <td>0.405777</td>\n",
       "    </tr>\n",
       "    <tr>\n",
       "      <th>3</th>\n",
       "      <td>3</td>\n",
       "      <td>11</td>\n",
       "      <td>181</td>\n",
       "      <td>192</td>\n",
       "      <td>232</td>\n",
       "      <td>547</td>\n",
       "      <td>587</td>\n",
       "      <td>779</td>\n",
       "      <td>0.297818</td>\n",
       "    </tr>\n",
       "    <tr>\n",
       "      <th>4</th>\n",
       "      <td>4</td>\n",
       "      <td>11</td>\n",
       "      <td>110</td>\n",
       "      <td>121</td>\n",
       "      <td>152</td>\n",
       "      <td>326</td>\n",
       "      <td>357</td>\n",
       "      <td>478</td>\n",
       "      <td>0.317992</td>\n",
       "    </tr>\n",
       "    <tr>\n",
       "      <th>...</th>\n",
       "      <td>...</td>\n",
       "      <td>...</td>\n",
       "      <td>...</td>\n",
       "      <td>...</td>\n",
       "      <td>...</td>\n",
       "      <td>...</td>\n",
       "      <td>...</td>\n",
       "      <td>...</td>\n",
       "      <td>...</td>\n",
       "    </tr>\n",
       "    <tr>\n",
       "      <th>995</th>\n",
       "      <td>995</td>\n",
       "      <td>40</td>\n",
       "      <td>403</td>\n",
       "      <td>443</td>\n",
       "      <td>265</td>\n",
       "      <td>882</td>\n",
       "      <td>704</td>\n",
       "      <td>1147</td>\n",
       "      <td>0.231037</td>\n",
       "    </tr>\n",
       "    <tr>\n",
       "      <th>996</th>\n",
       "      <td>996</td>\n",
       "      <td>57</td>\n",
       "      <td>186</td>\n",
       "      <td>243</td>\n",
       "      <td>302</td>\n",
       "      <td>481</td>\n",
       "      <td>540</td>\n",
       "      <td>783</td>\n",
       "      <td>0.385696</td>\n",
       "    </tr>\n",
       "    <tr>\n",
       "      <th>997</th>\n",
       "      <td>997</td>\n",
       "      <td>5</td>\n",
       "      <td>168</td>\n",
       "      <td>173</td>\n",
       "      <td>95</td>\n",
       "      <td>423</td>\n",
       "      <td>345</td>\n",
       "      <td>518</td>\n",
       "      <td>0.183398</td>\n",
       "    </tr>\n",
       "    <tr>\n",
       "      <th>998</th>\n",
       "      <td>998</td>\n",
       "      <td>20</td>\n",
       "      <td>223</td>\n",
       "      <td>243</td>\n",
       "      <td>126</td>\n",
       "      <td>491</td>\n",
       "      <td>374</td>\n",
       "      <td>617</td>\n",
       "      <td>0.204214</td>\n",
       "    </tr>\n",
       "    <tr>\n",
       "      <th>999</th>\n",
       "      <td>999</td>\n",
       "      <td>38</td>\n",
       "      <td>117</td>\n",
       "      <td>155</td>\n",
       "      <td>275</td>\n",
       "      <td>274</td>\n",
       "      <td>394</td>\n",
       "      <td>549</td>\n",
       "      <td>0.500911</td>\n",
       "    </tr>\n",
       "  </tbody>\n",
       "</table>\n",
       "<p>1000 rows × 9 columns</p>\n",
       "</div>"
      ],
      "text/plain": [
       "     day  obs_orange  obs_green  total_obs  true_orange  true_green  unknown  \\\n",
       "0      0          21        355        376          216         639      479   \n",
       "1      1          27        294        321          354         943      976   \n",
       "2      2          38        242        280          295         432      447   \n",
       "3      3          11        181        192          232         547      587   \n",
       "4      4          11        110        121          152         326      357   \n",
       "..   ...         ...        ...        ...          ...         ...      ...   \n",
       "995  995          40        403        443          265         882      704   \n",
       "996  996          57        186        243          302         481      540   \n",
       "997  997           5        168        173           95         423      345   \n",
       "998  998          20        223        243          126         491      374   \n",
       "999  999          38        117        155          275         274      394   \n",
       "\n",
       "     total  true_orange_ratio  \n",
       "0      855           0.252632  \n",
       "1     1297           0.272938  \n",
       "2      727           0.405777  \n",
       "3      779           0.297818  \n",
       "4      478           0.317992  \n",
       "..     ...                ...  \n",
       "995   1147           0.231037  \n",
       "996    783           0.385696  \n",
       "997    518           0.183398  \n",
       "998    617           0.204214  \n",
       "999    549           0.500911  \n",
       "\n",
       "[1000 rows x 9 columns]"
      ]
     },
     "execution_count": 3,
     "metadata": {},
     "output_type": "execute_result"
    }
   ],
   "source": [
    "def generate_data(n_obs=250,\n",
    "                  true_orange_mu=300, true_orange_sd=100,\n",
    "                  true_green_mu=600, true_green_sd=200,\n",
    "                  obs_pct_orange_mu=0.10, obs_pct_orange_sd=0.05,\n",
    "                  obs_pct_green_mu=0.40, obs_pct_green_sd=0.10):\n",
    "\n",
    "    true_orange=pm.TruncatedNormal.dist(true_orange_mu, true_orange_sd, lower=0).random(size=n_obs)\n",
    "    true_orange = [int(x) for x in true_orange]\n",
    "    true_green=pm.TruncatedNormal.dist(true_green_mu, true_green_sd, lower=0).random(size=n_obs)\n",
    "    true_green = [int(x) for x in true_green]\n",
    "    pct_obs_orange=pm.TruncatedNormal.dist(obs_pct_orange_mu, obs_pct_orange_sd, lower=0).random(size=n_obs)\n",
    "    pct_obs_green=pm.TruncatedNormal.dist(obs_pct_green_mu, obs_pct_green_sd, lower=0).random(size=n_obs)\n",
    "\n",
    "    df = pd.DataFrame({'day': range(n_obs), 'true_orange': true_orange, 'true_green': true_green, 'pct_obs_orange': pct_obs_orange, 'pct_obs_green':pct_obs_green})\n",
    "\n",
    "    df['total'] = df['true_orange'] + df['true_green']\n",
    "    df['obs_orange'] = (df['true_orange'] * df['pct_obs_orange']).astype(int)\n",
    "    df['obs_green'] = (df['true_green'] * df['pct_obs_green']).astype(int)\n",
    "    df['total_obs'] = df['obs_green'] + df['obs_orange']\n",
    "\n",
    "    df.drop(['pct_obs_orange', 'pct_obs_green'], axis=1, inplace=True)\n",
    "    df['unknown'] = df['total'] - df['obs_orange'] - df['obs_green']\n",
    "    # df = df.round()\n",
    "    df = df[['day', 'obs_orange', 'obs_green', 'total_obs', 'true_orange', 'true_green', 'unknown', 'total']]\n",
    "    return df\n",
    "\n",
    "gen_params = {'true_orange_mu': 200, 'true_orange_sd': 100,\n",
    "              'true_green_mu': 600, 'true_green_sd': 200,\n",
    "              'obs_pct_orange_mu': 0.10, 'obs_pct_orange_sd': 0.05,\n",
    "              'obs_pct_green_mu': 0.40, 'obs_pct_green_sd': 0.10}\n",
    "\n",
    "n_obs=1000\n",
    "df_orig = generate_data(n_obs=n_obs, **gen_params)\n",
    "df_orig['true_orange_ratio'] = df_orig['true_orange'] / df_orig['total']\n",
    "df_orig"
   ]
  },
  {
   "cell_type": "code",
   "execution_count": 4,
   "id": "efe93528-e273-4bf3-a4b9-9d05c8b8f753",
   "metadata": {},
   "outputs": [
    {
     "data": {
      "text/html": [
       "<div>\n",
       "<style scoped>\n",
       "    .dataframe tbody tr th:only-of-type {\n",
       "        vertical-align: middle;\n",
       "    }\n",
       "\n",
       "    .dataframe tbody tr th {\n",
       "        vertical-align: top;\n",
       "    }\n",
       "\n",
       "    .dataframe thead th {\n",
       "        text-align: right;\n",
       "    }\n",
       "</style>\n",
       "<table border=\"1\" class=\"dataframe\">\n",
       "  <thead>\n",
       "    <tr style=\"text-align: right;\">\n",
       "      <th></th>\n",
       "      <th>day</th>\n",
       "      <th>obs_orange</th>\n",
       "      <th>obs_green</th>\n",
       "      <th>total_obs</th>\n",
       "      <th>true_orange</th>\n",
       "      <th>true_green</th>\n",
       "      <th>unknown</th>\n",
       "      <th>total</th>\n",
       "      <th>true_orange_ratio</th>\n",
       "    </tr>\n",
       "  </thead>\n",
       "  <tbody>\n",
       "    <tr>\n",
       "      <th>count</th>\n",
       "      <td>1000.000000</td>\n",
       "      <td>1000.000000</td>\n",
       "      <td>1000.000000</td>\n",
       "      <td>1000.000000</td>\n",
       "      <td>1000.000000</td>\n",
       "      <td>1000.000000</td>\n",
       "      <td>1000.000000</td>\n",
       "      <td>1000.000000</td>\n",
       "      <td>1000.000000</td>\n",
       "    </tr>\n",
       "    <tr>\n",
       "      <th>mean</th>\n",
       "      <td>499.500000</td>\n",
       "      <td>19.931000</td>\n",
       "      <td>238.522000</td>\n",
       "      <td>258.453000</td>\n",
       "      <td>202.497000</td>\n",
       "      <td>597.557000</td>\n",
       "      <td>541.601000</td>\n",
       "      <td>800.054000</td>\n",
       "      <td>0.260226</td>\n",
       "    </tr>\n",
       "    <tr>\n",
       "      <th>std</th>\n",
       "      <td>288.819436</td>\n",
       "      <td>13.713873</td>\n",
       "      <td>100.556328</td>\n",
       "      <td>102.394347</td>\n",
       "      <td>92.638026</td>\n",
       "      <td>198.868327</td>\n",
       "      <td>158.350544</td>\n",
       "      <td>219.927664</td>\n",
       "      <td>0.117565</td>\n",
       "    </tr>\n",
       "    <tr>\n",
       "      <th>min</th>\n",
       "      <td>0.000000</td>\n",
       "      <td>0.000000</td>\n",
       "      <td>6.000000</td>\n",
       "      <td>23.000000</td>\n",
       "      <td>5.000000</td>\n",
       "      <td>25.000000</td>\n",
       "      <td>130.000000</td>\n",
       "      <td>198.000000</td>\n",
       "      <td>0.008511</td>\n",
       "    </tr>\n",
       "    <tr>\n",
       "      <th>25%</th>\n",
       "      <td>249.750000</td>\n",
       "      <td>9.000000</td>\n",
       "      <td>169.000000</td>\n",
       "      <td>186.000000</td>\n",
       "      <td>134.000000</td>\n",
       "      <td>464.000000</td>\n",
       "      <td>432.000000</td>\n",
       "      <td>650.500000</td>\n",
       "      <td>0.176649</td>\n",
       "    </tr>\n",
       "    <tr>\n",
       "      <th>50%</th>\n",
       "      <td>499.500000</td>\n",
       "      <td>17.000000</td>\n",
       "      <td>227.500000</td>\n",
       "      <td>244.000000</td>\n",
       "      <td>198.000000</td>\n",
       "      <td>587.500000</td>\n",
       "      <td>532.500000</td>\n",
       "      <td>789.500000</td>\n",
       "      <td>0.251904</td>\n",
       "    </tr>\n",
       "    <tr>\n",
       "      <th>75%</th>\n",
       "      <td>749.250000</td>\n",
       "      <td>28.000000</td>\n",
       "      <td>302.250000</td>\n",
       "      <td>324.000000</td>\n",
       "      <td>268.250000</td>\n",
       "      <td>730.000000</td>\n",
       "      <td>646.500000</td>\n",
       "      <td>953.000000</td>\n",
       "      <td>0.327525</td>\n",
       "    </tr>\n",
       "    <tr>\n",
       "      <th>max</th>\n",
       "      <td>999.000000</td>\n",
       "      <td>84.000000</td>\n",
       "      <td>632.000000</td>\n",
       "      <td>667.000000</td>\n",
       "      <td>536.000000</td>\n",
       "      <td>1336.000000</td>\n",
       "      <td>1168.000000</td>\n",
       "      <td>1673.000000</td>\n",
       "      <td>0.885845</td>\n",
       "    </tr>\n",
       "  </tbody>\n",
       "</table>\n",
       "</div>"
      ],
      "text/plain": [
       "               day   obs_orange    obs_green    total_obs  true_orange  \\\n",
       "count  1000.000000  1000.000000  1000.000000  1000.000000  1000.000000   \n",
       "mean    499.500000    19.931000   238.522000   258.453000   202.497000   \n",
       "std     288.819436    13.713873   100.556328   102.394347    92.638026   \n",
       "min       0.000000     0.000000     6.000000    23.000000     5.000000   \n",
       "25%     249.750000     9.000000   169.000000   186.000000   134.000000   \n",
       "50%     499.500000    17.000000   227.500000   244.000000   198.000000   \n",
       "75%     749.250000    28.000000   302.250000   324.000000   268.250000   \n",
       "max     999.000000    84.000000   632.000000   667.000000   536.000000   \n",
       "\n",
       "        true_green      unknown        total  true_orange_ratio  \n",
       "count  1000.000000  1000.000000  1000.000000        1000.000000  \n",
       "mean    597.557000   541.601000   800.054000           0.260226  \n",
       "std     198.868327   158.350544   219.927664           0.117565  \n",
       "min      25.000000   130.000000   198.000000           0.008511  \n",
       "25%     464.000000   432.000000   650.500000           0.176649  \n",
       "50%     587.500000   532.500000   789.500000           0.251904  \n",
       "75%     730.000000   646.500000   953.000000           0.327525  \n",
       "max    1336.000000  1168.000000  1673.000000           0.885845  "
      ]
     },
     "execution_count": 4,
     "metadata": {},
     "output_type": "execute_result"
    }
   ],
   "source": [
    "df_orig.describe()"
   ]
  },
  {
   "cell_type": "code",
   "execution_count": 5,
   "id": "e23ac17b-bf5d-4adc-b803-68570cde21d6",
   "metadata": {},
   "outputs": [],
   "source": [
    "# sns.pairplot(df_orig);"
   ]
  },
  {
   "cell_type": "code",
   "execution_count": 6,
   "id": "451e2efc-e04b-4832-bfe5-6f40c581334b",
   "metadata": {},
   "outputs": [],
   "source": [
    "df = df_orig.copy()\n",
    "df['min_green'] = df['obs_green'] + 1\n",
    "df['max_green'] = df['total'] - df['obs_orange'] + 1\n",
    "df['min_orange'] = df['obs_orange'] + 1\n",
    "df['max_orange'] = df['total'] - df['obs_green'] + 1\n",
    "df['orange_range'] = df['max_orange'] - df['min_orange']\n",
    "df['green_range'] = df['max_green'] - df['min_green']"
   ]
  },
  {
   "cell_type": "code",
   "execution_count": 7,
   "id": "36f458e7-ba4e-4369-ab4f-fce323534a70",
   "metadata": {},
   "outputs": [
    {
     "data": {
      "image/png": "[encoded data removed]",
      "text/plain": [
       "<Figure size 1600x400 with 1 Axes>"
      ]
     },
     "metadata": {},
     "output_type": "display_data"
    }
   ],
   "source": [
    "extent=100\n",
    "p = (ggplot(df[0:100], aes(x='day')) +\n",
    "     geom_errorbar(aes(ymin='min_green', ymax='max_green'), color='green', alpha=1.0) +\n",
    "     geom_line(aes(y='total'), alpha=0.5) +\n",
    "     labs(title=f'Bounded Values of green accounts for first {extent} days') +\n",
    "     theme(figure_size=(16, 4))\n",
    "    )\n",
    "p.draw();"
   ]
  },
  {
   "cell_type": "code",
   "execution_count": 8,
   "id": "73046aa7-8fc3-4bc2-9d8e-8b4a607dda76",
   "metadata": {},
   "outputs": [
    {
     "data": {
      "image/png": "[encoded data removed]",
      "text/plain": [
       "<Figure size 1600x400 with 1 Axes>"
      ]
     },
     "metadata": {},
     "output_type": "display_data"
    }
   ],
   "source": [
    "extent=100\n",
    "p = (ggplot(df[0:100], aes(x='day')) +\n",
    "     geom_errorbar(aes(ymin='min_orange', ymax='max_orange'), color='orange', alpha=1.0) +\n",
    "     geom_line(aes(y='total'), alpha=0.5) +\n",
    "     labs(title=f'Bounded Values of orange accounts for first {extent} days') +\n",
    "     theme(figure_size=(16, 4))\n",
    "    )\n",
    "p.draw();"
   ]
  },
  {
   "cell_type": "code",
   "execution_count": null,
   "id": "b450f742-675e-4133-bba7-a831bf7ac042",
   "metadata": {},
   "outputs": [],
   "source": []
  },
  {
   "cell_type": "code",
   "execution_count": 31,
   "id": "4475e15a-48eb-4811-b1fb-39f461ab79e5",
   "metadata": {},
   "outputs": [
    {
     "data": {
      "text/html": [
       "<div>\n",
       "<style scoped>\n",
       "    .dataframe tbody tr th:only-of-type {\n",
       "        vertical-align: middle;\n",
       "    }\n",
       "\n",
       "    .dataframe tbody tr th {\n",
       "        vertical-align: top;\n",
       "    }\n",
       "\n",
       "    .dataframe thead th {\n",
       "        text-align: right;\n",
       "    }\n",
       "</style>\n",
       "<table border=\"1\" class=\"dataframe\">\n",
       "  <thead>\n",
       "    <tr style=\"text-align: right;\">\n",
       "      <th></th>\n",
       "      <th>day</th>\n",
       "      <th>obs_orange</th>\n",
       "      <th>obs_green</th>\n",
       "      <th>total_obs</th>\n",
       "      <th>true_orange</th>\n",
       "      <th>true_green</th>\n",
       "      <th>unknown</th>\n",
       "      <th>total</th>\n",
       "      <th>true_orange_ratio</th>\n",
       "      <th>min_green</th>\n",
       "      <th>max_green</th>\n",
       "      <th>min_orange</th>\n",
       "      <th>max_orange</th>\n",
       "      <th>orange_range</th>\n",
       "      <th>green_range</th>\n",
       "      <th>min_orange_ratio</th>\n",
       "      <th>max_orange_ratio</th>\n",
       "      <th>min_green_ratio</th>\n",
       "      <th>max_green_ratio</th>\n",
       "      <th>mean_orange_ratio</th>\n",
       "      <th>mean_green_ratio</th>\n",
       "      <th>orange_ratio_range</th>\n",
       "      <th>crossover</th>\n",
       "      <th>test</th>\n",
       "    </tr>\n",
       "  </thead>\n",
       "  <tbody>\n",
       "    <tr>\n",
       "      <th>0</th>\n",
       "      <td>0</td>\n",
       "      <td>21</td>\n",
       "      <td>355</td>\n",
       "      <td>376</td>\n",
       "      <td>216</td>\n",
       "      <td>639</td>\n",
       "      <td>479</td>\n",
       "      <td>855</td>\n",
       "      <td>0.252632</td>\n",
       "      <td>356</td>\n",
       "      <td>835</td>\n",
       "      <td>22</td>\n",
       "      <td>501</td>\n",
       "      <td>479</td>\n",
       "      <td>479</td>\n",
       "      <td>0.025731</td>\n",
       "      <td>0.585965</td>\n",
       "      <td>0.416374</td>\n",
       "      <td>0.976608</td>\n",
       "      <td>0.305848</td>\n",
       "      <td>0.696491</td>\n",
       "      <td>0.560234</td>\n",
       "      <td>0.169591</td>\n",
       "      <td>0.024561</td>\n",
       "    </tr>\n",
       "    <tr>\n",
       "      <th>1</th>\n",
       "      <td>1</td>\n",
       "      <td>27</td>\n",
       "      <td>294</td>\n",
       "      <td>321</td>\n",
       "      <td>354</td>\n",
       "      <td>943</td>\n",
       "      <td>976</td>\n",
       "      <td>1297</td>\n",
       "      <td>0.272938</td>\n",
       "      <td>295</td>\n",
       "      <td>1271</td>\n",
       "      <td>28</td>\n",
       "      <td>1004</td>\n",
       "      <td>976</td>\n",
       "      <td>976</td>\n",
       "      <td>0.021588</td>\n",
       "      <td>0.774094</td>\n",
       "      <td>0.227448</td>\n",
       "      <td>0.979954</td>\n",
       "      <td>0.397841</td>\n",
       "      <td>0.603701</td>\n",
       "      <td>0.752506</td>\n",
       "      <td>0.546646</td>\n",
       "      <td>0.020817</td>\n",
       "    </tr>\n",
       "    <tr>\n",
       "      <th>2</th>\n",
       "      <td>2</td>\n",
       "      <td>38</td>\n",
       "      <td>242</td>\n",
       "      <td>280</td>\n",
       "      <td>295</td>\n",
       "      <td>432</td>\n",
       "      <td>447</td>\n",
       "      <td>727</td>\n",
       "      <td>0.405777</td>\n",
       "      <td>243</td>\n",
       "      <td>690</td>\n",
       "      <td>39</td>\n",
       "      <td>486</td>\n",
       "      <td>447</td>\n",
       "      <td>447</td>\n",
       "      <td>0.053645</td>\n",
       "      <td>0.668501</td>\n",
       "      <td>0.334250</td>\n",
       "      <td>0.949106</td>\n",
       "      <td>0.361073</td>\n",
       "      <td>0.641678</td>\n",
       "      <td>0.614856</td>\n",
       "      <td>0.334250</td>\n",
       "      <td>0.052270</td>\n",
       "    </tr>\n",
       "    <tr>\n",
       "      <th>3</th>\n",
       "      <td>3</td>\n",
       "      <td>11</td>\n",
       "      <td>181</td>\n",
       "      <td>192</td>\n",
       "      <td>232</td>\n",
       "      <td>547</td>\n",
       "      <td>587</td>\n",
       "      <td>779</td>\n",
       "      <td>0.297818</td>\n",
       "      <td>182</td>\n",
       "      <td>769</td>\n",
       "      <td>12</td>\n",
       "      <td>599</td>\n",
       "      <td>587</td>\n",
       "      <td>587</td>\n",
       "      <td>0.015404</td>\n",
       "      <td>0.768935</td>\n",
       "      <td>0.233633</td>\n",
       "      <td>0.987163</td>\n",
       "      <td>0.392169</td>\n",
       "      <td>0.610398</td>\n",
       "      <td>0.753530</td>\n",
       "      <td>0.535302</td>\n",
       "      <td>0.014121</td>\n",
       "    </tr>\n",
       "    <tr>\n",
       "      <th>4</th>\n",
       "      <td>4</td>\n",
       "      <td>11</td>\n",
       "      <td>110</td>\n",
       "      <td>121</td>\n",
       "      <td>152</td>\n",
       "      <td>326</td>\n",
       "      <td>357</td>\n",
       "      <td>478</td>\n",
       "      <td>0.317992</td>\n",
       "      <td>111</td>\n",
       "      <td>468</td>\n",
       "      <td>12</td>\n",
       "      <td>369</td>\n",
       "      <td>357</td>\n",
       "      <td>357</td>\n",
       "      <td>0.025105</td>\n",
       "      <td>0.771967</td>\n",
       "      <td>0.232218</td>\n",
       "      <td>0.979079</td>\n",
       "      <td>0.398536</td>\n",
       "      <td>0.605649</td>\n",
       "      <td>0.746862</td>\n",
       "      <td>0.539749</td>\n",
       "      <td>0.023013</td>\n",
       "    </tr>\n",
       "    <tr>\n",
       "      <th>...</th>\n",
       "      <td>...</td>\n",
       "      <td>...</td>\n",
       "      <td>...</td>\n",
       "      <td>...</td>\n",
       "      <td>...</td>\n",
       "      <td>...</td>\n",
       "      <td>...</td>\n",
       "      <td>...</td>\n",
       "      <td>...</td>\n",
       "      <td>...</td>\n",
       "      <td>...</td>\n",
       "      <td>...</td>\n",
       "      <td>...</td>\n",
       "      <td>...</td>\n",
       "      <td>...</td>\n",
       "      <td>...</td>\n",
       "      <td>...</td>\n",
       "      <td>...</td>\n",
       "      <td>...</td>\n",
       "      <td>...</td>\n",
       "      <td>...</td>\n",
       "      <td>...</td>\n",
       "      <td>...</td>\n",
       "      <td>...</td>\n",
       "    </tr>\n",
       "    <tr>\n",
       "      <th>995</th>\n",
       "      <td>995</td>\n",
       "      <td>40</td>\n",
       "      <td>403</td>\n",
       "      <td>443</td>\n",
       "      <td>265</td>\n",
       "      <td>882</td>\n",
       "      <td>704</td>\n",
       "      <td>1147</td>\n",
       "      <td>0.231037</td>\n",
       "      <td>404</td>\n",
       "      <td>1108</td>\n",
       "      <td>41</td>\n",
       "      <td>745</td>\n",
       "      <td>704</td>\n",
       "      <td>704</td>\n",
       "      <td>0.035745</td>\n",
       "      <td>0.649520</td>\n",
       "      <td>0.352223</td>\n",
       "      <td>0.965998</td>\n",
       "      <td>0.342633</td>\n",
       "      <td>0.659111</td>\n",
       "      <td>0.613775</td>\n",
       "      <td>0.297297</td>\n",
       "      <td>0.034874</td>\n",
       "    </tr>\n",
       "    <tr>\n",
       "      <th>996</th>\n",
       "      <td>996</td>\n",
       "      <td>57</td>\n",
       "      <td>186</td>\n",
       "      <td>243</td>\n",
       "      <td>302</td>\n",
       "      <td>481</td>\n",
       "      <td>540</td>\n",
       "      <td>783</td>\n",
       "      <td>0.385696</td>\n",
       "      <td>187</td>\n",
       "      <td>727</td>\n",
       "      <td>58</td>\n",
       "      <td>598</td>\n",
       "      <td>540</td>\n",
       "      <td>540</td>\n",
       "      <td>0.074074</td>\n",
       "      <td>0.763729</td>\n",
       "      <td>0.238825</td>\n",
       "      <td>0.928480</td>\n",
       "      <td>0.418902</td>\n",
       "      <td>0.583653</td>\n",
       "      <td>0.689655</td>\n",
       "      <td>0.524904</td>\n",
       "      <td>0.072797</td>\n",
       "    </tr>\n",
       "    <tr>\n",
       "      <th>997</th>\n",
       "      <td>997</td>\n",
       "      <td>5</td>\n",
       "      <td>168</td>\n",
       "      <td>173</td>\n",
       "      <td>95</td>\n",
       "      <td>423</td>\n",
       "      <td>345</td>\n",
       "      <td>518</td>\n",
       "      <td>0.183398</td>\n",
       "      <td>169</td>\n",
       "      <td>514</td>\n",
       "      <td>6</td>\n",
       "      <td>351</td>\n",
       "      <td>345</td>\n",
       "      <td>345</td>\n",
       "      <td>0.011583</td>\n",
       "      <td>0.677606</td>\n",
       "      <td>0.326255</td>\n",
       "      <td>0.992278</td>\n",
       "      <td>0.344595</td>\n",
       "      <td>0.659266</td>\n",
       "      <td>0.666023</td>\n",
       "      <td>0.351351</td>\n",
       "      <td>0.009653</td>\n",
       "    </tr>\n",
       "    <tr>\n",
       "      <th>998</th>\n",
       "      <td>998</td>\n",
       "      <td>20</td>\n",
       "      <td>223</td>\n",
       "      <td>243</td>\n",
       "      <td>126</td>\n",
       "      <td>491</td>\n",
       "      <td>374</td>\n",
       "      <td>617</td>\n",
       "      <td>0.204214</td>\n",
       "      <td>224</td>\n",
       "      <td>598</td>\n",
       "      <td>21</td>\n",
       "      <td>395</td>\n",
       "      <td>374</td>\n",
       "      <td>374</td>\n",
       "      <td>0.034036</td>\n",
       "      <td>0.640194</td>\n",
       "      <td>0.363047</td>\n",
       "      <td>0.969206</td>\n",
       "      <td>0.337115</td>\n",
       "      <td>0.666126</td>\n",
       "      <td>0.606159</td>\n",
       "      <td>0.277147</td>\n",
       "      <td>0.032415</td>\n",
       "    </tr>\n",
       "    <tr>\n",
       "      <th>999</th>\n",
       "      <td>999</td>\n",
       "      <td>38</td>\n",
       "      <td>117</td>\n",
       "      <td>155</td>\n",
       "      <td>275</td>\n",
       "      <td>274</td>\n",
       "      <td>394</td>\n",
       "      <td>549</td>\n",
       "      <td>0.500911</td>\n",
       "      <td>118</td>\n",
       "      <td>512</td>\n",
       "      <td>39</td>\n",
       "      <td>433</td>\n",
       "      <td>394</td>\n",
       "      <td>394</td>\n",
       "      <td>0.071038</td>\n",
       "      <td>0.788707</td>\n",
       "      <td>0.214936</td>\n",
       "      <td>0.932605</td>\n",
       "      <td>0.429872</td>\n",
       "      <td>0.573770</td>\n",
       "      <td>0.717668</td>\n",
       "      <td>0.573770</td>\n",
       "      <td>0.069217</td>\n",
       "    </tr>\n",
       "  </tbody>\n",
       "</table>\n",
       "<p>1000 rows × 24 columns</p>\n",
       "</div>"
      ],
      "text/plain": [
       "     day  obs_orange  obs_green  total_obs  true_orange  true_green  unknown  \\\n",
       "0      0          21        355        376          216         639      479   \n",
       "1      1          27        294        321          354         943      976   \n",
       "2      2          38        242        280          295         432      447   \n",
       "3      3          11        181        192          232         547      587   \n",
       "4      4          11        110        121          152         326      357   \n",
       "..   ...         ...        ...        ...          ...         ...      ...   \n",
       "995  995          40        403        443          265         882      704   \n",
       "996  996          57        186        243          302         481      540   \n",
       "997  997           5        168        173           95         423      345   \n",
       "998  998          20        223        243          126         491      374   \n",
       "999  999          38        117        155          275         274      394   \n",
       "\n",
       "     total  true_orange_ratio  min_green  max_green  min_orange  max_orange  \\\n",
       "0      855           0.252632        356        835          22         501   \n",
       "1     1297           0.272938        295       1271          28        1004   \n",
       "2      727           0.405777        243        690          39         486   \n",
       "3      779           0.297818        182        769          12         599   \n",
       "4      478           0.317992        111        468          12         369   \n",
       "..     ...                ...        ...        ...         ...         ...   \n",
       "995   1147           0.231037        404       1108          41         745   \n",
       "996    783           0.385696        187        727          58         598   \n",
       "997    518           0.183398        169        514           6         351   \n",
       "998    617           0.204214        224        598          21         395   \n",
       "999    549           0.500911        118        512          39         433   \n",
       "\n",
       "     orange_range  green_range  min_orange_ratio  max_orange_ratio  \\\n",
       "0             479          479          0.025731          0.585965   \n",
       "1             976          976          0.021588          0.774094   \n",
       "2             447          447          0.053645          0.668501   \n",
       "3             587          587          0.015404          0.768935   \n",
       "4             357          357          0.025105          0.771967   \n",
       "..            ...          ...               ...               ...   \n",
       "995           704          704          0.035745          0.649520   \n",
       "996           540          540          0.074074          0.763729   \n",
       "997           345          345          0.011583          0.677606   \n",
       "998           374          374          0.034036          0.640194   \n",
       "999           394          394          0.071038          0.788707   \n",
       "\n",
       "     min_green_ratio  max_green_ratio  mean_orange_ratio  mean_green_ratio  \\\n",
       "0           0.416374         0.976608           0.305848          0.696491   \n",
       "1           0.227448         0.979954           0.397841          0.603701   \n",
       "2           0.334250         0.949106           0.361073          0.641678   \n",
       "3           0.233633         0.987163           0.392169          0.610398   \n",
       "4           0.232218         0.979079           0.398536          0.605649   \n",
       "..               ...              ...                ...               ...   \n",
       "995         0.352223         0.965998           0.342633          0.659111   \n",
       "996         0.238825         0.928480           0.418902          0.583653   \n",
       "997         0.326255         0.992278           0.344595          0.659266   \n",
       "998         0.363047         0.969206           0.337115          0.666126   \n",
       "999         0.214936         0.932605           0.429872          0.573770   \n",
       "\n",
       "     orange_ratio_range  crossover      test  \n",
       "0              0.560234   0.169591  0.024561  \n",
       "1              0.752506   0.546646  0.020817  \n",
       "2              0.614856   0.334250  0.052270  \n",
       "3              0.753530   0.535302  0.014121  \n",
       "4              0.746862   0.539749  0.023013  \n",
       "..                  ...        ...       ...  \n",
       "995            0.613775   0.297297  0.034874  \n",
       "996            0.689655   0.524904  0.072797  \n",
       "997            0.666023   0.351351  0.009653  \n",
       "998            0.606159   0.277147  0.032415  \n",
       "999            0.717668   0.573770  0.069217  \n",
       "\n",
       "[1000 rows x 24 columns]"
      ]
     },
     "execution_count": 31,
     "metadata": {},
     "output_type": "execute_result"
    }
   ],
   "source": [
    "# df = df_orig.copy()\n",
    "# # df['min_true_orange'] = df['obs_orange'] + 1\n",
    "# # df['min_green'] = df['obs_green'] + 1\n",
    "# # df['max_green'] = df['total'] - df['min_orange']\n",
    "# # df['max_true_orange'] = df['total'] - df['min_green']\n",
    "# # df['mean_orange'] = df[['min_orange', 'max_orange']].mean(axis=1)\n",
    "# # df['mean_green'] = df[['min_green', 'max_green']].mean(axis=1)\n",
    "# df['min_orange_ratio'] = df['min_true_orange'] / df['total']\n",
    "# df['max_orange_ratio'] = df['max_true_orange'] / df['total']\n",
    "# # df['mean_possible_orange_ratio'] = df[['min_orange_ratio', 'max_orange_ratio']].mean(axis=1)\n",
    "# # # df['orange_ratio_range'] = df1['max_orange_ratio'] - df1['min_orange_ratio']\n",
    "# # df['p_obs_orange_given_orange'] = df['obs_orange'] / df['true_orange']\n",
    "# # df['p_orange'] = df['true_orange'] / df['total']\n",
    "# # df['p_obs_orange'] = df['obs_orange'] / df['total']\n",
    "df['min_orange_ratio'] = df['min_orange'] / df['total']\n",
    "df['max_orange_ratio'] = df['max_orange'] / df['total']\n",
    "df['min_green_ratio'] = df['min_green'] / df['total']\n",
    "df['max_green_ratio'] = df['max_green'] / df['total']\n",
    "df['mean_orange_ratio'] = df[['max_orange_ratio', 'min_orange_ratio']].mean(axis=1)\n",
    "df['mean_green_ratio'] = df[['max_green_ratio', 'min_green_ratio']].mean(axis=1)\n",
    "df['orange_ratio_range'] = df['max_orange_ratio'] - df['min_orange_ratio']\n",
    "df['crossover'] = df['max_orange_ratio'] - df['min_green_ratio']\n",
    "df['test'] = ((1.0 - df['min_orange_ratio']) - df['max_green_ratio'])/2 + df['min_orange_ratio']\n",
    "# # df['mean_green_ratio'] = df[['max_green_ratio', 'min_green_ratio']].mean(axis=1)\n",
    "\n",
    "df"
   ]
  },
  {
   "cell_type": "code",
   "execution_count": 32,
   "id": "18965ab6-c3f1-4498-927a-c8d80ba98ae9",
   "metadata": {},
   "outputs": [
    {
     "data": {
      "image/png": "[encoded data removed]",
      "text/plain": [
       "<Figure size 1600x400 with 1 Axes>"
      ]
     },
     "metadata": {},
     "output_type": "display_data"
    }
   ],
   "source": [
    "extent=100\n",
    "p = (ggplot(df[0:100], aes(x='day')) +\n",
    "     geom_errorbar(aes(ymin='min_orange_ratio', ymax='max_orange_ratio'), color='orange', alpha=1.0) +\n",
    "     # geom_line(aes(y='total'), alpha=0.5) +\n",
    "     labs(title=f'Bounded Values of ratio of orange accounts for first {extent} days') +\n",
    "     theme(figure_size=(16, 4))\n",
    "    )\n",
    "p.draw();"
   ]
  },
  {
   "cell_type": "code",
   "execution_count": 33,
   "id": "b09e7974-f346-4806-aa0a-5f24847083ad",
   "metadata": {},
   "outputs": [
    {
     "data": {
      "image/png": "[encoded data removed]",
      "text/plain": [
       "<Figure size 1600x400 with 1 Axes>"
      ]
     },
     "metadata": {},
     "output_type": "display_data"
    }
   ],
   "source": [
    "extent=100\n",
    "p = (ggplot(df[0:100], aes(x='day')) +\n",
    "     geom_errorbar(aes(ymin='min_green_ratio', ymax='max_green_ratio'), color='green', alpha=1.0) +\n",
    "     # geom_line(aes(y='total'), alpha=0.5) +\n",
    "     labs(title=f'Bounded Values of ratio of green accounts for first {extent} days') +\n",
    "     theme(figure_size=(16, 4))\n",
    "    )\n",
    "p.draw();"
   ]
  },
  {
   "cell_type": "code",
   "execution_count": 34,
   "id": "52556d77-d2bd-44bb-8fa8-4e6c1cac5018",
   "metadata": {},
   "outputs": [
    {
     "data": {
      "image/png": "[encoded data removed]",
      "text/plain": [
       "<Figure size 1600x400 with 1 Axes>"
      ]
     },
     "metadata": {},
     "output_type": "display_data"
    }
   ],
   "source": [
    "extent=100\n",
    "p = (ggplot(df[0:100], aes(x='day')) +\n",
    "     geom_errorbar(aes(ymin='0', ymax='max_green_ratio'), color='green', alpha=1.0) +\n",
    "     geom_errorbar(aes(ymin='1-max_orange_ratio', ymax=1.0), color='orange', alpha=1.0) +\n",
    "     # geom_line(aes(y='total'), alpha=0.5) +\n",
    "     labs(title=f'Bounded proportions of accounts for first {extent} days') +\n",
    "     theme(figure_size=(16, 4))\n",
    "    )\n",
    "p.draw();"
   ]
  },
  {
   "cell_type": "code",
   "execution_count": 35,
   "id": "f4d57e6e-bd0b-48a5-8959-5e10ead0b7b9",
   "metadata": {},
   "outputs": [
    {
     "data": {
      "text/html": [
       "<div>\n",
       "<style scoped>\n",
       "    .dataframe tbody tr th:only-of-type {\n",
       "        vertical-align: middle;\n",
       "    }\n",
       "\n",
       "    .dataframe tbody tr th {\n",
       "        vertical-align: top;\n",
       "    }\n",
       "\n",
       "    .dataframe thead th {\n",
       "        text-align: right;\n",
       "    }\n",
       "</style>\n",
       "<table border=\"1\" class=\"dataframe\">\n",
       "  <thead>\n",
       "    <tr style=\"text-align: right;\">\n",
       "      <th></th>\n",
       "      <th>day</th>\n",
       "      <th>obs_orange</th>\n",
       "      <th>obs_green</th>\n",
       "      <th>total_obs</th>\n",
       "      <th>true_orange</th>\n",
       "      <th>true_green</th>\n",
       "      <th>unknown</th>\n",
       "      <th>total</th>\n",
       "      <th>true_orange_ratio</th>\n",
       "      <th>min_green</th>\n",
       "      <th>max_green</th>\n",
       "      <th>min_orange</th>\n",
       "      <th>max_orange</th>\n",
       "      <th>orange_range</th>\n",
       "      <th>green_range</th>\n",
       "      <th>min_orange_ratio</th>\n",
       "      <th>max_orange_ratio</th>\n",
       "      <th>min_green_ratio</th>\n",
       "      <th>max_green_ratio</th>\n",
       "      <th>mean_orange_ratio</th>\n",
       "      <th>mean_green_ratio</th>\n",
       "      <th>orange_ratio_range</th>\n",
       "      <th>crossover</th>\n",
       "      <th>test</th>\n",
       "    </tr>\n",
       "  </thead>\n",
       "  <tbody>\n",
       "    <tr>\n",
       "      <th>79</th>\n",
       "      <td>79</td>\n",
       "      <td>33</td>\n",
       "      <td>203</td>\n",
       "      <td>236</td>\n",
       "      <td>186</td>\n",
       "      <td>518</td>\n",
       "      <td>468</td>\n",
       "      <td>704</td>\n",
       "      <td>0.264205</td>\n",
       "      <td>204</td>\n",
       "      <td>672</td>\n",
       "      <td>34</td>\n",
       "      <td>502</td>\n",
       "      <td>468</td>\n",
       "      <td>468</td>\n",
       "      <td>0.048295</td>\n",
       "      <td>0.713068</td>\n",
       "      <td>0.289773</td>\n",
       "      <td>0.954545</td>\n",
       "      <td>0.380682</td>\n",
       "      <td>0.622159</td>\n",
       "      <td>0.664773</td>\n",
       "      <td>0.423295</td>\n",
       "      <td>0.046875</td>\n",
       "    </tr>\n",
       "    <tr>\n",
       "      <th>80</th>\n",
       "      <td>80</td>\n",
       "      <td>46</td>\n",
       "      <td>293</td>\n",
       "      <td>339</td>\n",
       "      <td>198</td>\n",
       "      <td>676</td>\n",
       "      <td>535</td>\n",
       "      <td>874</td>\n",
       "      <td>0.226545</td>\n",
       "      <td>294</td>\n",
       "      <td>829</td>\n",
       "      <td>47</td>\n",
       "      <td>582</td>\n",
       "      <td>535</td>\n",
       "      <td>535</td>\n",
       "      <td>0.053776</td>\n",
       "      <td>0.665904</td>\n",
       "      <td>0.336384</td>\n",
       "      <td>0.948513</td>\n",
       "      <td>0.359840</td>\n",
       "      <td>0.642449</td>\n",
       "      <td>0.612128</td>\n",
       "      <td>0.329519</td>\n",
       "      <td>0.052632</td>\n",
       "    </tr>\n",
       "    <tr>\n",
       "      <th>81</th>\n",
       "      <td>81</td>\n",
       "      <td>27</td>\n",
       "      <td>113</td>\n",
       "      <td>140</td>\n",
       "      <td>248</td>\n",
       "      <td>340</td>\n",
       "      <td>448</td>\n",
       "      <td>588</td>\n",
       "      <td>0.421769</td>\n",
       "      <td>114</td>\n",
       "      <td>562</td>\n",
       "      <td>28</td>\n",
       "      <td>476</td>\n",
       "      <td>448</td>\n",
       "      <td>448</td>\n",
       "      <td>0.047619</td>\n",
       "      <td>0.809524</td>\n",
       "      <td>0.193878</td>\n",
       "      <td>0.955782</td>\n",
       "      <td>0.428571</td>\n",
       "      <td>0.574830</td>\n",
       "      <td>0.761905</td>\n",
       "      <td>0.615646</td>\n",
       "      <td>0.045918</td>\n",
       "    </tr>\n",
       "    <tr>\n",
       "      <th>82</th>\n",
       "      <td>82</td>\n",
       "      <td>15</td>\n",
       "      <td>313</td>\n",
       "      <td>328</td>\n",
       "      <td>230</td>\n",
       "      <td>506</td>\n",
       "      <td>408</td>\n",
       "      <td>736</td>\n",
       "      <td>0.312500</td>\n",
       "      <td>314</td>\n",
       "      <td>722</td>\n",
       "      <td>16</td>\n",
       "      <td>424</td>\n",
       "      <td>408</td>\n",
       "      <td>408</td>\n",
       "      <td>0.021739</td>\n",
       "      <td>0.576087</td>\n",
       "      <td>0.426630</td>\n",
       "      <td>0.980978</td>\n",
       "      <td>0.298913</td>\n",
       "      <td>0.703804</td>\n",
       "      <td>0.554348</td>\n",
       "      <td>0.149457</td>\n",
       "      <td>0.020380</td>\n",
       "    </tr>\n",
       "    <tr>\n",
       "      <th>83</th>\n",
       "      <td>83</td>\n",
       "      <td>24</td>\n",
       "      <td>109</td>\n",
       "      <td>133</td>\n",
       "      <td>286</td>\n",
       "      <td>311</td>\n",
       "      <td>464</td>\n",
       "      <td>597</td>\n",
       "      <td>0.479062</td>\n",
       "      <td>110</td>\n",
       "      <td>574</td>\n",
       "      <td>25</td>\n",
       "      <td>489</td>\n",
       "      <td>464</td>\n",
       "      <td>464</td>\n",
       "      <td>0.041876</td>\n",
       "      <td>0.819095</td>\n",
       "      <td>0.184255</td>\n",
       "      <td>0.961474</td>\n",
       "      <td>0.430486</td>\n",
       "      <td>0.572864</td>\n",
       "      <td>0.777219</td>\n",
       "      <td>0.634841</td>\n",
       "      <td>0.040201</td>\n",
       "    </tr>\n",
       "    <tr>\n",
       "      <th>84</th>\n",
       "      <td>84</td>\n",
       "      <td>21</td>\n",
       "      <td>224</td>\n",
       "      <td>245</td>\n",
       "      <td>269</td>\n",
       "      <td>476</td>\n",
       "      <td>500</td>\n",
       "      <td>745</td>\n",
       "      <td>0.361074</td>\n",
       "      <td>225</td>\n",
       "      <td>725</td>\n",
       "      <td>22</td>\n",
       "      <td>522</td>\n",
       "      <td>500</td>\n",
       "      <td>500</td>\n",
       "      <td>0.029530</td>\n",
       "      <td>0.700671</td>\n",
       "      <td>0.302013</td>\n",
       "      <td>0.973154</td>\n",
       "      <td>0.365101</td>\n",
       "      <td>0.637584</td>\n",
       "      <td>0.671141</td>\n",
       "      <td>0.398658</td>\n",
       "      <td>0.028188</td>\n",
       "    </tr>\n",
       "    <tr>\n",
       "      <th>85</th>\n",
       "      <td>85</td>\n",
       "      <td>3</td>\n",
       "      <td>254</td>\n",
       "      <td>257</td>\n",
       "      <td>46</td>\n",
       "      <td>686</td>\n",
       "      <td>475</td>\n",
       "      <td>732</td>\n",
       "      <td>0.062842</td>\n",
       "      <td>255</td>\n",
       "      <td>730</td>\n",
       "      <td>4</td>\n",
       "      <td>479</td>\n",
       "      <td>475</td>\n",
       "      <td>475</td>\n",
       "      <td>0.005464</td>\n",
       "      <td>0.654372</td>\n",
       "      <td>0.348361</td>\n",
       "      <td>0.997268</td>\n",
       "      <td>0.329918</td>\n",
       "      <td>0.672814</td>\n",
       "      <td>0.648907</td>\n",
       "      <td>0.306011</td>\n",
       "      <td>0.004098</td>\n",
       "    </tr>\n",
       "    <tr>\n",
       "      <th>86</th>\n",
       "      <td>86</td>\n",
       "      <td>36</td>\n",
       "      <td>137</td>\n",
       "      <td>173</td>\n",
       "      <td>418</td>\n",
       "      <td>530</td>\n",
       "      <td>775</td>\n",
       "      <td>948</td>\n",
       "      <td>0.440928</td>\n",
       "      <td>138</td>\n",
       "      <td>913</td>\n",
       "      <td>37</td>\n",
       "      <td>812</td>\n",
       "      <td>775</td>\n",
       "      <td>775</td>\n",
       "      <td>0.039030</td>\n",
       "      <td>0.856540</td>\n",
       "      <td>0.145570</td>\n",
       "      <td>0.963080</td>\n",
       "      <td>0.447785</td>\n",
       "      <td>0.554325</td>\n",
       "      <td>0.817511</td>\n",
       "      <td>0.710970</td>\n",
       "      <td>0.037975</td>\n",
       "    </tr>\n",
       "    <tr>\n",
       "      <th>87</th>\n",
       "      <td>87</td>\n",
       "      <td>35</td>\n",
       "      <td>632</td>\n",
       "      <td>667</td>\n",
       "      <td>288</td>\n",
       "      <td>1094</td>\n",
       "      <td>715</td>\n",
       "      <td>1382</td>\n",
       "      <td>0.208394</td>\n",
       "      <td>633</td>\n",
       "      <td>1348</td>\n",
       "      <td>36</td>\n",
       "      <td>751</td>\n",
       "      <td>715</td>\n",
       "      <td>715</td>\n",
       "      <td>0.026049</td>\n",
       "      <td>0.543415</td>\n",
       "      <td>0.458032</td>\n",
       "      <td>0.975398</td>\n",
       "      <td>0.284732</td>\n",
       "      <td>0.716715</td>\n",
       "      <td>0.517366</td>\n",
       "      <td>0.085384</td>\n",
       "      <td>0.025326</td>\n",
       "    </tr>\n",
       "    <tr>\n",
       "      <th>88</th>\n",
       "      <td>88</td>\n",
       "      <td>33</td>\n",
       "      <td>162</td>\n",
       "      <td>195</td>\n",
       "      <td>182</td>\n",
       "      <td>470</td>\n",
       "      <td>457</td>\n",
       "      <td>652</td>\n",
       "      <td>0.279141</td>\n",
       "      <td>163</td>\n",
       "      <td>620</td>\n",
       "      <td>34</td>\n",
       "      <td>491</td>\n",
       "      <td>457</td>\n",
       "      <td>457</td>\n",
       "      <td>0.052147</td>\n",
       "      <td>0.753067</td>\n",
       "      <td>0.250000</td>\n",
       "      <td>0.950920</td>\n",
       "      <td>0.402607</td>\n",
       "      <td>0.600460</td>\n",
       "      <td>0.700920</td>\n",
       "      <td>0.503067</td>\n",
       "      <td>0.050613</td>\n",
       "    </tr>\n",
       "  </tbody>\n",
       "</table>\n",
       "</div>"
      ],
      "text/plain": [
       "    day  obs_orange  obs_green  total_obs  true_orange  true_green  unknown  \\\n",
       "79   79          33        203        236          186         518      468   \n",
       "80   80          46        293        339          198         676      535   \n",
       "81   81          27        113        140          248         340      448   \n",
       "82   82          15        313        328          230         506      408   \n",
       "83   83          24        109        133          286         311      464   \n",
       "84   84          21        224        245          269         476      500   \n",
       "85   85           3        254        257           46         686      475   \n",
       "86   86          36        137        173          418         530      775   \n",
       "87   87          35        632        667          288        1094      715   \n",
       "88   88          33        162        195          182         470      457   \n",
       "\n",
       "    total  true_orange_ratio  min_green  max_green  min_orange  max_orange  \\\n",
       "79    704           0.264205        204        672          34         502   \n",
       "80    874           0.226545        294        829          47         582   \n",
       "81    588           0.421769        114        562          28         476   \n",
       "82    736           0.312500        314        722          16         424   \n",
       "83    597           0.479062        110        574          25         489   \n",
       "84    745           0.361074        225        725          22         522   \n",
       "85    732           0.062842        255        730           4         479   \n",
       "86    948           0.440928        138        913          37         812   \n",
       "87   1382           0.208394        633       1348          36         751   \n",
       "88    652           0.279141        163        620          34         491   \n",
       "\n",
       "    orange_range  green_range  min_orange_ratio  max_orange_ratio  \\\n",
       "79           468          468          0.048295          0.713068   \n",
       "80           535          535          0.053776          0.665904   \n",
       "81           448          448          0.047619          0.809524   \n",
       "82           408          408          0.021739          0.576087   \n",
       "83           464          464          0.041876          0.819095   \n",
       "84           500          500          0.029530          0.700671   \n",
       "85           475          475          0.005464          0.654372   \n",
       "86           775          775          0.039030          0.856540   \n",
       "87           715          715          0.026049          0.543415   \n",
       "88           457          457          0.052147          0.753067   \n",
       "\n",
       "    min_green_ratio  max_green_ratio  mean_orange_ratio  mean_green_ratio  \\\n",
       "79         0.289773         0.954545           0.380682          0.622159   \n",
       "80         0.336384         0.948513           0.359840          0.642449   \n",
       "81         0.193878         0.955782           0.428571          0.574830   \n",
       "82         0.426630         0.980978           0.298913          0.703804   \n",
       "83         0.184255         0.961474           0.430486          0.572864   \n",
       "84         0.302013         0.973154           0.365101          0.637584   \n",
       "85         0.348361         0.997268           0.329918          0.672814   \n",
       "86         0.145570         0.963080           0.447785          0.554325   \n",
       "87         0.458032         0.975398           0.284732          0.716715   \n",
       "88         0.250000         0.950920           0.402607          0.600460   \n",
       "\n",
       "    orange_ratio_range  crossover      test  \n",
       "79            0.664773   0.423295  0.046875  \n",
       "80            0.612128   0.329519  0.052632  \n",
       "81            0.761905   0.615646  0.045918  \n",
       "82            0.554348   0.149457  0.020380  \n",
       "83            0.777219   0.634841  0.040201  \n",
       "84            0.671141   0.398658  0.028188  \n",
       "85            0.648907   0.306011  0.004098  \n",
       "86            0.817511   0.710970  0.037975  \n",
       "87            0.517366   0.085384  0.025326  \n",
       "88            0.700920   0.503067  0.050613  "
      ]
     },
     "execution_count": 35,
     "metadata": {},
     "output_type": "execute_result"
    }
   ],
   "source": [
    "df[79:89]"
   ]
  },
  {
   "cell_type": "code",
   "execution_count": 36,
   "id": "a2a74abb-76ca-4034-86e0-5c01916ed2de",
   "metadata": {},
   "outputs": [
    {
     "data": {
      "text/html": [
       "<div>\n",
       "<style scoped>\n",
       "    .dataframe tbody tr th:only-of-type {\n",
       "        vertical-align: middle;\n",
       "    }\n",
       "\n",
       "    .dataframe tbody tr th {\n",
       "        vertical-align: top;\n",
       "    }\n",
       "\n",
       "    .dataframe thead th {\n",
       "        text-align: right;\n",
       "    }\n",
       "</style>\n",
       "<table border=\"1\" class=\"dataframe\">\n",
       "  <thead>\n",
       "    <tr style=\"text-align: right;\">\n",
       "      <th></th>\n",
       "      <th>day</th>\n",
       "      <th>obs_orange</th>\n",
       "      <th>obs_green</th>\n",
       "      <th>total_obs</th>\n",
       "      <th>true_orange</th>\n",
       "      <th>true_green</th>\n",
       "      <th>unknown</th>\n",
       "      <th>total</th>\n",
       "      <th>true_orange_ratio</th>\n",
       "      <th>min_green</th>\n",
       "      <th>max_green</th>\n",
       "      <th>min_orange</th>\n",
       "      <th>max_orange</th>\n",
       "      <th>orange_range</th>\n",
       "      <th>green_range</th>\n",
       "      <th>min_orange_ratio</th>\n",
       "      <th>max_orange_ratio</th>\n",
       "      <th>min_green_ratio</th>\n",
       "      <th>max_green_ratio</th>\n",
       "      <th>mean_orange_ratio</th>\n",
       "      <th>mean_green_ratio</th>\n",
       "      <th>orange_ratio_range</th>\n",
       "      <th>crossover</th>\n",
       "      <th>test</th>\n",
       "    </tr>\n",
       "  </thead>\n",
       "  <tbody>\n",
       "    <tr>\n",
       "      <th>count</th>\n",
       "      <td>1000.000000</td>\n",
       "      <td>1000.000000</td>\n",
       "      <td>1000.000000</td>\n",
       "      <td>1000.000000</td>\n",
       "      <td>1000.000000</td>\n",
       "      <td>1000.000000</td>\n",
       "      <td>1000.000000</td>\n",
       "      <td>1000.000000</td>\n",
       "      <td>1000.000000</td>\n",
       "      <td>1000.000000</td>\n",
       "      <td>1000.000000</td>\n",
       "      <td>1000.000000</td>\n",
       "      <td>1000.000000</td>\n",
       "      <td>1000.000000</td>\n",
       "      <td>1000.000000</td>\n",
       "      <td>1000.000000</td>\n",
       "      <td>1000.000000</td>\n",
       "      <td>1000.000000</td>\n",
       "      <td>1000.000000</td>\n",
       "      <td>1000.000000</td>\n",
       "      <td>1000.000000</td>\n",
       "      <td>1000.000000</td>\n",
       "      <td>1000.000000</td>\n",
       "      <td>1.000000e+03</td>\n",
       "    </tr>\n",
       "    <tr>\n",
       "      <th>mean</th>\n",
       "      <td>499.500000</td>\n",
       "      <td>19.931000</td>\n",
       "      <td>238.522000</td>\n",
       "      <td>258.453000</td>\n",
       "      <td>202.497000</td>\n",
       "      <td>597.557000</td>\n",
       "      <td>541.601000</td>\n",
       "      <td>800.054000</td>\n",
       "      <td>0.260226</td>\n",
       "      <td>239.522000</td>\n",
       "      <td>781.123000</td>\n",
       "      <td>20.931000</td>\n",
       "      <td>562.532000</td>\n",
       "      <td>541.601000</td>\n",
       "      <td>541.601000</td>\n",
       "      <td>0.026857</td>\n",
       "      <td>0.706276</td>\n",
       "      <td>0.296464</td>\n",
       "      <td>0.975882</td>\n",
       "      <td>0.366567</td>\n",
       "      <td>0.636173</td>\n",
       "      <td>0.679418</td>\n",
       "      <td>0.409812</td>\n",
       "      <td>2.548785e-02</td>\n",
       "    </tr>\n",
       "    <tr>\n",
       "      <th>std</th>\n",
       "      <td>288.819436</td>\n",
       "      <td>13.713873</td>\n",
       "      <td>100.556328</td>\n",
       "      <td>102.394347</td>\n",
       "      <td>92.638026</td>\n",
       "      <td>198.868327</td>\n",
       "      <td>158.350544</td>\n",
       "      <td>219.927664</td>\n",
       "      <td>0.117565</td>\n",
       "      <td>100.556328</td>\n",
       "      <td>216.138024</td>\n",
       "      <td>13.713873</td>\n",
       "      <td>162.918598</td>\n",
       "      <td>158.350544</td>\n",
       "      <td>158.350544</td>\n",
       "      <td>0.017411</td>\n",
       "      <td>0.087092</td>\n",
       "      <td>0.086947</td>\n",
       "      <td>0.017282</td>\n",
       "      <td>0.047086</td>\n",
       "      <td>0.046927</td>\n",
       "      <td>0.083116</td>\n",
       "      <td>0.174036</td>\n",
       "      <td>1.733957e-02</td>\n",
       "    </tr>\n",
       "    <tr>\n",
       "      <th>min</th>\n",
       "      <td>0.000000</td>\n",
       "      <td>0.000000</td>\n",
       "      <td>6.000000</td>\n",
       "      <td>23.000000</td>\n",
       "      <td>5.000000</td>\n",
       "      <td>25.000000</td>\n",
       "      <td>130.000000</td>\n",
       "      <td>198.000000</td>\n",
       "      <td>0.008511</td>\n",
       "      <td>7.000000</td>\n",
       "      <td>190.000000</td>\n",
       "      <td>1.000000</td>\n",
       "      <td>133.000000</td>\n",
       "      <td>130.000000</td>\n",
       "      <td>130.000000</td>\n",
       "      <td>0.000946</td>\n",
       "      <td>0.424749</td>\n",
       "      <td>0.031963</td>\n",
       "      <td>0.885145</td>\n",
       "      <td>0.216555</td>\n",
       "      <td>0.479452</td>\n",
       "      <td>0.416388</td>\n",
       "      <td>-0.153846</td>\n",
       "      <td>-5.421011e-17</td>\n",
       "    </tr>\n",
       "    <tr>\n",
       "      <th>25%</th>\n",
       "      <td>249.750000</td>\n",
       "      <td>9.000000</td>\n",
       "      <td>169.000000</td>\n",
       "      <td>186.000000</td>\n",
       "      <td>134.000000</td>\n",
       "      <td>464.000000</td>\n",
       "      <td>432.000000</td>\n",
       "      <td>650.500000</td>\n",
       "      <td>0.176649</td>\n",
       "      <td>170.000000</td>\n",
       "      <td>632.750000</td>\n",
       "      <td>10.000000</td>\n",
       "      <td>451.000000</td>\n",
       "      <td>432.000000</td>\n",
       "      <td>432.000000</td>\n",
       "      <td>0.013878</td>\n",
       "      <td>0.649076</td>\n",
       "      <td>0.233519</td>\n",
       "      <td>0.966411</td>\n",
       "      <td>0.333831</td>\n",
       "      <td>0.603346</td>\n",
       "      <td>0.625468</td>\n",
       "      <td>0.295269</td>\n",
       "      <td>1.242919e-02</td>\n",
       "    </tr>\n",
       "    <tr>\n",
       "      <th>50%</th>\n",
       "      <td>499.500000</td>\n",
       "      <td>17.000000</td>\n",
       "      <td>227.500000</td>\n",
       "      <td>244.000000</td>\n",
       "      <td>198.000000</td>\n",
       "      <td>587.500000</td>\n",
       "      <td>532.500000</td>\n",
       "      <td>789.500000</td>\n",
       "      <td>0.251904</td>\n",
       "      <td>228.500000</td>\n",
       "      <td>769.500000</td>\n",
       "      <td>18.000000</td>\n",
       "      <td>553.500000</td>\n",
       "      <td>532.500000</td>\n",
       "      <td>532.500000</td>\n",
       "      <td>0.024089</td>\n",
       "      <td>0.711199</td>\n",
       "      <td>0.291704</td>\n",
       "      <td>0.978507</td>\n",
       "      <td>0.368293</td>\n",
       "      <td>0.634184</td>\n",
       "      <td>0.681930</td>\n",
       "      <td>0.419441</td>\n",
       "      <td>2.292997e-02</td>\n",
       "    </tr>\n",
       "    <tr>\n",
       "      <th>75%</th>\n",
       "      <td>749.250000</td>\n",
       "      <td>28.000000</td>\n",
       "      <td>302.250000</td>\n",
       "      <td>324.000000</td>\n",
       "      <td>268.250000</td>\n",
       "      <td>730.000000</td>\n",
       "      <td>646.500000</td>\n",
       "      <td>953.000000</td>\n",
       "      <td>0.327525</td>\n",
       "      <td>303.250000</td>\n",
       "      <td>928.250000</td>\n",
       "      <td>29.000000</td>\n",
       "      <td>673.250000</td>\n",
       "      <td>646.500000</td>\n",
       "      <td>646.500000</td>\n",
       "      <td>0.036330</td>\n",
       "      <td>0.769591</td>\n",
       "      <td>0.353884</td>\n",
       "      <td>0.988954</td>\n",
       "      <td>0.399126</td>\n",
       "      <td>0.668885</td>\n",
       "      <td>0.740193</td>\n",
       "      <td>0.535670</td>\n",
       "      <td>3.487902e-02</td>\n",
       "    </tr>\n",
       "    <tr>\n",
       "      <th>max</th>\n",
       "      <td>999.000000</td>\n",
       "      <td>84.000000</td>\n",
       "      <td>632.000000</td>\n",
       "      <td>667.000000</td>\n",
       "      <td>536.000000</td>\n",
       "      <td>1336.000000</td>\n",
       "      <td>1168.000000</td>\n",
       "      <td>1673.000000</td>\n",
       "      <td>0.885845</td>\n",
       "      <td>633.000000</td>\n",
       "      <td>1637.000000</td>\n",
       "      <td>85.000000</td>\n",
       "      <td>1206.000000</td>\n",
       "      <td>1168.000000</td>\n",
       "      <td>1168.000000</td>\n",
       "      <td>0.117917</td>\n",
       "      <td>0.977169</td>\n",
       "      <td>0.578595</td>\n",
       "      <td>1.003378</td>\n",
       "      <td>0.529680</td>\n",
       "      <td>0.786789</td>\n",
       "      <td>0.907205</td>\n",
       "      <td>0.945205</td>\n",
       "      <td>1.163859e-01</td>\n",
       "    </tr>\n",
       "  </tbody>\n",
       "</table>\n",
       "</div>"
      ],
      "text/plain": [
       "               day   obs_orange    obs_green    total_obs  true_orange  \\\n",
       "count  1000.000000  1000.000000  1000.000000  1000.000000  1000.000000   \n",
       "mean    499.500000    19.931000   238.522000   258.453000   202.497000   \n",
       "std     288.819436    13.713873   100.556328   102.394347    92.638026   \n",
       "min       0.000000     0.000000     6.000000    23.000000     5.000000   \n",
       "25%     249.750000     9.000000   169.000000   186.000000   134.000000   \n",
       "50%     499.500000    17.000000   227.500000   244.000000   198.000000   \n",
       "75%     749.250000    28.000000   302.250000   324.000000   268.250000   \n",
       "max     999.000000    84.000000   632.000000   667.000000   536.000000   \n",
       "\n",
       "        true_green      unknown        total  true_orange_ratio    min_green  \\\n",
       "count  1000.000000  1000.000000  1000.000000        1000.000000  1000.000000   \n",
       "mean    597.557000   541.601000   800.054000           0.260226   239.522000   \n",
       "std     198.868327   158.350544   219.927664           0.117565   100.556328   \n",
       "min      25.000000   130.000000   198.000000           0.008511     7.000000   \n",
       "25%     464.000000   432.000000   650.500000           0.176649   170.000000   \n",
       "50%     587.500000   532.500000   789.500000           0.251904   228.500000   \n",
       "75%     730.000000   646.500000   953.000000           0.327525   303.250000   \n",
       "max    1336.000000  1168.000000  1673.000000           0.885845   633.000000   \n",
       "\n",
       "         max_green   min_orange   max_orange  orange_range  green_range  \\\n",
       "count  1000.000000  1000.000000  1000.000000   1000.000000  1000.000000   \n",
       "mean    781.123000    20.931000   562.532000    541.601000   541.601000   \n",
       "std     216.138024    13.713873   162.918598    158.350544   158.350544   \n",
       "min     190.000000     1.000000   133.000000    130.000000   130.000000   \n",
       "25%     632.750000    10.000000   451.000000    432.000000   432.000000   \n",
       "50%     769.500000    18.000000   553.500000    532.500000   532.500000   \n",
       "75%     928.250000    29.000000   673.250000    646.500000   646.500000   \n",
       "max    1637.000000    85.000000  1206.000000   1168.000000  1168.000000   \n",
       "\n",
       "       min_orange_ratio  max_orange_ratio  min_green_ratio  max_green_ratio  \\\n",
       "count       1000.000000       1000.000000      1000.000000      1000.000000   \n",
       "mean           0.026857          0.706276         0.296464         0.975882   \n",
       "std            0.017411          0.087092         0.086947         0.017282   \n",
       "min            0.000946          0.424749         0.031963         0.885145   \n",
       "25%            0.013878          0.649076         0.233519         0.966411   \n",
       "50%            0.024089          0.711199         0.291704         0.978507   \n",
       "75%            0.036330          0.769591         0.353884         0.988954   \n",
       "max            0.117917          0.977169         0.578595         1.003378   \n",
       "\n",
       "       mean_orange_ratio  mean_green_ratio  orange_ratio_range    crossover  \\\n",
       "count        1000.000000       1000.000000         1000.000000  1000.000000   \n",
       "mean            0.366567          0.636173            0.679418     0.409812   \n",
       "std             0.047086          0.046927            0.083116     0.174036   \n",
       "min             0.216555          0.479452            0.416388    -0.153846   \n",
       "25%             0.333831          0.603346            0.625468     0.295269   \n",
       "50%             0.368293          0.634184            0.681930     0.419441   \n",
       "75%             0.399126          0.668885            0.740193     0.535670   \n",
       "max             0.529680          0.786789            0.907205     0.945205   \n",
       "\n",
       "               test  \n",
       "count  1.000000e+03  \n",
       "mean   2.548785e-02  \n",
       "std    1.733957e-02  \n",
       "min   -5.421011e-17  \n",
       "25%    1.242919e-02  \n",
       "50%    2.292997e-02  \n",
       "75%    3.487902e-02  \n",
       "max    1.163859e-01  "
      ]
     },
     "execution_count": 36,
     "metadata": {},
     "output_type": "execute_result"
    }
   ],
   "source": [
    "df_desc = df.describe()\n",
    "df_desc"
   ]
  },
  {
   "cell_type": "code",
   "execution_count": 37,
   "id": "5ecd2587-27da-414a-b1f3-bfb20d8ec607",
   "metadata": {},
   "outputs": [
    {
     "data": {
      "text/plain": [
       "(0.02685749809646756,\n",
       " 0.70627559516894,\n",
       " 0.26022555656830276,\n",
       " 0.48905751178272266)"
      ]
     },
     "execution_count": 37,
     "metadata": {},
     "output_type": "execute_result"
    }
   ],
   "source": [
    "est_orange_ratio = np.mean([(df_desc.loc['min', 'min_orange_ratio']), (df_desc.loc['max', 'max_orange_ratio'])])\n",
    "# obs_orange_ratio = \n",
    "df_desc.loc['mean', 'min_orange_ratio'], df_desc.loc['mean', 'max_orange_ratio'], df_desc.loc['mean', 'true_orange_ratio'], est_orange_ratio"
   ]
  },
  {
   "cell_type": "code",
   "execution_count": 16,
   "id": "d50f293e-7f93-434b-ae8c-d6a333516ec1",
   "metadata": {},
   "outputs": [
    {
     "ename": "NameError",
     "evalue": "name 'stop' is not defined",
     "output_type": "error",
     "traceback": [
      "\u001b[0;31m---------------------------------------------------------------------------\u001b[0m",
      "\u001b[0;31mNameError\u001b[0m                                 Traceback (most recent call last)",
      "\u001b[0;32m/tmp/ipykernel_745118/3957423419.py\u001b[0m in \u001b[0;36m<module>\u001b[0;34m\u001b[0m\n\u001b[0;32m----> 1\u001b[0;31m \u001b[0mstop\u001b[0m\u001b[0;34m\u001b[0m\u001b[0;34m\u001b[0m\u001b[0m\n\u001b[0m",
      "\u001b[0;31mNameError\u001b[0m: name 'stop' is not defined"
     ]
    }
   ],
   "source": [
    "stop"
   ]
  },
  {
   "cell_type": "code",
   "execution_count": null,
   "id": "8502861a-e440-4bad-8844-e375b74976b1",
   "metadata": {},
   "outputs": [],
   "source": [
    "sns.pairplot(df[['true_orange_ratio', 'min_orange_ratio', 'max_orange_ratio', 'mean_orange_ratio', 'orange_ratio_range']]);"
   ]
  },
  {
   "cell_type": "code",
   "execution_count": null,
   "id": "e6cfa174-31c1-4176-8428-c6483dfe6acc",
   "metadata": {},
   "outputs": [],
   "source": [
    "sns.pairplot(df[['true_orange', 'min_orange', 'max_orange', 'orange_range']]);"
   ]
  },
  {
   "cell_type": "code",
   "execution_count": null,
   "id": "b4aac5a9-c1c8-4518-8cc2-d51f1acdee01",
   "metadata": {},
   "outputs": [],
   "source": []
  },
  {
   "cell_type": "code",
   "execution_count": null,
   "id": "34773e1e-e67d-44ad-a913-61ccf83e7b40",
   "metadata": {},
   "outputs": [],
   "source": []
  },
  {
   "cell_type": "code",
   "execution_count": null,
   "id": "3564e23b-cb53-4076-a9be-bc655a8abceb",
   "metadata": {},
   "outputs": [],
   "source": []
  },
  {
   "cell_type": "code",
   "execution_count": null,
   "id": "1cace1a4-75de-4999-bbc4-a5587c12ee32",
   "metadata": {},
   "outputs": [],
   "source": []
  },
  {
   "cell_type": "code",
   "execution_count": null,
   "id": "ee6b1a75-4c60-464d-be72-fd61847f47c1",
   "metadata": {},
   "outputs": [],
   "source": []
  },
  {
   "cell_type": "code",
   "execution_count": null,
   "id": "3ba7ddb5-e3bd-42b9-92a2-dacd50caa3ee",
   "metadata": {},
   "outputs": [],
   "source": []
  },
  {
   "cell_type": "code",
   "execution_count": null,
   "id": "6e077682-5b3e-4fd1-b608-40e27f457562",
   "metadata": {},
   "outputs": [],
   "source": [
    "stop"
   ]
  },
  {
   "cell_type": "code",
   "execution_count": null,
   "id": "d6fe544d-4e61-465c-a34a-8f61f4c02a21",
   "metadata": {},
   "outputs": [],
   "source": [
    "df = df_orig.copy()\n",
    "p = (ggplot(df, aes('total'))+\n",
    "     geom_histogram(fill='none', color='black', bins=40) +\n",
    "     geom_vline(xintercept=gen_params['true_orange_mu'], color='orange') +\n",
    "     geom_vline(xintercept=gen_params['true_green_mu'], color='green') +\n",
    "     geom_vline(xintercept= df['total'].mean(), color='black') +\n",
    "     labs(title='Count of total per day\\n true orange mean, true green mean, total mean black')\n",
    "    )\n",
    "p.draw();"
   ]
  },
  {
   "cell_type": "code",
   "execution_count": null,
   "id": "d9756b87-33f7-4550-af8f-e256a52cc8aa",
   "metadata": {},
   "outputs": [],
   "source": [
    "df = df_orig.copy()\n",
    "p = (ggplot(df, aes('total_obs'))+\n",
    "     geom_histogram(fill='none', color='black', bins=40) +\n",
    "     geom_vline(xintercept=gen_params['true_orange_mu'], color='orange') +\n",
    "     geom_vline(xintercept=gen_params['true_green_mu'], color='green') +\n",
    "     geom_vline(xintercept= df['total'].mean(), color='black') +\n",
    "     labs(title='Count of total color observations\\n true orange mean, true green mean, total mean black')\n",
    "    )\n",
    "p.draw();"
   ]
  },
  {
   "cell_type": "code",
   "execution_count": null,
   "id": "08412d64-922f-42db-831b-580aa29a753a",
   "metadata": {},
   "outputs": [],
   "source": [
    "df = df_orig.copy()\n",
    "p = (ggplot(df, aes('unknown'))+\n",
    "     geom_histogram(fill='none', color='black', bins=40) +\n",
    "     geom_vline(xintercept=gen_params['true_orange_mu'], color='orange') +\n",
    "     geom_vline(xintercept=gen_params['true_green_mu'], color='green') +\n",
    "     geom_vline(xintercept= df['total'].mean(), color='black') +\n",
    "     labs(title='Count of total color observations\\n true orange mean, true green mean, total mean black')\n",
    "    )\n",
    "p.draw();"
   ]
  },
  {
   "cell_type": "code",
   "execution_count": null,
   "id": "76351307-92ae-423d-8022-d93beb59db44",
   "metadata": {},
   "outputs": [],
   "source": [
    "df = df_orig.copy()\n",
    "p = (ggplot(df)+\n",
    "     geom_histogram( aes('obs_orange'), fill='none', color='orange', bins=30) +\n",
    "     geom_histogram( aes('obs_green'), fill='none', color='green', bins=20) +\n",
    "     \n",
    "     # geom_vline(xintercept=gen_params['true_orange_mu'], color='orange') +\n",
    "     # geom_vline(xintercept=gen_params['true_green_mu'], color='green') +\n",
    "     # geom_vline(xintercept= df['total'].mean(), color='black') +\n",
    "     labs(title='Count of coloured observations\\n orange obs, green obs')\n",
    "    )\n",
    "p.draw();"
   ]
  },
  {
   "cell_type": "code",
   "execution_count": null,
   "id": "ae632cfd-8405-4575-9ddd-4a4db41df517",
   "metadata": {},
   "outputs": [],
   "source": [
    "df.describe()"
   ]
  },
  {
   "cell_type": "code",
   "execution_count": null,
   "id": "bdacda98-c9d8-4b1e-a881-af7093c4bba5",
   "metadata": {},
   "outputs": [],
   "source": [
    "mu_unknown = df['unknown'].mean()\n",
    "mu_total = df['total'].mean()\n",
    "mu_obs = (df['obs_green'] + df['obs_orange']).mean()\n",
    "mu_obs, mu_unknown, mu_total, mu_obs + mu_unknown"
   ]
  },
  {
   "cell_type": "code",
   "execution_count": null,
   "id": "00d7b8d6-c5b7-4700-a9f3-d1d5fd789d1f",
   "metadata": {},
   "outputs": [],
   "source": [
    "df"
   ]
  },
  {
   "cell_type": "code",
   "execution_count": null,
   "id": "2429b74e-b162-4916-b927-ee2dba65a29d",
   "metadata": {},
   "outputs": [],
   "source": [
    "# df['min_orange_ratio'] = (df['min_orange'] - df['max_green']) / df['total']\n",
    "# df['max_orange_ratio'] = (df['max_orange'] - df['min_green']) / df['total']\n",
    "# df"
   ]
  },
  {
   "cell_type": "code",
   "execution_count": null,
   "id": "91f72d78-a3ed-4a6d-93e6-5ddc421497b6",
   "metadata": {},
   "outputs": [],
   "source": [
    "est_true_orange_ratio = df[['min_orange_ratio', 'max_orange_ratio']].mean().mean()"
   ]
  },
  {
   "cell_type": "code",
   "execution_count": null,
   "id": "623643ba-df21-4a25-8c6b-a8d12b665b3b",
   "metadata": {},
   "outputs": [],
   "source": []
  },
  {
   "cell_type": "code",
   "execution_count": null,
   "id": "2268b3d1-6945-47b1-8cc6-7bc69917bfad",
   "metadata": {},
   "outputs": [],
   "source": []
  },
  {
   "cell_type": "code",
   "execution_count": null,
   "id": "c2c6515e-f30d-48d4-acf3-25d31d0c9db0",
   "metadata": {},
   "outputs": [],
   "source": []
  },
  {
   "cell_type": "code",
   "execution_count": null,
   "id": "f0f8b6dc-d655-46fd-95a5-ed9ba6ffbdef",
   "metadata": {},
   "outputs": [],
   "source": []
  },
  {
   "cell_type": "code",
   "execution_count": null,
   "id": "d83539d4-d529-455b-aaf1-e25432714e74",
   "metadata": {},
   "outputs": [],
   "source": [
    "stop"
   ]
  },
  {
   "cell_type": "code",
   "execution_count": null,
   "id": "3d1e6f3c-907d-47a2-a9e9-ee1b185f51f7",
   "metadata": {},
   "outputs": [],
   "source": [
    "p_obs_orange_given_green = 0\n",
    "p_orange_given_obs_orange = 1\n",
    "p_orange = (df['true_orange'] / df['total']).mean()\n",
    "p_obs_orange = (df['obs_orange'] / df['total']).mean()\n",
    "# p_obs_green = (df['obs_green'] / df['total']).mean()\n",
    "p_obs_orange_given_orange = (df['obs_orange'] / df['true_orange']).mean()\n",
    "p_orange, p_obs_orange, p_obs_orange_given_orange, p_obs_orange / p_obs_orange_given_orange\n",
    "# p_obs_orange , p_obs= df\n",
    "# # bayes formula\n",
    "# # p_obs_orange | orange = (p_orange | obs_orange  * p_obs_orange ) / p_orange\n",
    "# p_orange = p_obs_orange_given_orang /\n",
    "# p_obs_orange_given_orange"
   ]
  },
  {
   "cell_type": "code",
   "execution_count": null,
   "id": "75d308d1-30b4-440b-9c6d-2bcf30716ca9",
   "metadata": {},
   "outputs": [],
   "source": []
  },
  {
   "cell_type": "code",
   "execution_count": null,
   "id": "4efc6157-5e65-4e6c-ac43-70baf6ff5ec6",
   "metadata": {},
   "outputs": [],
   "source": []
  },
  {
   "cell_type": "code",
   "execution_count": null,
   "id": "17cad71e-5727-441c-b773-0601618e30c5",
   "metadata": {},
   "outputs": [],
   "source": []
  },
  {
   "cell_type": "code",
   "execution_count": null,
   "id": "d521966e-6471-453b-89bb-f46116d1f03b",
   "metadata": {},
   "outputs": [],
   "source": []
  },
  {
   "cell_type": "code",
   "execution_count": null,
   "id": "f262ce0d-a4ae-4342-97e9-32afe88c0080",
   "metadata": {},
   "outputs": [],
   "source": []
  },
  {
   "cell_type": "code",
   "execution_count": null,
   "id": "170e50de-715e-4f1e-b2bf-81b6e7cafad1",
   "metadata": {},
   "outputs": [],
   "source": []
  },
  {
   "cell_type": "code",
   "execution_count": null,
   "id": "7bed711d-81f9-4fea-acfc-d44fc1af30bd",
   "metadata": {},
   "outputs": [],
   "source": []
  },
  {
   "cell_type": "code",
   "execution_count": null,
   "id": "cddf6927-b592-4f68-8a98-057703d573a9",
   "metadata": {},
   "outputs": [],
   "source": [
    "mean_uniform_orange_ratio = (df['mean_orange'] / df['total']).mean()\n",
    "mean_uniform_green_ratio = (df['mean_green'] / df['total']).mean()\n",
    "mean_ratio = mean_uniform_orange_ratio / mean_uniform_green_ratio\n",
    "mean_uniform_orange_ratio\n",
    "# mean_total = df['total'].mean()\n",
    "# mean_orange_ratio = mean_true_orange / mean_total\n",
    "# mean_orange_ratio"
   ]
  },
  {
   "cell_type": "code",
   "execution_count": null,
   "id": "8821a23f-63cd-4e0b-b03b-880cbc13e43e",
   "metadata": {},
   "outputs": [],
   "source": []
  },
  {
   "cell_type": "code",
   "execution_count": null,
   "id": "15be403c-0443-4483-a147-541f18e17861",
   "metadata": {},
   "outputs": [],
   "source": []
  },
  {
   "cell_type": "code",
   "execution_count": null,
   "id": "8eca71a2-9e0d-4f35-9a9e-bcdb28c99864",
   "metadata": {},
   "outputs": [],
   "source": [
    "n_observations = 250\n",
    "\n",
    "true_orange_mu, true_orange_sd = 300, 100\n",
    "true_green_mu, true_green_sd = 600, 200\n",
    "\n",
    "# Fraction of each class that will be observed.\n",
    "obs_pct_orange_mu, obs_pct_orange_sd = 0.10, 0.05\n",
    "obs_pct_green_mu, obs_pct_green_sd = 0.40, 0.10\n",
    "\n",
    "true_orange=pm.TruncatedNormal.dist(true_orange_mu, true_orange_sd, lower=0).random(size=n_observations)\n",
    "true_orange = [int(x) for x in true_orange]\n",
    "true_green=pm.TruncatedNormal.dist(true_green_mu, true_green_sd, lower=0).random(size=n_observations)\n",
    "true_green = [int(x) for x in true_green]\n",
    "pct_obs_orange=pm.TruncatedNormal.dist(obs_pct_orange_mu, obs_pct_orange_sd, lower=0).random(size=n_observations)\n",
    "pct_obs_green=pm.TruncatedNormal.dist(obs_pct_green_mu, obs_pct_green_sd, lower=0).random(size=n_observations)\n",
    "\n",
    "df = pd.DataFrame({'day': range(n_observations), 'true_orange': true_orange, 'true_green': true_green, 'pct_obs_orange': pct_obs_orange, 'pct_obs_green':pct_obs_green})\n",
    "\n",
    "df['total'] = df['true_orange'] + df['true_green']\n",
    "df['obs_orange'] = (df['true_orange'] * df['pct_obs_orange']).astype(int)\n",
    "df['obs_green'] = (df['true_green'] * df['pct_obs_green']).astype(int)\n",
    "df['obs_greenorange'] = df['obs_green'] + df['obs_orange']\n",
    "\n",
    "# df.drop(['pct_obs_orange', 'pct_obs_green'], axis=1, inplace=True)\n",
    "# df = df.round()\n",
    "df"
   ]
  },
  {
   "cell_type": "code",
   "execution_count": null,
   "id": "af0666f5-3aa6-48c5-808c-7e5d48f42a52",
   "metadata": {},
   "outputs": [],
   "source": [
    "df.describe()"
   ]
  },
  {
   "cell_type": "code",
   "execution_count": null,
   "id": "2b196e44-ac1c-4c52-b9f8-c59307894c7b",
   "metadata": {},
   "outputs": [],
   "source": [
    "sns.pairplot(df[['true_green', 'total', 'obs_orange', 'obs_green', 'obs_greenorange']], height=1.4);"
   ]
  },
  {
   "cell_type": "code",
   "execution_count": null,
   "id": "f16402e3-66d9-41bc-a53d-ab0b97cd5bd3",
   "metadata": {},
   "outputs": [],
   "source": [
    "sns.pairplot(df[['true_green', 'total', 'obs_orange', 'obs_green', 'obs_greenorange']], height=1.4);"
   ]
  },
  {
   "cell_type": "code",
   "execution_count": null,
   "id": "0291d42b-e8dd-45ce-9107-7e14020341b5",
   "metadata": {},
   "outputs": [],
   "source": [
    "sns.pairplot(df[['total', 'true_orange', 'true_green', 'obs_orange', 'obs_green', 'obs_greenorange', 'pct_obs_orange']], height=1.4);"
   ]
  },
  {
   "cell_type": "code",
   "execution_count": null,
   "id": "a006e83f-ba3f-4fab-8ecb-0de2021533f3",
   "metadata": {},
   "outputs": [],
   "source": [
    "print(f'Day 0 Counts\\n{df.loc[0]}')\n",
    "fig, ax = plt.subplots(figsize=(16, 3))\n",
    "data_len = 20\n",
    "sns.barplot(x='day', y='value', ax=ax, hue='variable', dodge=True, data=pd.melt(df[['day', 'total', 'true_orange', 'true_green']][0:data_len], ['day']), alpha=1.0);\n",
    "ax.set_title(f'Count of total, orange, green accounts per day for first {data_len} days')\n",
    "plt.xticks(rotation=90)\n",
    "plt.show();"
   ]
  },
  {
   "cell_type": "code",
   "execution_count": null,
   "id": "f0c86dc9-055a-41a9-994b-2fc12d2d605e",
   "metadata": {},
   "outputs": [],
   "source": [
    "print(f'Day 0 Counts\\n{df.loc[0]}')\n",
    "fig, ax = plt.subplots(figsize=(16, 3))\n",
    "data_len = 20\n",
    "sns.barplot(x='day', y='value', ax=ax, hue='variable', dodge=True, data=pd.melt(df[['day', 'total', 'obs_orange', 'obs_green']][0:data_len], ['day']), alpha=1.0);\n",
    "ax.set_title(f'Count of total, orange, green accounts per day for first {data_len} days')\n",
    "plt.xticks(rotation=90)\n",
    "plt.show();"
   ]
  },
  {
   "cell_type": "code",
   "execution_count": null,
   "id": "9d9be1d0-1cb3-4ff7-ae25-fbbeb71ea82c",
   "metadata": {},
   "outputs": [],
   "source": [
    "dfm = df.copy()\n",
    "dfm = dfm[['day', 'total', 'obs_orange', 'obs_green', 'true_green']]\n",
    "dfm"
   ]
  },
  {
   "cell_type": "code",
   "execution_count": null,
   "id": "af85853c-e394-4ded-8e07-0fa546b1b10e",
   "metadata": {},
   "outputs": [],
   "source": [
    "df1 = df.copy()\n",
    "df1['orange_to_green_ratio'] = df1['true_orange'] / df1['true_green']\n",
    "df1['orange_to_total_ratio'] = df1['true_orange'] / df1['total']\n",
    "df1['unknown'] = df1['total'] - df1['obs_orange'] - df1['obs_green']\n",
    "df1['min_orange'] = df1['obs_orange'] + 1\n",
    "df1['min_green'] = df1['obs_green'] + 1\n",
    "df1['max_green'] = df1['total'] - df1['min_orange']\n",
    "df1['max_orange'] = df1['total'] - df1['min_green']\n",
    "df1['min_orange_ratio'] = df1['min_orange'] / df1['total']\n",
    "df1['max_orange_ratio'] = df1['max_orange'] / df1['total']\n",
    "df1['orange_ratio_range'] = df1['max_orange_ratio'] - df1['min_orange_ratio']\n",
    "df1"
   ]
  },
  {
   "cell_type": "code",
   "execution_count": null,
   "id": "ba1f6eab-32b5-4325-a995-106b33952a78",
   "metadata": {},
   "outputs": [],
   "source": []
  },
  {
   "cell_type": "code",
   "execution_count": null,
   "id": "6ae90724-257a-4904-b354-068a4a3cd7d0",
   "metadata": {},
   "outputs": [],
   "source": [
    "# sns.pairplot(dfm_std, height=1.75);"
   ]
  },
  {
   "cell_type": "code",
   "execution_count": null,
   "id": "cf2ec0a6-69d1-4bd3-8a5f-8036f36d4d7f",
   "metadata": {},
   "outputs": [],
   "source": [
    "# TODO - Write model in forward mode and take a look at values\n",
    "# Start by recovering modeling true green"
   ]
  },
  {
   "cell_type": "code",
   "execution_count": null,
   "id": "4f1b796e-700a-4c63-b66d-d6762ce28668",
   "metadata": {},
   "outputs": [],
   "source": [
    "sns.pairplot(dfm[['true_green', 'total']], height=2.4)\n",
    "# plt.grid()\n",
    "plt.show();"
   ]
  },
  {
   "cell_type": "code",
   "execution_count": null,
   "id": "ab790fb9-1b01-4d9a-86b4-6ac768a12223",
   "metadata": {},
   "outputs": [],
   "source": [
    "with pm.Model() as model1:\n",
    "    # data\n",
    "    obs_total = pm.Data('total', dfm['total'].values)\n",
    "    obs_green = pm.Data('obs_green', dfm['obs_green'].values)\n",
    "    true_green = pm.Data('true_green', dfm['true_green'].values)\n",
    "    \n",
    "    # Priors for linear relationship between true green and total \n",
    "    mu_green_intercept = pm.Uniform('mu_green_intercept', -200, 200)\n",
    "    mu_green_beta = pm.Uniform('mu_green_beta', 0, 2)    \n",
    "    sigma_green = pm.HalfNormal('sigma_green', 3)\n",
    "    # Linear relationship between true green and total\n",
    "    mu_green = pm.Deterministic('mu_green', mu_green_intercept + mu_green_beta * obs_total)\n",
    "    true_greenl = pm.Normal('true_greenl', mu_green, sigma_green, observed=true_green)\n",
    "    \n",
    "#     # Priors for relationship between obs_green and true_green\n",
    "#     obs_green_intercept = pm.Uniform('obs_green_intercept', -0.5, 0.5)\n",
    "#     obs_green_beta = pm.Uniform('obs_green_beta', -2, 2)\n",
    "#     sigma_obs_green = pm.HalfNormal('sigma_obs_green', 1)\n",
    "#     # Process\n",
    "#     mu_obs_green = obs_green_intercept + obs_green_beta * true_green\n",
    "#     obs_greenl = pm.Normal('obs_greenl', mu_obs_green, sigma_obs_green, observed=obs_green)\n",
    "    \n",
    "    prior = pm.sample_prior_predictive()\n",
    "    idata_model1 = az.from_pymc3(prior=prior)\n",
    "    # trace = pm.sample()\n",
    "    # idata_model1 = az.from_pymc3(trace=trace)\n",
    "pm.model_to_graphviz(model1) "
   ]
  },
  {
   "cell_type": "code",
   "execution_count": null,
   "id": "d5e2b41f-5ff4-4fe5-8d3a-69db6fd779ff",
   "metadata": {},
   "outputs": [],
   "source": [
    "idata_model1"
   ]
  },
  {
   "cell_type": "code",
   "execution_count": null,
   "id": "549df3a2-93f9-4e19-8fd1-142e6995777e",
   "metadata": {},
   "outputs": [],
   "source": [
    "with model1:\n",
    "    trace = pm.sample(tune=2000, return_inferencedata=False)\n",
    "    post = pm.sample_posterior_predictive(trace)\n",
    "    idata_model1.extend(az.from_pymc3(trace=trace, posterior_predictive=post))    "
   ]
  },
  {
   "cell_type": "code",
   "execution_count": null,
   "id": "b7372cb9-b5f2-4bdc-ab85-b77d93d4fcfa",
   "metadata": {},
   "outputs": [],
   "source": [
    "idata_model1"
   ]
  },
  {
   "cell_type": "code",
   "execution_count": null,
   "id": "95bdca09-ee0d-4802-9335-466478a85647",
   "metadata": {},
   "outputs": [],
   "source": [
    "az.plot_trace(idata_model1.posterior);"
   ]
  },
  {
   "cell_type": "code",
   "execution_count": null,
   "id": "52925671-a632-4d1b-8419-cc55c746e87f",
   "metadata": {},
   "outputs": [],
   "source": [
    "summ = az.summary(idata_model1.posterior_predictive).reset_index(drop=True)\n",
    "df_posterior_check = pd.concat([summ, dfm], axis=1)\n",
    "df_posterior_check"
   ]
  },
  {
   "cell_type": "code",
   "execution_count": null,
   "id": "6442ffed-b8da-41e1-9769-93876813d2ce",
   "metadata": {},
   "outputs": [],
   "source": [
    "p =(ggplot(df_posterior_check[0:100], aes(x='day')) +\n",
    "    geom_ribbon(aes(ymin='hdi_3%', ymax='hdi_97%'), alpha=0.3, fill='blue') +\n",
    "    geom_point(aes(y='true_green'), alpha=0.5, color='black', fill='none') +\n",
    "    geom_point(aes(y='mean'), color='red', alpha=0.2) +\n",
    "    theme(figure_size=(16, 2)) +\n",
    "    labs(title=f'Number of True Green Accounts\\nred: predicted, black: actual, blue: hdi', x='day', y='number of true green')\n",
    "   )\n",
    "p.draw();"
   ]
  },
  {
   "cell_type": "code",
   "execution_count": null,
   "id": "51d2eaa3-f31f-44eb-9674-1988e834b1ff",
   "metadata": {},
   "outputs": [],
   "source": [
    "p =(ggplot(df_posterior_check[0:100], aes(x='mean', y='true_green')) +\n",
    "    geom_point(fill='none') +\n",
    "    geom_abline(intercept=0, slope=1, linetype='dashed') +\n",
    "    geom_ribbon(aes(ymin='hdi_3%', ymax='hdi_97%'), alpha=0.3, fill='blue') +\n",
    "    # geom_point(aes(y='obs_green'), alpha=0.5, color='black') +\n",
    "    # geom_point(aes(y='mean'), color='red', alpha=0.2) +\n",
    "    theme(figure_size=(5, 5)) +\n",
    "    labs(title=f'Pred vs Actual for true green', x='mean predicted true green', y='true green')\n",
    "   )\n",
    "p.draw();"
   ]
  },
  {
   "cell_type": "code",
   "execution_count": null,
   "id": "fb446dde-8ca4-44b2-ae22-ceb4d14a4d11",
   "metadata": {},
   "outputs": [],
   "source": [
    "az.loo(idata_model1)"
   ]
  },
  {
   "cell_type": "code",
   "execution_count": null,
   "id": "50d50691-55d9-4fa8-baad-6119186511ec",
   "metadata": {},
   "outputs": [],
   "source": [
    "# Change normal to StudentT distribution + new prior for nu\n",
    "with pm.Model() as model2:\n",
    "    # data\n",
    "    obs_total = pm.Data('total', dfm['total'].values)\n",
    "    obs_green = pm.Data('obs_green', dfm['obs_green'].values)\n",
    "    true_green = pm.Data('true_green', dfm['true_green'].values)\n",
    "    \n",
    "    # Priors for linear relationship between true green and total \n",
    "    mu_green_intercept = pm.Uniform('mu_green_intercept', -200, 200)\n",
    "    mu_green_beta = pm.Uniform('mu_green_beta', -2, 2)    \n",
    "    sigma_green = pm.HalfNormal('sigma_green', 1)\n",
    "    nu_green = pm.HalfNormal('nu_green', 1)\n",
    "    # Linear relationship between true green and total\n",
    "    mu_green = pm.Deterministic('mu_green', mu_green_intercept + mu_green_beta * obs_total)\n",
    "    true_greenl = pm.StudentT('true_greenl', nu_green, mu_green, sigma_green, observed=true_green)\n",
    "    \n",
    "#     # Priors for relationship between obs_green and true_green\n",
    "#     obs_green_intercept = pm.Uniform('obs_green_intercept', -0.5, 0.5)\n",
    "#     obs_green_beta = pm.Uniform('obs_green_beta', -2, 2)\n",
    "#     sigma_obs_green = pm.HalfNormal('sigma_obs_green', 1)\n",
    "#     # Process\n",
    "#     mu_obs_green = obs_green_intercept + obs_green_beta * true_green\n",
    "#     obs_greenl = pm.Normal('obs_greenl', mu_obs_green, sigma_obs_green, observed=obs_green)\n",
    "    \n",
    "    prior = pm.sample_prior_predictive()\n",
    "    idata_model2 = az.from_pymc3(prior=prior)\n",
    "    # trace = pm.sample()\n",
    "    # idata_model1 = az.from_pymc3(trace=trace)\n",
    "pm.model_to_graphviz(model2)"
   ]
  },
  {
   "cell_type": "code",
   "execution_count": null,
   "id": "496a4338-bdda-45f7-82bb-7f117aac276e",
   "metadata": {},
   "outputs": [],
   "source": [
    "with model2:\n",
    "    trace = pm.sample(return_inferencedata=False)\n",
    "    post = pm.sample_posterior_predictive(trace)\n",
    "    idata_model2.extend(az.from_pymc3(trace=trace, posterior_predictive=post))"
   ]
  },
  {
   "cell_type": "code",
   "execution_count": null,
   "id": "58b2923a-7eff-4968-87c2-54c698b50a80",
   "metadata": {},
   "outputs": [],
   "source": [
    "az.plot_trace(idata_model2.posterior);"
   ]
  },
  {
   "cell_type": "code",
   "execution_count": null,
   "id": "c79258ca-b3bd-4ece-8942-b0ffb2e5a741",
   "metadata": {},
   "outputs": [],
   "source": [
    "az.summary(idata_model2)"
   ]
  },
  {
   "cell_type": "code",
   "execution_count": null,
   "id": "e180c1d1-0605-4a52-8be5-190ea3003c87",
   "metadata": {},
   "outputs": [],
   "source": [
    "summ = az.summary(idata_model2.posterior_predictive).reset_index(drop=True)\n",
    "df_posterior_check = pd.concat([summ, dfm], axis=1)\n",
    "df_posterior_check"
   ]
  },
  {
   "cell_type": "code",
   "execution_count": null,
   "id": "64621f7f-121a-4b56-9e09-f11fef633ff5",
   "metadata": {},
   "outputs": [],
   "source": [
    "p =(ggplot(df_posterior_check[0:100], aes(x='day')) +\n",
    "    geom_ribbon(aes(ymin='hdi_3%', ymax='hdi_97%'), alpha=0.3, fill='blue') +\n",
    "    geom_point(aes(y='true_green'), alpha=0.5, color='black', fill='none') +\n",
    "    geom_point(aes(y='mean'), color='red', alpha=0.2) +\n",
    "    theme(figure_size=(16, 2)) +\n",
    "    labs(title=f'Number of True Green Accounts\\nred: predicted, black: actual, blue: hdi', x='day', y='number of true green')\n",
    "   )\n",
    "p.draw();"
   ]
  },
  {
   "cell_type": "code",
   "execution_count": null,
   "id": "aa70dda9-2dec-4b19-babc-13d4763b82d5",
   "metadata": {},
   "outputs": [],
   "source": [
    "p =(ggplot(df_posterior_check[0:100], aes(x='mean', y='true_green')) +\n",
    "    geom_point(fill='none') +\n",
    "    geom_abline(intercept=0, slope=1, linetype='dashed') +\n",
    "    geom_ribbon(aes(ymin='hdi_3%', ymax='hdi_97%'), alpha=0.3, fill='blue') +\n",
    "    # geom_point(aes(y='obs_green'), alpha=0.5, color='black') +\n",
    "    # geom_point(aes(y='mean'), color='red', alpha=0.2) +\n",
    "    theme(figure_size=(5, 5)) +\n",
    "    labs(title=f'Pred vs Actual for true green', x='mean predicted true green', y='true green')\n",
    "   )\n",
    "p.draw();"
   ]
  },
  {
   "cell_type": "code",
   "execution_count": null,
   "id": "1e201453-ad71-4448-b76e-ecaf0a1c0e6c",
   "metadata": {},
   "outputs": [],
   "source": [
    "az.loo(idata_model2)"
   ]
  },
  {
   "cell_type": "code",
   "execution_count": null,
   "id": "d6ee561f-bd01-4a53-aadd-7f24628808ec",
   "metadata": {},
   "outputs": [],
   "source": [
    "az_compare = az.compare({'model1': idata_model1, 'model2': idata_model2})\n",
    "az_compare"
   ]
  },
  {
   "cell_type": "code",
   "execution_count": null,
   "id": "84309bad-dfe1-498a-81cf-be1ed423ac25",
   "metadata": {},
   "outputs": [],
   "source": [
    "az.plot_compare(az_compare)\n",
    "plt.show();"
   ]
  },
  {
   "cell_type": "code",
   "execution_count": null,
   "id": "9a733aa2-67de-49fe-a7ab-546e09a470d3",
   "metadata": {},
   "outputs": [],
   "source": []
  },
  {
   "cell_type": "code",
   "execution_count": null,
   "id": "7283e139-ab29-4df6-8118-2775efb006fb",
   "metadata": {},
   "outputs": [],
   "source": [
    "sns.pairplot(dfm[['obs_green', 'true_green']], height=2.4)\n",
    "# plt.grid()\n",
    "plt.show();"
   ]
  },
  {
   "cell_type": "code",
   "execution_count": null,
   "id": "7b3c076c-0e7e-4266-85cf-7ee6249ee6dc",
   "metadata": {},
   "outputs": [],
   "source": [
    "with pm.Model() as model3:\n",
    "    # data\n",
    "    obs_total = pm.Data('total', dfm['total'].values)\n",
    "    obs_green = pm.Data('obs_green', dfm['obs_green'].values)\n",
    "    true_green = pm.Data('true_green', dfm['true_green'].values)\n",
    "    \n",
    "    # # Priors for linear relationship between true green and total \n",
    "    # mu_green_intercept = pm.Uniform('mu_green_intercept', -0.5, 0.5)\n",
    "    # mu_green_beta = pm.Uniform('mu_green_beta', -2, 2)    \n",
    "    # sigma_green = pm.HalfNormal('sigma_green', 3)\n",
    "    # # Linear relationship between true green and total\n",
    "    # mu_green = pm.Deterministic('mu_green', mu_green_intercept + mu_green_beta * obs_total)\n",
    "    # true_greenl = pm.Normal('true_greenl', mu_green, sigma_green, observed=true_green)\n",
    "    \n",
    "    # Priors for relationship between obs_green and true_green\n",
    "    obs_green_intercept = pm.Uniform('obs_green_intercept', -200, 200)\n",
    "    obs_green_beta = pm.Uniform('obs_green_beta', -2, 2)\n",
    "    sigma_obs_green = pm.HalfNormal('sigma_obs_green', 3)\n",
    "    # Process\n",
    "    mu_obs_green = pm.Deterministic('mu_obs_green', obs_green_intercept + obs_green_beta * true_green)\n",
    "    obs_greenl = pm.Normal('obs_greenl', mu_obs_green, sigma_obs_green, observed=obs_green)\n",
    "    \n",
    "    prior = pm.sample_prior_predictive()\n",
    "    idata_model3 = az.from_pymc3(prior=prior)\n",
    "    # trace = pm.sample()\n",
    "    # idata_model1 = az.from_pymc3(trace=trace)\n",
    "pm.model_to_graphviz(model3) "
   ]
  },
  {
   "cell_type": "code",
   "execution_count": null,
   "id": "d6e4891c-dff2-414a-9e73-c0b470a9df0a",
   "metadata": {},
   "outputs": [],
   "source": [
    "with model3:\n",
    "    trace = pm.sample(return_inferencedata=False)\n",
    "    post = pm.sample_posterior_predictive(trace)\n",
    "    idata_model3.extend(az.from_pymc3(trace=trace, posterior_predictive=post))"
   ]
  },
  {
   "cell_type": "code",
   "execution_count": null,
   "id": "8fa6393c-9fa9-4484-b4f6-176b66f1d1bd",
   "metadata": {},
   "outputs": [],
   "source": [
    "az.plot_trace(idata_model3.posterior);"
   ]
  },
  {
   "cell_type": "code",
   "execution_count": null,
   "id": "e1971d22-f97d-41cc-a670-d50da8ade435",
   "metadata": {},
   "outputs": [],
   "source": [
    "summ = az.summary(idata_model3.posterior_predictive).reset_index(drop=True)\n",
    "df_posterior_check = pd.concat([summ, dfm], axis=1)\n",
    "df_posterior_check"
   ]
  },
  {
   "cell_type": "code",
   "execution_count": null,
   "id": "054ef19b-3f03-4f54-bb02-bd48460780c0",
   "metadata": {},
   "outputs": [],
   "source": [
    "p =(ggplot(df_posterior_check[0:100], aes(x='day')) +\n",
    "    geom_ribbon(aes(ymin='hdi_3%', ymax='hdi_97%'), alpha=0.3, fill='blue') +\n",
    "    geom_point(aes(y='obs_green'), alpha=0.5, color='black', fill='none') +\n",
    "    geom_point(aes(y='mean'), color='red', alpha=0.2) +\n",
    "    theme(figure_size=(16, 2)) +\n",
    "    labs(title=f'Number of Observed Green Accounts\\nred: predicted, black: actual, blue: hdi', x='day', y='number of observed green')\n",
    "   )\n",
    "p.draw();"
   ]
  },
  {
   "cell_type": "code",
   "execution_count": null,
   "id": "2015e94b-f3ce-48ca-816b-1d5b8c71e5fc",
   "metadata": {},
   "outputs": [],
   "source": [
    "p =(ggplot(df_posterior_check, aes(x='mean', y='obs_green')) +\n",
    "    geom_point(fill='none') +\n",
    "    geom_abline(intercept=0, slope=1, linetype='dashed') +\n",
    "    geom_ribbon(aes(ymin='hdi_3%', ymax='hdi_97%'), alpha=0.3, fill='blue') +\n",
    "    # geom_point(aes(y='obs_green'), alpha=0.5, color='black') +\n",
    "    # geom_point(aes(y='mean'), color='red', alpha=0.2) +\n",
    "    theme(figure_size=(5, 5)) +\n",
    "    labs(title=f'Pred vs Actual for true green', x='mean predicted true green', y='true green')\n",
    "   )\n",
    "p.draw();"
   ]
  },
  {
   "cell_type": "code",
   "execution_count": null,
   "id": "acfe5989-cc53-444f-be85-d1eaae293dad",
   "metadata": {},
   "outputs": [],
   "source": [
    "az.loo(idata_model3)"
   ]
  },
  {
   "cell_type": "code",
   "execution_count": null,
   "id": "e63c0cec-f1f6-4551-b444-1857c8b07808",
   "metadata": {},
   "outputs": [],
   "source": []
  },
  {
   "cell_type": "code",
   "execution_count": null,
   "id": "57e909a1-1344-413c-bad2-3e414663d0aa",
   "metadata": {},
   "outputs": [],
   "source": [
    "with pm.Model() as model4:\n",
    "    # data\n",
    "    obs_total = pm.Data('total', dfm['total'].values)\n",
    "    obs_green = pm.Data('obs_green', dfm['obs_green'].values)\n",
    "    true_green = pm.Data('true_green', dfm['true_green'].values)\n",
    "    \n",
    "    # # Priors for linear relationship between true green and total \n",
    "    # mu_green_intercept = pm.Uniform('mu_green_intercept', -0.5, 0.5)\n",
    "    # mu_green_beta = pm.Uniform('mu_green_beta', -2, 2)    \n",
    "    # sigma_green = pm.HalfNormal('sigma_green', 3)\n",
    "    # # Linear relationship between true green and total\n",
    "    # mu_green = pm.Deterministic('mu_green', mu_green_intercept + mu_green_beta * obs_total)\n",
    "    # true_greenl = pm.Normal('true_greenl', mu_green, sigma_green, observed=true_green)\n",
    "    \n",
    "    # Priors for relationship between obs_green and true_green\n",
    "    obs_green_intercept = pm.Uniform('obs_green_intercept', -200, 200)\n",
    "    obs_green_beta = pm.Uniform('obs_green_beta', -2, 2)\n",
    "    sigma_obs_green = pm.HalfNormal('sigma_obs_green', 1)\n",
    "    nu_obs_green = pm.HalfNormal('nu_obs_green', 10)\n",
    "    # Process\n",
    "    mu_obs_green = pm.Deterministic('mu_obs_green', obs_green_intercept + obs_green_beta * true_green)\n",
    "    obs_greenl = pm.StudentT('obs_greenl', nu_obs_green, mu_obs_green, sigma_obs_green, observed=obs_green)\n",
    "    \n",
    "    prior = pm.sample_prior_predictive()\n",
    "    idata_model4 = az.from_pymc3(prior=prior)\n",
    "    # trace = pm.sample()\n",
    "    # idata_model1 = az.from_pymc3(trace=trace)\n",
    "pm.model_to_graphviz(model4) "
   ]
  },
  {
   "cell_type": "code",
   "execution_count": null,
   "id": "5d16e978-292c-464a-ab60-d10e7e43c2ff",
   "metadata": {},
   "outputs": [],
   "source": [
    "with model4:\n",
    "    trace = pm.sample(return_inferencedata=False)\n",
    "    post = pm.sample_posterior_predictive(trace)\n",
    "    idata_model4.extend(az.from_pymc3(trace=trace, posterior_predictive=post))"
   ]
  },
  {
   "cell_type": "code",
   "execution_count": null,
   "id": "ea9ec971-e7d7-4f85-963a-ada4edd01975",
   "metadata": {},
   "outputs": [],
   "source": [
    "az.plot_trace(idata_model4.posterior);"
   ]
  },
  {
   "cell_type": "code",
   "execution_count": null,
   "id": "f1580bf2-6250-4724-b8c7-61efb0d0acec",
   "metadata": {},
   "outputs": [],
   "source": [
    "az.loo(idata_model4)"
   ]
  },
  {
   "cell_type": "code",
   "execution_count": null,
   "id": "273af081-e9ee-42a4-8ecc-1f36c5b107ff",
   "metadata": {},
   "outputs": [],
   "source": [
    "az_compare = az.compare({'model3': idata_model3, 'model4': idata_model4})\n",
    "az_compare"
   ]
  },
  {
   "cell_type": "code",
   "execution_count": null,
   "id": "4be97520-5f98-46c2-a1e3-8b1b8af9ff54",
   "metadata": {},
   "outputs": [],
   "source": [
    "az.plot_compare(az_compare)\n",
    "plt.show();"
   ]
  },
  {
   "cell_type": "code",
   "execution_count": null,
   "id": "7ee000e8-15fb-41e6-8966-7fd013a585a2",
   "metadata": {},
   "outputs": [],
   "source": []
  },
  {
   "cell_type": "code",
   "execution_count": null,
   "id": "63ec7987-9a27-4791-a290-80b2ea54dc70",
   "metadata": {},
   "outputs": [],
   "source": [
    "with pm.Model() as model5:\n",
    "    # data\n",
    "    obs_total = pm.Data('total', dfm['total'].values)\n",
    "    obs_green = pm.Data('obs_green', dfm['obs_green'].values)\n",
    "    true_green = pm.Data('true_green', dfm['true_green'].values)\n",
    "    \n",
    "    # # Priors for linear relationship between true green and total \n",
    "    # mu_green_intercept = pm.Uniform('mu_green_intercept', -0.5, 0.5)\n",
    "    # mu_green_beta = pm.Uniform('mu_green_beta', -2, 2)    \n",
    "    # sigma_green = pm.HalfNormal('sigma_green', 3)\n",
    "    # # Linear relationship between true green and total\n",
    "    # mu_green = pm.Deterministic('mu_green', mu_green_intercept + mu_green_beta * obs_total)\n",
    "    # true_greenl = pm.Normal('true_greenl', mu_green, sigma_green, observed=true_green)\n",
    "    \n",
    "    # Priors for relationship between obs_green and true_green\n",
    "    obs_green_intercept = pm.Uniform('obs_green_intercept', -200, 200)\n",
    "    obs_green_beta = pm.Uniform('obs_green_beta', -2, 2)\n",
    "    # sigma_obs_green = pm.HalfNormal('sigma_obs_green', 3)\n",
    "    # nu_obs_green = pm.HalfNormal('nu_obs_green', 10)\n",
    "    \n",
    "    # Varying variance\n",
    "    delta1 = pm.Uniform('delta1', -30, 30)\n",
    "    delta2 = pm.Uniform('delta2', 0, 1.0)\n",
    "    \n",
    "    # Process\n",
    "    sigma_obs_green = pm.Deterministic('sigma_obs_green', delta1 + delta2 * true_green)   \n",
    "    mu_obs_green = pm.Deterministic('mu_obs_green', obs_green_intercept + obs_green_beta * true_green)\n",
    "    obs_greenl = pm.Normal('obs_greenl', mu_obs_green, sigma_obs_green, observed=obs_green)\n",
    "    \n",
    "    prior = pm.sample_prior_predictive()\n",
    "    idata_model5 = az.from_pymc3(prior=prior)\n",
    "    # trace = pm.sample()\n",
    "    # idata_model1 = az.from_pymc3(trace=trace)\n",
    "pm.model_to_graphviz(model5)"
   ]
  },
  {
   "cell_type": "code",
   "execution_count": null,
   "id": "e51f0b16-11e8-44d2-be0c-db9eee2c89e5",
   "metadata": {},
   "outputs": [],
   "source": [
    "with model5:\n",
    "    trace = pm.sample(tune=2000, return_inferencedata=False)\n",
    "    post = pm.sample_posterior_predictive(trace)\n",
    "    idata_model5.extend(az.from_pymc3(trace=trace, posterior_predictive=post))"
   ]
  },
  {
   "cell_type": "code",
   "execution_count": null,
   "id": "0a38af07-d261-454c-8709-528291199861",
   "metadata": {},
   "outputs": [],
   "source": [
    "az.plot_trace(idata_model5.posterior, var_names=['obs_green_intercept', 'obs_green_beta', 'delta1', 'delta2']);"
   ]
  },
  {
   "cell_type": "code",
   "execution_count": null,
   "id": "6b2e98f8-a228-4645-8f4b-f2ba8e3950db",
   "metadata": {},
   "outputs": [],
   "source": [
    "az_compare = az.compare({'model3': idata_model3, 'model4': idata_model4, 'model5': idata_model5})\n",
    "az_compare"
   ]
  },
  {
   "cell_type": "code",
   "execution_count": null,
   "id": "87f96026-cbdd-4804-9b39-89f4015f6ab3",
   "metadata": {},
   "outputs": [],
   "source": [
    "az.plot_compare(az_compare)\n",
    "plt.show();"
   ]
  },
  {
   "cell_type": "code",
   "execution_count": null,
   "id": "c4bf1b05-ab76-43e4-96b9-f4c4494ac536",
   "metadata": {},
   "outputs": [],
   "source": [
    "summ = az.summary(idata_model5.posterior_predictive).reset_index(drop=True)\n",
    "df_posterior_check = pd.concat([summ, dfm], axis=1)\n",
    "df_posterior_check"
   ]
  },
  {
   "cell_type": "code",
   "execution_count": null,
   "id": "1fdb6a62-42da-43ba-9765-d2c1349f3501",
   "metadata": {},
   "outputs": [],
   "source": [
    "p =(ggplot(df_posterior_check, aes(x='day')) +\n",
    "    geom_ribbon(aes(ymin='hdi_3%', ymax='hdi_97%'), alpha=0.3, fill='blue') +\n",
    "    geom_point(aes(y='obs_green'), alpha=0.5, color='black', fill='none') +\n",
    "    geom_point(aes(y='mean'), color='red', alpha=0.2) +\n",
    "    theme(figure_size=(16, 2)) +\n",
    "    labs(title=f'Number of Observed Green Accounts\\nred: predicted, black: actual, blue: hdi', x='day', y='number of observed green')\n",
    "   )\n",
    "p.draw();"
   ]
  },
  {
   "cell_type": "code",
   "execution_count": null,
   "id": "ad5def37-6611-4c5f-b043-41ed478e00c4",
   "metadata": {},
   "outputs": [],
   "source": [
    "p =(ggplot(df_posterior_check, aes(x='mean', y='obs_green')) +\n",
    "    geom_point(fill='none') +\n",
    "    geom_abline(intercept=0, slope=1, linetype='dashed') +\n",
    "    geom_ribbon(aes(ymin='hdi_3%', ymax='hdi_97%'), alpha=0.3, fill='blue') +\n",
    "    # geom_point(aes(y='obs_green'), alpha=0.5, color='black') +\n",
    "    # geom_point(aes(y='mean'), color='red', alpha=0.2) +\n",
    "    theme(figure_size=(5, 5)) +\n",
    "    labs(title=f'Pred vs Actual for true green', x='mean predicted true green', y='true green')\n",
    "   )\n",
    "p.draw();"
   ]
  },
  {
   "cell_type": "code",
   "execution_count": null,
   "id": "fc885037-a96f-4c12-908a-c86e9a0bb521",
   "metadata": {},
   "outputs": [],
   "source": []
  },
  {
   "cell_type": "code",
   "execution_count": null,
   "id": "745ad53a-6466-4af5-813d-81e44b01c083",
   "metadata": {},
   "outputs": [],
   "source": []
  },
  {
   "cell_type": "code",
   "execution_count": null,
   "id": "b8a775ec-9816-4fca-9eec-d6fd2ff26eec",
   "metadata": {},
   "outputs": [],
   "source": [
    "with pm.Model() as model6:\n",
    "    # data\n",
    "    obs_total = pm.Data('total', dfm['total'].values)\n",
    "    obs_green = pm.Data('obs_green', dfm['obs_green'].values)\n",
    "    # obs_total = pm.Data('total', dfm['total'].values)\n",
    "    # obs_green = pm.Data('obs_green', dfm['obs_green'].values)\n",
    "    # true_green = pm.Data('true_green', dfm_std['true_green'].values)\n",
    "    \n",
    "    # Priors for linear relationship between true green and total \n",
    "    mu_green_intercept = pm.Uniform('mu_green_intercept', -200, 200)\n",
    "    mu_green_beta = pm.Uniform('mu_green_beta', -1, 16)    \n",
    "    # sigma_green = pm.HalfNormal('sigma_green', 1)\n",
    "    nu_green = pm.HalfNormal('nu_green', 1)\n",
    "    # Linear relationship between true green and total\n",
    "    mu_green = pm.Deterministic('mu_green', mu_green_intercept + mu_green_beta * obs_total)\n",
    "    true_green_est = pm.StudentT('true_green_est', nu_green, mu_green, 0.00001, shape=obs_total.shape[0].eval())\n",
    "    \n",
    "    # Priors for relationship between obs_green and true_green\n",
    "    obs_green_intercept = pm.Uniform('obs_green_intercept', -200, 200)\n",
    "    obs_green_beta = pm.Uniform('obs_green_beta', -2, 2)\n",
    "    # sigma_obs_green = pm.HalfNormal('sigma_obs_green', 3)\n",
    "    # nu_obs_green = pm.HalfNormal('nu_obs_green', 10)\n",
    "    \n",
    "    # Varying variance\n",
    "    delta1 = pm.Uniform('delta1', -50, 50)\n",
    "    delta2 = pm.Uniform('delta2', 0, 0.1)\n",
    "    \n",
    "    # Process\n",
    "    sigma_obs_green = pm.Deterministic('sigma_obs_green', delta1 + delta2 * pm.math.clip(true_green_est, 0.01, np.inf))   \n",
    "    mu_obs_green = pm.Deterministic('mu_obs_green', obs_green_intercept + obs_green_beta * true_green_est)\n",
    "    obs_greenl = pm.Normal('obs_greenl', mu_obs_green, sigma_obs_green, observed=obs_green)\n",
    "    \n",
    "    prior = pm.sample_prior_predictive()\n",
    "    idata_model6 = az.from_pymc3(prior=prior)\n",
    "    # trace = pm.sample()\n",
    "    # idata_model1 = az.from_pymc3(trace=trace)\n",
    "pm.model_to_graphviz(model6)"
   ]
  },
  {
   "cell_type": "code",
   "execution_count": null,
   "id": "7401376b-a4aa-426e-8847-4f0566ec935c",
   "metadata": {},
   "outputs": [],
   "source": [
    "with model6:\n",
    "    trace = pm.sample(tune=2000, return_inferencedata=False)\n",
    "    post = pm.sample_posterior_predictive(trace)\n",
    "    idata_model6.extend(az.from_pymc3(trace=trace, posterior_predictive=post))"
   ]
  },
  {
   "cell_type": "code",
   "execution_count": null,
   "id": "f2993c4b-9581-4ef5-8429-2591521b7cc7",
   "metadata": {},
   "outputs": [],
   "source": [
    "az.plot_trace(idata_model6.posterior);"
   ]
  },
  {
   "cell_type": "code",
   "execution_count": null,
   "id": "365a5739-664d-49bd-aa66-ff46284e813d",
   "metadata": {},
   "outputs": [],
   "source": [
    "summ = az.summary(idata_model6.posterior_predictive).reset_index(drop=True)\n",
    "df_posterior_check = pd.concat([summ, dfm], axis=1)\n",
    "df_posterior_check"
   ]
  },
  {
   "cell_type": "code",
   "execution_count": null,
   "id": "261561af-871f-459c-875f-9fc294477ba8",
   "metadata": {},
   "outputs": [],
   "source": [
    "p =(ggplot(df_posterior_check[0:100], aes(x='day')) +\n",
    "    geom_ribbon(aes(ymin='hdi_3%', ymax='hdi_97%'), alpha=0.3, fill='blue') +\n",
    "    geom_point(aes(y='obs_green'), alpha=0.5, color='black', fill='none') +\n",
    "    geom_point(aes(y='mean'), color='red', alpha=0.2) +\n",
    "    theme(figure_size=(16, 2)) +\n",
    "    labs(title=f'Number of Observed Green Accounts\\nred: predicted, black: actual, blue: hdi', x='day', y='number of observed green')\n",
    "   )\n",
    "p.draw();"
   ]
  },
  {
   "cell_type": "code",
   "execution_count": null,
   "id": "45cf1d99-1e28-46f2-baac-2ccd701d23da",
   "metadata": {},
   "outputs": [],
   "source": [
    "p =(ggplot(df_posterior_check, aes(x='mean', y='obs_green')) +\n",
    "    geom_point(fill='none') +\n",
    "    geom_abline(intercept=0, slope=1, linetype='dashed') +\n",
    "    geom_ribbon(aes(ymin='hdi_3%', ymax='hdi_97%'), alpha=0.3, fill='blue') +\n",
    "    # geom_point(aes(y='obs_green'), alpha=0.5, color='black') +\n",
    "    # geom_point(aes(y='mean'), color='red', alpha=0.2) +\n",
    "    theme(figure_size=(5, 5)) +\n",
    "    labs(title=f'Pred vs Actual for observed green', x='mean predicted observed green', y='observed green')\n",
    "   )\n",
    "p.draw();"
   ]
  },
  {
   "cell_type": "code",
   "execution_count": null,
   "id": "eca8bca8-2ad4-4e10-8531-265a7fd2569a",
   "metadata": {},
   "outputs": [],
   "source": [
    "idata_model6"
   ]
  },
  {
   "cell_type": "code",
   "execution_count": null,
   "id": "a3fc5b18-bb8b-42a5-985a-7a4dd6e3456c",
   "metadata": {},
   "outputs": [],
   "source": [
    "summ = az.summary(idata_model6.posterior['true_green_est']).reset_index(drop=True)\n",
    "# summ\n",
    "df_posterior_check = pd.concat([summ, dfm], axis=1)[['mean', 'sd','hdi_3%', 'hdi_97%', 'mcse_sd', 'ess_bulk', 'ess_tail', 'r_hat', 'day', 'total', 'obs_green', 'true_green']]\n",
    "df_posterior_check"
   ]
  },
  {
   "cell_type": "code",
   "execution_count": null,
   "id": "f5ec71b0-b075-40e3-b4ca-279cf1c487be",
   "metadata": {},
   "outputs": [],
   "source": [
    "# df_posterior_check[['mean', 'sd', 'hdi_3%', 'hdi_97%',  = "
   ]
  },
  {
   "cell_type": "code",
   "execution_count": null,
   "id": "e6fe8f94-ffc3-45bd-bd63-b86b1d5d1ca0",
   "metadata": {},
   "outputs": [],
   "source": [
    "p =(ggplot(df_posterior_check, aes(x='mean', y='true_green')) +\n",
    "    geom_point(fill='none', alpha=0.5) +\n",
    "    geom_abline(intercept=0, slope=1, linetype='dashed', alpha=0.5) +\n",
    "    geom_ribbon(aes(ymin='hdi_3%', ymax='hdi_97%'), alpha=0.3, fill='blue') +\n",
    "    # geom_point(aes(y='obs_green'), alpha=0.5, color='black') +\n",
    "    # geom_point(aes(y='mean'), color='red', alpha=0.2) +\n",
    "    theme(figure_size=(5, 5)) +\n",
    "    labs(title=f'Observed green vs Predicted Actual Green', x='predicted green', y='true green')\n",
    "   )\n",
    "p.draw();"
   ]
  },
  {
   "cell_type": "code",
   "execution_count": null,
   "id": "717f2365-050e-401b-920c-31f881dd9ff7",
   "metadata": {},
   "outputs": [],
   "source": []
  },
  {
   "cell_type": "code",
   "execution_count": null,
   "id": "c43c0378-4927-4107-863a-ed53a76356ec",
   "metadata": {},
   "outputs": [],
   "source": [
    "# stop1"
   ]
  },
  {
   "cell_type": "code",
   "execution_count": null,
   "id": "6e6dd570-055c-4c5e-865d-f119616e5ac7",
   "metadata": {},
   "outputs": [],
   "source": [
    "df1 = df.copy()\n",
    "df1"
   ]
  },
  {
   "cell_type": "code",
   "execution_count": null,
   "id": "9db8f51c-40d3-487d-a7b5-8d74690ca218",
   "metadata": {},
   "outputs": [],
   "source": [
    "df1['orange_to_green_ratio'] = df1['true_orange'] / df1['true_green']\n",
    "df1['orange_to_total_ratio'] = df1['true_orange'] / df1['total']\n",
    "df1['unknown'] = df1['total'] - df1['obs_orange'] - df1['obs_green']\n",
    "df1['min_orange'] = df1['obs_orange'] + 1\n",
    "df1['min_green'] = df1['obs_green'] + 1\n",
    "df1['max_green'] = df1['total'] - df1['min_orange']\n",
    "df1['max_orange'] = df1['total'] - df1['min_green']\n",
    "df1['min_orange_ratio'] = df1['min_orange'] / df1['total']\n",
    "df1['max_orange_ratio'] = df1['max_orange'] / df1['total']\n",
    "df1['orange_ratio_range'] = df1['max_orange_ratio'] - df1['min_orange_ratio']\n",
    "df1"
   ]
  },
  {
   "cell_type": "code",
   "execution_count": null,
   "id": "89a6cb7a-26f3-4d15-bfd1-8b81f11678aa",
   "metadata": {},
   "outputs": [],
   "source": [
    "sns.histplot(df1['min_orange_ratio'], stat='density', discrete=False, alpha=0.5);"
   ]
  },
  {
   "cell_type": "code",
   "execution_count": null,
   "id": "ab61ca23-67a6-4e6f-b540-79183cc56f77",
   "metadata": {},
   "outputs": [],
   "source": [
    "sns.pairplot(df1);"
   ]
  },
  {
   "cell_type": "code",
   "execution_count": null,
   "id": "2c70bf2e-e117-4031-91ca-e22f25ef9f7f",
   "metadata": {},
   "outputs": [],
   "source": []
  },
  {
   "cell_type": "code",
   "execution_count": null,
   "id": "cd5992db-a9db-403b-a825-6d82143895e7",
   "metadata": {},
   "outputs": [],
   "source": []
  },
  {
   "cell_type": "code",
   "execution_count": null,
   "id": "d036127e-acc2-455f-93cc-be161d3dcc6f",
   "metadata": {},
   "outputs": [],
   "source": []
  },
  {
   "cell_type": "code",
   "execution_count": null,
   "id": "f4e0b61b-7091-4649-8d1d-3b998ac11ef4",
   "metadata": {},
   "outputs": [],
   "source": [
    "f = Fitter(df1['orange_to_total_ratio'].values)\n",
    "f.fit()\n",
    "f.summary()"
   ]
  },
  {
   "cell_type": "code",
   "execution_count": null,
   "id": "d6ab8d80-01d2-42f6-bab7-27801477b32c",
   "metadata": {},
   "outputs": [],
   "source": []
  },
  {
   "cell_type": "code",
   "execution_count": null,
   "id": "ed905a79-3e9f-4252-99a1-4f6732c60a43",
   "metadata": {},
   "outputs": [],
   "source": []
  },
  {
   "cell_type": "code",
   "execution_count": null,
   "id": "c16be9d0-d370-406d-a350-6116a6e1bd6a",
   "metadata": {},
   "outputs": [],
   "source": []
  },
  {
   "cell_type": "code",
   "execution_count": null,
   "id": "72a8cc1b-48e9-4d81-b328-c3c43d30fcb3",
   "metadata": {},
   "outputs": [],
   "source": []
  },
  {
   "cell_type": "code",
   "execution_count": null,
   "id": "66feb6eb-98ce-453c-96b6-3d9d73d6bd04",
   "metadata": {},
   "outputs": [],
   "source": []
  },
  {
   "cell_type": "code",
   "execution_count": null,
   "id": "0d07aef4-b685-4f46-8c43-137225dd5bce",
   "metadata": {},
   "outputs": [],
   "source": []
  },
  {
   "cell_type": "code",
   "execution_count": null,
   "id": "b2ead3a6-29b7-48e2-9805-583ea4a4d923",
   "metadata": {},
   "outputs": [],
   "source": []
  },
  {
   "cell_type": "code",
   "execution_count": null,
   "id": "025159de-b8fb-478c-ba86-c689edb96d8a",
   "metadata": {},
   "outputs": [],
   "source": [
    "stop"
   ]
  },
  {
   "cell_type": "code",
   "execution_count": null,
   "id": "ed0bdbfe-0ae0-46a5-99b0-e94827972f16",
   "metadata": {},
   "outputs": [],
   "source": [
    "p =(ggplot(df_posterior_check, aes(x='mean', y='true_green')) +\n",
    "    geom_point(fill='none', alpha=0.5) +\n",
    "    geom_abline(intercept=0, slope=1, linetype='dashed', alpha=0.5) +\n",
    "    geom_ribbon(aes(ymin='hdi_3%', ymax='hdi_97%'), alpha=0.3, fill='blue') +\n",
    "    # geom_point(aes(y='obs_green'), alpha=0.5, color='black') +\n",
    "    # geom_point(aes(y='mean'), color='red', alpha=0.2) +\n",
    "    theme(figure_size=(5, 5)) +\n",
    "    labs(title=f'Observed green vs Predicted Actual Green', x='observed green', y='true green')\n",
    "   )\n",
    "p.draw();"
   ]
  },
  {
   "cell_type": "code",
   "execution_count": null,
   "id": "4719b13a-10bc-4983-8851-f1ac9c31e978",
   "metadata": {},
   "outputs": [],
   "source": []
  },
  {
   "cell_type": "code",
   "execution_count": null,
   "id": "a8c39f2c-721f-4744-a63e-633a56556fd3",
   "metadata": {},
   "outputs": [],
   "source": [
    "model2_params = az.summary(idata_model2)\n",
    "model2_params"
   ]
  },
  {
   "cell_type": "code",
   "execution_count": null,
   "id": "dc3b29b0-b99b-4558-aae3-f6567d6f8cb0",
   "metadata": {},
   "outputs": [],
   "source": [
    "model2_params.loc['mu_green_intercept', 'mean']"
   ]
  },
  {
   "cell_type": "code",
   "execution_count": null,
   "id": "e80e0d63-55ae-4d0b-945c-01f0e9877cb5",
   "metadata": {},
   "outputs": [],
   "source": [
    "with pm.Model() as model7:\n",
    "    # data\n",
    "    obs_total = pm.Data('total', dfm['total'].values)\n",
    "    obs_green = pm.Data('obs_green', dfm['obs_green'].values)\n",
    "    # obs_total = pm.Data('total', dfm['total'].values)\n",
    "    # obs_green = pm.Data('obs_green', dfm['obs_green'].values)\n",
    "    # true_green = pm.Data('true_green', dfm_std['true_green'].values)\n",
    "    \n",
    "    # Priors for linear relationship between true green and total \n",
    "    # mu_green_intercept = pm.Uniform('mu_green_intercept', -200, 200)\n",
    "    mu_green_intercept = model2_params.loc['mu_green_intercept', 'mean']\n",
    "    # mu_green_beta = pm.Uniform('mu_green_beta', -2, 2) \n",
    "    mu_green_beta = model2_params.loc['mu_green_beta', 'mean']\n",
    "    sigma_green = pm.HalfNormal('sigma_green', 1)\n",
    "    nu_green = pm.HalfNormal('nu_green', 1)\n",
    "    # Linear relationship between true green and total\n",
    "    mu_green = pm.Deterministic('mu_green', mu_green_intercept + mu_green_beta * obs_total)\n",
    "    true_green_est = pm.StudentT('true_green_est', nu_green, mu_green, sigma_green, shape=obs_total.shape[0].eval())\n",
    "    \n",
    "    # Priors for relationship between obs_green and true_green\n",
    "    obs_green_intercept = pm.Uniform('obs_green_intercept', -200, 200)\n",
    "    obs_green_beta = pm.Uniform('obs_green_beta', -2, 2)\n",
    "    sigma_obs_green = pm.HalfNormal('sigma_obs_green', 3)\n",
    "    nu_obs_green = pm.HalfNormal('nu_obs_green', 10)\n",
    "    \n",
    "    # Varying variance\n",
    "    delta1 = pm.Uniform('delta1', -30, 30)\n",
    "    delta2 = pm.Uniform('delta2', 0, 1.0)\n",
    "    \n",
    "    # Process\n",
    "    # sigma_obs_green = pm.Deterministic('sigma_obs_green', delta1 + delta2 * pm.math.clip(true_green_est, 0.01, np.inf))   \n",
    "    # mu_obs_green = pm.Deterministic('mu_obs_green', obs_green_intercept + obs_green_beta * true_green_est)\n",
    "    obs_greenl = pm.Normal('obs_greenl', mu_obs_green, sigma_obs_green, observed=obs_green)\n",
    "    \n",
    "    prior = pm.sample_prior_predictive()\n",
    "    idata_model6 = az.from_pymc3(prior=prior)\n",
    "    # trace = pm.sample()\n",
    "    # idata_model1 = az.from_pymc3(trace=trace)\n",
    "pm.model_to_graphviz(model6)"
   ]
  },
  {
   "cell_type": "code",
   "execution_count": null,
   "id": "353588ff-e8ed-494c-a4f3-ef7fd4f9aa3c",
   "metadata": {},
   "outputs": [],
   "source": []
  },
  {
   "cell_type": "code",
   "execution_count": null,
   "id": "2ff94641-4f30-4321-a60e-1cfbd922d1d1",
   "metadata": {},
   "outputs": [],
   "source": []
  },
  {
   "cell_type": "code",
   "execution_count": null,
   "id": "83bb5325-ae5f-45dc-a9d4-9c9248774aaa",
   "metadata": {},
   "outputs": [],
   "source": []
  },
  {
   "cell_type": "code",
   "execution_count": null,
   "id": "3e37fde1-44e5-414a-9b4f-b168b453fd53",
   "metadata": {},
   "outputs": [],
   "source": []
  },
  {
   "cell_type": "code",
   "execution_count": null,
   "id": "d5b3f969-5d69-48dd-9e96-931f25004354",
   "metadata": {},
   "outputs": [],
   "source": []
  },
  {
   "cell_type": "code",
   "execution_count": null,
   "id": "da796062-43b2-4655-bf37-16a7784c1bbc",
   "metadata": {},
   "outputs": [],
   "source": []
  },
  {
   "cell_type": "code",
   "execution_count": null,
   "id": "5d6c2f20-9402-4309-a783-e641b606faa4",
   "metadata": {},
   "outputs": [],
   "source": []
  },
  {
   "cell_type": "markdown",
   "id": "dd8c1317-1094-487e-889c-6fea4547b82e",
   "metadata": {},
   "source": [
    "## Out of Sample predictions"
   ]
  },
  {
   "cell_type": "code",
   "execution_count": null,
   "id": "9e88f69b-bc46-457f-9f6f-839929507fcc",
   "metadata": {},
   "outputs": [],
   "source": [
    "stop"
   ]
  },
  {
   "cell_type": "code",
   "execution_count": null,
   "id": "8423e2a3-e091-4adb-86d3-24e9a84c55c3",
   "metadata": {},
   "outputs": [],
   "source": []
  },
  {
   "cell_type": "code",
   "execution_count": null,
   "id": "9131376f-30cc-40c7-8432-86f0426bc82d",
   "metadata": {},
   "outputs": [],
   "source": []
  },
  {
   "cell_type": "code",
   "execution_count": null,
   "id": "c81ce647-7fe9-49f2-9785-034a46dc9447",
   "metadata": {},
   "outputs": [],
   "source": [
    "with model6:\n",
    "    # data\n",
    "    obs_total = pm.set_data({'total': [0.317720]})\n",
    "    obs_green = pm.set_data({'obs_green': [0.43548]})\n",
    "    \n",
    "    post_pred= pm.sample_posterior_predictive(trace, var_names=['true_green_est'])\n",
    "    idata_model6_oos1 = az.from_pymc3(posterior_predictive=post_pred)"
   ]
  },
  {
   "cell_type": "code",
   "execution_count": null,
   "id": "2e64acc6-181b-4987-ba04-33a34d9acae0",
   "metadata": {},
   "outputs": [],
   "source": [
    "idata_model6_oos1"
   ]
  },
  {
   "cell_type": "code",
   "execution_count": null,
   "id": "ad76774a-b8e9-4225-b66f-4808a7a014f3",
   "metadata": {},
   "outputs": [],
   "source": [
    "az.plot_trace(idata_model6_oos1.posterior_predictive)\n",
    "plt.show();"
   ]
  },
  {
   "cell_type": "code",
   "execution_count": null,
   "id": "8459f13b-3722-461b-a0d8-382a21fc7246",
   "metadata": {},
   "outputs": [],
   "source": []
  },
  {
   "cell_type": "code",
   "execution_count": null,
   "id": "bb957c60-6961-4bf8-ac82-08973adf96d3",
   "metadata": {},
   "outputs": [],
   "source": []
  },
  {
   "cell_type": "code",
   "execution_count": null,
   "id": "abf0957d-341a-436d-bb42-4330805b464b",
   "metadata": {},
   "outputs": [],
   "source": []
  },
  {
   "cell_type": "code",
   "execution_count": null,
   "id": "70fc6034-cbb9-40a9-ab48-8f897a57ea00",
   "metadata": {},
   "outputs": [],
   "source": []
  },
  {
   "cell_type": "code",
   "execution_count": null,
   "id": "37070d1f-880a-460c-8e84-86f2f46730dc",
   "metadata": {},
   "outputs": [],
   "source": [
    "stop"
   ]
  },
  {
   "cell_type": "code",
   "execution_count": null,
   "id": "d4f78ffa-7cd9-46eb-b7c6-b0a407d8eae6",
   "metadata": {},
   "outputs": [],
   "source": [
    "az.summary(idata_model1.posterior_predictive).head(20)"
   ]
  },
  {
   "cell_type": "code",
   "execution_count": null,
   "id": "308575e1-ebc7-4a54-ac1d-52d1c9cebe29",
   "metadata": {},
   "outputs": [],
   "source": [
    "dfm_std.head(20)"
   ]
  },
  {
   "cell_type": "code",
   "execution_count": null,
   "id": "958a7aa8-4dc5-4ee4-ae52-daebdae5ea92",
   "metadata": {},
   "outputs": [],
   "source": [
    "hdi_obs_fraudulentl = az.hdi(idata_model1.posterior_predictive['true_green_obs_fraudulentl']).to_dataframe().reset_index().pivot(index='n_obs_fraudulentl_dim_0', columns='hdi').droplevel(0, axis=1).astype(int)"
   ]
  },
  {
   "cell_type": "code",
   "execution_count": null,
   "id": "6e1743e5-ed91-4709-b6cc-b4ff4dea0bbc",
   "metadata": {},
   "outputs": [],
   "source": [
    "dfm_std.head(10)"
   ]
  },
  {
   "cell_type": "code",
   "execution_count": null,
   "id": "0e310ecd-54c7-4c2d-b83e-f7d851b71410",
   "metadata": {},
   "outputs": [],
   "source": []
  },
  {
   "cell_type": "code",
   "execution_count": null,
   "id": "ad460434-e8df-43bf-adc8-2ae421f5b143",
   "metadata": {},
   "outputs": [],
   "source": [
    "stop"
   ]
  },
  {
   "cell_type": "code",
   "execution_count": null,
   "id": "90f91d95-cd39-4629-b462-575abf708d43",
   "metadata": {},
   "outputs": [],
   "source": [
    "with pm.Model() as model1:\n",
    "    # data\n",
    "    obs_data_total = pm.Data(\"total\", dfm_std['total'].values)\n",
    "    \n",
    "    no_upper_bounds = np.matrix(np.ones((len(dfm_std),1)) * np.inf)\n",
    "    # priors\n",
    "    mu_orange = pm.Uniform(\"mu_orange\", -1, 1)\n",
    "    sd_orange = pm.HalfNormal(\"sd_orange\", 0.1)\n",
    "    orange_daily = pm.Normal(\"orange_daily\", mu_orange, sd_orange)\n",
    "                             \n",
    "    mu_green = pm.Uniform(\"mu_green\", -1, 1)\n",
    "    sd_green = pm.HalfNormal(\"sd_green\", 0.1)\n",
    "    green_daily = pm.Normal(\"green_daily\", mu_green, sd_green)\n",
    "    \n",
    "    # daily_mu = pm.Deterministic('daily_mu', pm.math.clip(orange_daily + green_daily, 1, np.inf))\n",
    "    # # Use observed number of orange and green to put a lower bound on modeled # of orange.\n",
    "    # daily_mu_with_obs = (\n",
    "    #     pm.math.clip(orange_daily, dfm_std['obs_orange'].values, np.inf)\n",
    "    #     +\n",
    "    #     pm.math.clip(green_daily, dfm_std['obs_green'].values, np.inf)\n",
    "    # )\n",
    "        \n",
    "    daily_total = pm.Normal(\"daily_total\", green_daily + orange_daily, \n",
    "        # Introducing a noise term here, since observed data can not be directly applied\n",
    "        # to a deterministic node, but otherwise I would use Deterministic here.\n",
    "        .001, \n",
    "        observed=obs_data_total)\n",
    "    \n",
    "    \n",
    "    trace = pm.sample()\n",
    "    idata_model1 = az.from_pymc3(trace=trace)\n",
    "pm.model_to_graphviz(model1) "
   ]
  },
  {
   "cell_type": "code",
   "execution_count": null,
   "id": "2a946571-8d1a-4260-9d65-c303e07489f6",
   "metadata": {},
   "outputs": [],
   "source": [
    "idata_model1"
   ]
  },
  {
   "cell_type": "code",
   "execution_count": null,
   "id": "8909d827-37e3-4be6-ab28-142d046b184a",
   "metadata": {},
   "outputs": [],
   "source": [
    "az.plot_posterior(idata_model1);"
   ]
  },
  {
   "cell_type": "code",
   "execution_count": null,
   "id": "cba2b143-3b82-4430-853c-86f044c2bb26",
   "metadata": {},
   "outputs": [],
   "source": [
    "az.summary(idata_model1)"
   ]
  },
  {
   "cell_type": "code",
   "execution_count": null,
   "id": "a9873ea0-c388-4c0e-af93-4c8a99ba0b1d",
   "metadata": {},
   "outputs": [],
   "source": [
    "dfm_std.describe()"
   ]
  },
  {
   "cell_type": "code",
   "execution_count": null,
   "id": "59d7be8a-d6f2-481f-bdd1-79d6c5e93359",
   "metadata": {},
   "outputs": [],
   "source": [
    "stop"
   ]
  },
  {
   "cell_type": "code",
   "execution_count": null,
   "id": "bb4ec47f-2530-4a51-b285-cbf715f793d8",
   "metadata": {},
   "outputs": [],
   "source": [
    "with pm.Model() as m10:\n",
    "    # obs_data_m1 = pm.MutableData(\"obs_data_m1\", df)\n",
    "    \n",
    "    no_upper_bounds = np.matrix(np.ones((len(data_df_10),1)) * np.inf)\n",
    "    \n",
    "    mu_orange = pm.Uniform(\"mu_orange\", 100, 500)\n",
    "    sd_orange = pm.HalfNormal(\"sd_orange\", 150)\n",
    "    orange_daily = pm.Normal(\"orange_daily\", mu_orange, sd_orange)\n",
    "                             \n",
    "    mu_green = pm.Uniform(\"mu_green\", 300, 1000)\n",
    "    sd_green = pm.HalfNormal(\"sd_green\", 300)\n",
    "    green_daily = pm.Normal(\"green_daily\", mu_green, sd_green)\n",
    "    \n",
    "    # Use observed number of orange and green to put a lower bound on modeled # of orange.\n",
    "    daily_mu_with_obs = (\n",
    "        pm.math.clip(orange_daily, data_df_10['obs_orange'], no_upper_bounds)\n",
    "        +\n",
    "        pm.math.clip(green_daily, data_df_10['obs_green'], no_upper_bounds)\n",
    "    )\n",
    "        \n",
    "    daily_total = pm.Normal(\n",
    "        \"daily_total\", \n",
    "        orange_daily + green_daily, \n",
    "        # Introducing a noise term here, since observed data can not be directly applied\n",
    "        # to a deterministic node, but otherwise I would use Deterministic here.\n",
    "        .001, \n",
    "        observed=data_df_10['total']\n",
    "    )\n",
    "    \n",
    "    trace_m10 = pm.sample(1_000, chains=4, target_accept=0.9)"
   ]
  },
  {
   "cell_type": "code",
   "execution_count": null,
   "id": "65166ffc-2afe-460a-aacc-e502fd5cacd7",
   "metadata": {},
   "outputs": [],
   "source": []
  },
  {
   "cell_type": "code",
   "execution_count": null,
   "id": "c800e973-5832-46e0-8519-57b7a2c4821a",
   "metadata": {},
   "outputs": [],
   "source": []
  },
  {
   "cell_type": "code",
   "execution_count": null,
   "id": "e686ed7e-6849-49fe-9cb9-7fc318f12d08",
   "metadata": {},
   "outputs": [],
   "source": []
  },
  {
   "cell_type": "code",
   "execution_count": null,
   "id": "17f3a172-7dda-4856-a758-a80560e7fd27",
   "metadata": {},
   "outputs": [],
   "source": []
  },
  {
   "cell_type": "code",
   "execution_count": null,
   "id": "fa7bf682-2937-424d-a25e-057eddc3cb96",
   "metadata": {},
   "outputs": [],
   "source": []
  },
  {
   "cell_type": "code",
   "execution_count": null,
   "id": "4a2d948a-cd2a-4b6c-bf12-d05341b1cb5a",
   "metadata": {},
   "outputs": [],
   "source": []
  },
  {
   "cell_type": "code",
   "execution_count": null,
   "id": "10d39674-d3e0-4c7a-95e6-fecc5b2e4de1",
   "metadata": {},
   "outputs": [],
   "source": [
    "plt.hist(pct_obs_green)"
   ]
  },
  {
   "cell_type": "code",
   "execution_count": null,
   "id": "7ac672a7-c570-40e0-bf6c-d378e3f287a7",
   "metadata": {},
   "outputs": [],
   "source": []
  },
  {
   "cell_type": "code",
   "execution_count": null,
   "id": "84d2fc0a-b87a-4ef6-89f3-9dd4b33e8ef3",
   "metadata": {},
   "outputs": [],
   "source": []
  },
  {
   "cell_type": "markdown",
   "id": "457299c7-20d7-4aa4-8b2d-d9a875a739e0",
   "metadata": {},
   "source": [
    "+ `n_accounts` are created per day - normally distributed `mu_accounts`, `sigma_accounts`\n",
    "+ Create for `n_days` days\n",
    "+ The proportion of fraudulent accounts changes on a daily basis. It is generated by selecting a proportion `p_fraudulent` from a Uniform distribution between a lower limit `p_fraudulent_min` and a higher limit `p_fraudulent_max`. The intent is to have some days with a relative low number of accounts created, but a high proportion of fraudulent accounts and vice versa. This seems somewhat realistic.\n",
    "+ The daily number of fraudulent accounts = `n_accounts` x `p_fraudulent` where these values are generated for each day\n",
    "+ Fraud Detection\n",
    "    + The fraud detection system identifies a subset of fraudulent accounts. It never identifies a genuine account as fraudulent.\n",
    "    + It works like this. If we run the detection system over multiple accounts.\n",
    "        + long run frequency of detecting fraudulent | genuine = 0.0\n",
    "        + long run frequency of detecting fraudulent | fraudulent = `p_detection_mean`\n",
    "    + But the detection system is not perfect. It has some variation associated with it. The variation is described in terms of number of accounts. So, someone informally describing the detection system would say it detects `x` fraction of fraudulent accounts plus or minus `y` accounts. The variation is taken to be a normally distributed, centred at `p_detection`, with a standard deviation of `detection_sigma` (i.t.o number of accounts).\n",
    "    + So, the 99.9 % spread of the detection system is `p_detection_mean` x `n_fraudulent` +/- 3 * `detection_sigma`"
   ]
  },
  {
   "cell_type": "code",
   "execution_count": null,
   "id": "c5cda4af-0a05-4b64-b32b-335cfbd808be",
   "metadata": {},
   "outputs": [],
   "source": [
    "# Accounts\n",
    "n_days = 1000\n",
    "mu_accounts = 900\n",
    "sigma_accounts = 200\n",
    "\n",
    "# Fraudulent accounts\n",
    "p_fraudulent_min = 0.05\n",
    "p_fraudulent_max = 0.6\n",
    "\n",
    "n_accounts = [int(x) for x in pm.TruncatedNormal.dist(mu=mu_accounts, sigma=sigma_accounts, lower=0).random(size=n_days)]\n",
    "p_fraudulent = pm.Uniform.dist(p_fraudulent_min, p_fraudulent_max).random(size=n_days)\n",
    "n_fraudulent = [int(x) for x in n_accounts * p_fraudulent]\n",
    "df = pd.DataFrame({'day': range(n_days), 'n_accounts': n_accounts, 'n_fraudulent': n_fraudulent})\n",
    "df['daily_p_fraudulent'] = df['n_fraudulent'] / df['n_accounts']\n",
    "\n",
    "df"
   ]
  },
  {
   "cell_type": "code",
   "execution_count": null,
   "id": "26f4eb83-5af7-4791-8382-da9ef2bfa71c",
   "metadata": {},
   "outputs": [],
   "source": [
    "print(f'Day 0 Counts\\n{df.loc[0]}')\n",
    "fig, ax = plt.subplots(figsize=(16, 3))\n",
    "data_len = 100\n",
    "sns.barplot(x='day', y='value', ax=ax, hue='variable', dodge=False, data=pd.melt(df[['day', 'n_accounts', 'n_fraudulent']][0:data_len], ['day']));\n",
    "ax.set_title(f'Count of Fraudulent and total accounts per day for first {data_len} days')\n",
    "plt.xticks(rotation=90)\n",
    "plt.show();"
   ]
  },
  {
   "cell_type": "code",
   "execution_count": null,
   "id": "387af5f7-a47e-4a0d-9ace-9fde9ae6e958",
   "metadata": {},
   "outputs": [],
   "source": [
    "print(f'Day 0 Counts\\n{df.loc[0]}')\n",
    "\n",
    "fig, ax = plt.subplots(figsize=(16, 3))\n",
    "sns.barplot(x='day', y='daily_p_fraudulent', ax=ax, data=df[0: data_len], color='black', alpha=0.3);\n",
    "ax.set_title(f'Proportion of fraudulent accounts per day for first {data_len} days')\n",
    "plt.xticks(rotation=90)\n",
    "plt.show();"
   ]
  },
  {
   "cell_type": "code",
   "execution_count": null,
   "id": "5811e844-eb9e-4b46-a8dc-a5e9067a72a0",
   "metadata": {},
   "outputs": [],
   "source": [
    "p_detection_mean = 0.6\n",
    "detection_sigma = 10 # accounts - if detection_sigma = 10 then the 99.9% spread of the detection system is p_detection_mean x n_fraudulent +/- 30 accounts\n",
    "\n",
    "mean_obs_fraudulent = df['n_fraudulent'] * p_detection_mean\n",
    "\n",
    "n_obs_fraudulent = [int(x) for x in pm.TruncatedNormal.dist(mu=mean_obs_fraudulent, sigma=detection_sigma, lower=0, upper=n_fraudulent).random(size=n_days)]\n",
    "df['n_obs_fraudulent'] = n_obs_fraudulent\n",
    "df['p_detection_given_fraud'] = df['n_obs_fraudulent'] / df['n_fraudulent']\n",
    "df['p_detected_fraudulent'] = df['n_obs_fraudulent'] / df['n_accounts']\n",
    "df "
   ]
  },
  {
   "cell_type": "code",
   "execution_count": null,
   "id": "67307337-8052-45b6-993e-669325a5496b",
   "metadata": {},
   "outputs": [],
   "source": [
    "df.describe()"
   ]
  },
  {
   "cell_type": "code",
   "execution_count": null,
   "id": "f20241bb-c727-4d1c-8073-266bc6726427",
   "metadata": {},
   "outputs": [],
   "source": [
    "print(f'Day 0 Counts\\n{df.loc[0]}')\n",
    "fig, ax = plt.subplots(figsize=(16, 3))\n",
    "data_len = 100\n",
    "sns.barplot(x='day', y='value', ax=ax, hue='variable', dodge=False, data=pd.melt(df[['day', 'n_accounts', 'n_fraudulent', 'n_obs_fraudulent']][0:data_len], ['day']));\n",
    "ax.set_title(f'Count of Total, Fraudulent, and observed fraudulent accounts per day for first {data_len} days')\n",
    "plt.xticks(rotation=90)\n",
    "plt.show();"
   ]
  },
  {
   "cell_type": "code",
   "execution_count": null,
   "id": "4336037b-9272-436b-b145-c3ae5c22082b",
   "metadata": {},
   "outputs": [],
   "source": [
    "print(f'Day 0 Counts\\n{df.loc[0]}')\n",
    "\n",
    "fig, ax = plt.subplots(figsize=(16, 3))\n",
    "sns.barplot(x='day', y='p_detection_given_fraud', ax=ax, data=df[0: data_len], color='black', alpha=0.3);\n",
    "ax.set_title(f'Proportion of fradulent accounts detected as fraudulent accounts per day for first {data_len} days')\n",
    "plt.xticks(rotation=90)\n",
    "plt.grid()\n",
    "plt.show();"
   ]
  },
  {
   "cell_type": "code",
   "execution_count": null,
   "id": "8d5331ac-615b-455a-8d5b-6159db3f8698",
   "metadata": {},
   "outputs": [],
   "source": [
    "print(f'Day 0 Counts\\n{df.loc[0]}')\n",
    "\n",
    "fig, ax = plt.subplots(figsize=(16, 3))\n",
    "sns.barplot(x='day', y='p_detected_fraudulent', ax=ax, data=df[0: data_len], color='black', alpha=0.3);\n",
    "ax.set_title(f'Proportion of total accounts detected as fraudulent accounts per day for first {data_len} days')\n",
    "plt.xticks(rotation=90)\n",
    "plt.show();"
   ]
  },
  {
   "cell_type": "code",
   "execution_count": null,
   "id": "50c2630e-5f71-46a0-a986-4d262efb90f5",
   "metadata": {},
   "outputs": [],
   "source": [
    "df.describe()"
   ]
  },
  {
   "cell_type": "code",
   "execution_count": null,
   "id": "f0f63a5b-3e31-49e2-ba47-9fb5f5a0bc29",
   "metadata": {},
   "outputs": [],
   "source": [
    "sns.pairplot(df[['n_accounts', 'n_fraudulent', 'n_obs_fraudulent']], height=1.75);"
   ]
  },
  {
   "cell_type": "code",
   "execution_count": null,
   "id": "1a4c5493-c988-4fe3-8c3b-944eb6b796cb",
   "metadata": {},
   "outputs": [],
   "source": [
    "sns.pairplot(df[['daily_p_fraudulent', 'p_detection_given_fraud', 'p_detected_fraudulent']], height=2.0);"
   ]
  },
  {
   "cell_type": "markdown",
   "id": "2ba98652-5f99-40fe-b2cf-2e98e0a147da",
   "metadata": {},
   "source": [
    "### Full Forward Model"
   ]
  },
  {
   "cell_type": "code",
   "execution_count": null,
   "id": "47db6686-98ee-4068-a1a3-d2170d0ea5eb",
   "metadata": {},
   "outputs": [],
   "source": [
    "def make_forward_data(n_days=1000):\n",
    "    # Accounts\n",
    "    # n_days = 1000 # data creation\n",
    "    mu_accounts = 900 # data creation\n",
    "    sigma_accounts = 200 # data creation\n",
    "\n",
    "    # Fraudulent accounts\n",
    "    p_fraudulent_min = 0.05 # data creation\n",
    "    p_fraudulent_max = 0.6 # data creation\n",
    "\n",
    "    # Detection System\n",
    "    p_detection_mean = 0.6 # known estimated value\n",
    "    detection_sigma = 10 # known estimated value\n",
    "\n",
    "    n_accounts = [int(x) for x in pm.TruncatedNormal.dist(mu=mu_accounts, sigma=sigma_accounts, lower=0).random(size=n_days)]\n",
    "    #p_fraudulent = pm.Uniform.dist(p_fraudulent_min, p_fraudulent_max).random(size=n_days) # unknown - convert to prior in model\n",
    "    p_fraudulent = pm.Uniform.dist(p_fraudulent_min, p_fraudulent_max).random() # unknown - convert to prior in model\n",
    "    n_fraudulent = [int(x) for x in n_accounts * p_fraudulent] # unknown - target posterior\n",
    "\n",
    "    df = pd.DataFrame({'day': range(n_days), 'n_accounts': n_accounts, 'n_fraudulent': n_fraudulent})\n",
    "    \n",
    "    mean_obs_fraudulent = df['n_fraudulent'] * p_detection_mean\n",
    "    n_obs_fraudulent = [int(x) for x in pm.TruncatedNormal.dist(mu=mean_obs_fraudulent, sigma=detection_sigma, lower=0, upper=n_fraudulent).random(size=n_days)] # data creation\n",
    "    df['n_obs_fraudulent'] = n_obs_fraudulent\n",
    "    df['p_detection_given_fraud'] = df['n_obs_fraudulent'] / df['n_fraudulent']\n",
    "    df['p_detected_fraudulent'] = df['n_obs_fraudulent'] / df['n_accounts']\n",
    "    \n",
    "    return df\n",
    "\n",
    "n_days = 1000\n",
    "df = make_forward_data(n_days=n_days)\n",
    "df"
   ]
  },
  {
   "cell_type": "markdown",
   "id": "92653c6f-c5c9-4058-8333-758840833556",
   "metadata": {},
   "source": [
    "### What we see"
   ]
  },
  {
   "cell_type": "code",
   "execution_count": null,
   "id": "1b3a7464-58b0-4b4b-a4d7-d5fce875228d",
   "metadata": {},
   "outputs": [],
   "source": [
    "dfm = df.copy()\n",
    "dfm = df[['day', 'n_accounts', 'n_obs_fraudulent']]\n",
    "# What we actually see of this process\n",
    "dfm.head()"
   ]
  },
  {
   "cell_type": "markdown",
   "id": "a0be7ea8-3e2f-49d9-8649-03c4e1c5957d",
   "metadata": {},
   "source": [
    "### What we know/assume"
   ]
  },
  {
   "cell_type": "code",
   "execution_count": null,
   "id": "46be8a80-cd1f-4199-b552-1bb855c703e7",
   "metadata": {},
   "outputs": [],
   "source": [
    "print(f'\\nMean probability of detection: {p_detection_mean}\\tDetection system stdev: {detection_sigma}\\n')"
   ]
  },
  {
   "cell_type": "markdown",
   "id": "85523d65-b72f-4998-9669-83b6ac6392d3",
   "metadata": {},
   "source": [
    "# Model 1"
   ]
  },
  {
   "cell_type": "code",
   "execution_count": null,
   "id": "1f83227b-d059-44e2-b10e-61af2f5568ba",
   "metadata": {},
   "outputs": [],
   "source": [
    "with pm.Model() as model1:\n",
    "    # data\n",
    "    n_accounts = pm.Data('n_accounts', dfm['n_accounts'].values)\n",
    "    print(n_accounts.shape[0].eval())\n",
    "    n_obs_fraudulent = pm.Data('n_obs_fraudulent', dfm['n_obs_fraudulent'].values)\n",
    "    p_detection_mean_m = pm.Data('p_detection_mean', p_detection_mean)\n",
    "    detection_sigma_m = pm.Data('detection_sigma', detection_sigma)\n",
    "    # n_days_m = pm.Data('n_days', n_days)\n",
    "    # print(n_days)\n",
    "    # print(n_days_m)\n",
    "\n",
    "    # priors\n",
    "    daily_p_fraudulent = pm.Beta('p_fraudulent', 1.6, 1.6, shape=n_days)\n",
    "    \n",
    "    # process model\n",
    "    n_fraudulent = pm.Deterministic('n_fraudulent', n_accounts * daily_p_fraudulent)\n",
    "    \n",
    "    n_obs_fraudulentl = pm.Normal('n_obs_fraudulentl', (n_fraudulent * p_detection_mean_m), detection_sigma_m, observed=n_obs_fraudulent)\n",
    "    \n",
    "    prior = pm.sample_prior_predictive()\n",
    "    idata_model1 = az.from_pymc3(prior=prior)\n",
    "pm.model_to_graphviz(model1)"
   ]
  },
  {
   "cell_type": "code",
   "execution_count": null,
   "id": "f42b9c01-4702-4914-95e6-f8f9982ccbaa",
   "metadata": {},
   "outputs": [],
   "source": [
    "idata_model1"
   ]
  },
  {
   "cell_type": "code",
   "execution_count": null,
   "id": "73b37f58-15da-4e55-9de5-d5841f391b4f",
   "metadata": {},
   "outputs": [],
   "source": [
    "hdi_obs_fraudulentl = az.hdi(idata_model1.prior_predictive['n_obs_fraudulentl']).to_dataframe().reset_index().pivot(index='n_obs_fraudulentl_dim_0', columns='hdi').droplevel(0, axis=1).astype(int)\n",
    "mean_obs_fraudulentl = idata_model1.prior_predictive['n_obs_fraudulentl'].mean(axis=1).to_dataframe().droplevel(1).reset_index(drop=True).rename(columns={'n_obs_fraudulentl': 'n_obs_fraudulentl_mean'}).astype(int)\n",
    "df_prior_check = pd.concat([hdi_obs_fraudulentl, mean_obs_fraudulentl, dfm], axis=1)\n",
    "df_prior_check"
   ]
  },
  {
   "cell_type": "code",
   "execution_count": null,
   "id": "7cd7e6be-e4a0-450f-99f7-95eb7ce22c38",
   "metadata": {},
   "outputs": [],
   "source": [
    "p =(ggplot(df_prior_check[0:100], aes(x='day')) +\n",
    "    geom_ribbon(aes(ymin='lower', ymax='higher'), alpha=0.3, fill='blue') +\n",
    "    geom_line(aes(y='n_obs_fraudulent')) +\n",
    "    theme(figure_size=(16, 3))\n",
    "   )\n",
    "p.draw();"
   ]
  },
  {
   "cell_type": "markdown",
   "id": "39aa2a71-627c-4292-b836-699e1a595aa3",
   "metadata": {},
   "source": [
    "### Comments on prior Check\n",
    "+ I think this is OK ? \n",
    "+ The hdi distribution of observed fraudulent seems to be wider than the distribution of actual observed fraudulent, so the model should have room to cruch down to a narrower, more representative distribution"
   ]
  },
  {
   "cell_type": "code",
   "execution_count": null,
   "id": "b38604ea-07cb-46bb-a34e-f0387a4ef22a",
   "metadata": {},
   "outputs": [],
   "source": [
    "with model1:\n",
    "    trace = pm.sample(draws=2000, tune=4000, return_inferencedata=False)\n",
    "    # post_pred = pm.sample_posterior_predictive(trace=trace, var_names=['n_fraudulent'])\n",
    "    # idata_model1.extend(az.from_pymc3(trace=trace, posterior_predictive=post_pred))\n",
    "    idata_model1.extend(az.from_pymc3(trace=trace))"
   ]
  },
  {
   "cell_type": "code",
   "execution_count": null,
   "id": "d8e440ab-f45a-47b4-9919-0ae2ef52a7bd",
   "metadata": {},
   "outputs": [],
   "source": [
    "idata_model1"
   ]
  },
  {
   "cell_type": "code",
   "execution_count": null,
   "id": "8f444c8a-7379-4937-9161-edd7c57feda0",
   "metadata": {},
   "outputs": [],
   "source": [
    "# az.plot_trace(idata_model1);"
   ]
  },
  {
   "cell_type": "markdown",
   "id": "31821336-fe18-4595-b136-14c65e1b8923",
   "metadata": {},
   "source": [
    "## Posterior Check\n",
    "+ We can check n_observed to see how well the model fits the data, but the unseen parameter we are most interested in is n_fraudulent\n",
    "+ We can use the hdi of this and divide by n_accounts to calculate the percentage of fraudulent accounts"
   ]
  },
  {
   "cell_type": "code",
   "execution_count": null,
   "id": "839b2b02-be3e-4a71-a487-b379bfa2fb7c",
   "metadata": {},
   "outputs": [],
   "source": [
    "hdi_n_fraudulent = az.hdi(idata_model1.posterior['n_fraudulent']).to_dataframe().reset_index().pivot(index='n_fraudulent_dim_0', columns='hdi').droplevel(0, axis=1).astype(int)\n",
    "mean_n_fraudulent = idata_model1.posterior['n_fraudulent'].mean(axis=1).to_dataframe().groupby(by=['n_fraudulent_dim_0']).mean().rename(columns={'n_fraudulent': 'n_fraudulent_pred'})\n",
    "df_copy = df.copy()\n",
    "df_copy.columns = [col + '_orig' for col in df_copy.columns]\n",
    "df_posterior_check = pd.concat([hdi_n_fraudulent, mean_n_fraudulent, df_copy], axis=1)\n",
    "df_posterior_check"
   ]
  },
  {
   "cell_type": "code",
   "execution_count": null,
   "id": "a823dfb1-4354-4b2c-ae06-3adce5a98641",
   "metadata": {},
   "outputs": [],
   "source": [
    "p =(ggplot(df_posterior_check[0:100], aes(x='day_orig')) +\n",
    "    geom_ribbon(aes(ymin='lower', ymax='higher'), alpha=0.3, fill='blue') +\n",
    "    geom_point(aes(y='n_fraudulent_orig'), alpha=0.5, color='black') +\n",
    "    geom_point(aes(y='n_fraudulent_pred'), color='red', alpha=0.2) +\n",
    "    theme(figure_size=(16, 2)) +\n",
    "    labs(title=f'Number of fraudulent Accounts\\nred: predicted, black: actual, blue: hdi', x='day', y='number of fraudulent accounts')\n",
    "   )\n",
    "p.draw();"
   ]
  },
  {
   "cell_type": "markdown",
   "id": "a44a51ae-2ce7-4f27-9e9e-7f47001cc64e",
   "metadata": {},
   "source": [
    "## OOS data Prediction"
   ]
  },
  {
   "cell_type": "code",
   "execution_count": null,
   "id": "3b32ee42-818d-4d16-9872-8201dc457414",
   "metadata": {},
   "outputs": [],
   "source": [
    "n_oos_days=1000\n",
    "df_oos = make_forward_data(n_days=n_oos_days)\n",
    "df_oos"
   ]
  },
  {
   "cell_type": "code",
   "execution_count": null,
   "id": "7cec937f-e77f-4adb-8ddd-31b556070b06",
   "metadata": {},
   "outputs": [],
   "source": [
    "with model1:\n",
    "    # data\n",
    "    n_accounts = pm.set_data({'n_accounts': df_oos['n_accounts'].values})\n",
    "    n_obs_fraudulent = pm.set_data({'n_obs_fraudulent': df_oos['n_obs_fraudulent'].values})\n",
    "\n",
    "    post_pred= pm.sample_posterior_predictive(trace, var_names=['n_fraudulent'])\n",
    "    idata_model1_oos1 = az.from_pymc3(posterior_predictive=post_pred)"
   ]
  },
  {
   "cell_type": "code",
   "execution_count": null,
   "id": "dd3410ee-b702-4161-9f8e-b95235241d3d",
   "metadata": {},
   "outputs": [],
   "source": [
    "idata_model1_oos1"
   ]
  },
  {
   "cell_type": "code",
   "execution_count": null,
   "id": "240af7c2-30e0-4cbf-b54a-0c319c79b64c",
   "metadata": {},
   "outputs": [],
   "source": [
    "hdi_n_fraudulent = az.hdi(idata_model1_oos1.posterior_predictive['n_fraudulent']).to_dataframe().reset_index().pivot(index='n_fraudulent_dim_0', columns='hdi').droplevel(0, axis=1).astype(int)\n",
    "mean_n_fraudulent = idata_model1_oos1.posterior_predictive['n_fraudulent'].mean(axis=1).to_dataframe().groupby(by=['n_fraudulent_dim_0']).mean().rename(columns={'n_fraudulent': 'n_fraudulent_pred'})\n",
    "df_oos_copy = df_oos.copy()\n",
    "df_oos_copy.columns = [col + '_oos' for col in df_oos_copy.columns]\n",
    "df_oos_check = pd.concat([hdi_n_fraudulent, mean_n_fraudulent, df_oos_copy], axis=1)\n",
    "df_oos_check"
   ]
  },
  {
   "cell_type": "code",
   "execution_count": null,
   "id": "f36d08c7-768b-4a76-b7cf-dee5fd3b9868",
   "metadata": {},
   "outputs": [],
   "source": [
    "p =(ggplot(df_oos_check[0:100], aes(x='day_oos')) +\n",
    "    geom_ribbon(aes(ymin='lower', ymax='higher'), alpha=0.3, fill='blue') +\n",
    "    geom_point(aes(y='n_fraudulent_oos'), alpha=0.5, color='black') +\n",
    "    geom_point(aes(y='n_fraudulent_pred'), color='red', alpha=0.2) +\n",
    "    theme(figure_size=(16, 2)) +\n",
    "    labs(title=f'Number of fraudulent Accounts\\nred: predicted, black: actual, blue: hdi', x='day', y='number of fraudulent accounts')\n",
    "   )\n",
    "p.draw();"
   ]
  },
  {
   "cell_type": "code",
   "execution_count": null,
   "id": "be42d5df-b6de-4a44-8935-fc5de0497a81",
   "metadata": {},
   "outputs": [],
   "source": []
  },
  {
   "cell_type": "code",
   "execution_count": null,
   "id": "a8c0b0d0-b235-4e87-adff-64ca0da2d6ab",
   "metadata": {},
   "outputs": [],
   "source": []
  },
  {
   "cell_type": "code",
   "execution_count": null,
   "id": "0cee8043-80b4-4276-a4f7-51facc62c3ae",
   "metadata": {},
   "outputs": [],
   "source": []
  },
  {
   "cell_type": "code",
   "execution_count": null,
   "id": "7affec50-3a2d-4a42-b1b1-0bb9206f9166",
   "metadata": {},
   "outputs": [],
   "source": [
    "stop"
   ]
  },
  {
   "cell_type": "code",
   "execution_count": null,
   "id": "5e087e3c-601c-4a97-98ee-0deb37b0cb9f",
   "metadata": {},
   "outputs": [],
   "source": [
    "with pm.Model() as model1:\n",
    "    # data\n",
    "    n_accounts = pm.Data('n_accounts', df_oos['n_accounts'].values)\n",
    "    n_obs_fraudulent = pm.Data('n_obs_fraudulent', df_oos['n_obs_fraudulent'].values)\n",
    "    p_detection_mean_m = pm.Data('p_detection_mean', p_detection_mean)\n",
    "    detection_sigma_m = pm.Data('detection_sigma', detection_sigma)\n",
    "    n_days_m = pm.Data('n_days', n_oos_days)\n",
    "    # print(n_days)\n",
    "    # print(n_days_m)\n",
    "\n",
    "    # priors\n",
    "    daily_p_fraudulent = pm.Beta('p_fraudulent', 1.6, 1.6, shape=n_oos_days)\n",
    "    \n",
    "    # process model\n",
    "    n_fraudulent = pm.Deterministic('n_fraudulent', n_accounts * daily_p_fraudulent)\n",
    "    \n",
    "    n_obs_fraudulentl = pm.Normal('n_obs_fraudulentl', (n_fraudulent * p_detection_mean_m), detection_sigma_m, observed=n_obs_fraudulent)\n",
    "    \n",
    "    post_pred = pm.sample_posterior_predictive()\n",
    "    idata_model1_oos = az.from_pymc3(posterior_predictive=post_pred)\n",
    "pm.model_to_graphviz(model1)"
   ]
  },
  {
   "cell_type": "code",
   "execution_count": null,
   "id": "55374c34-579e-4cdd-befa-6eb737b09f5a",
   "metadata": {},
   "outputs": [],
   "source": [
    "idata_model1_oos"
   ]
  },
  {
   "cell_type": "code",
   "execution_count": null,
   "id": "c8ba1d72-2540-4c6e-a823-5feab86aa6d7",
   "metadata": {},
   "outputs": [],
   "source": []
  },
  {
   "cell_type": "code",
   "execution_count": null,
   "id": "b14e01f4-fdb0-4fd7-bbdc-eca6a5cd40af",
   "metadata": {},
   "outputs": [],
   "source": []
  },
  {
   "cell_type": "markdown",
   "id": "bba47628-8a97-4aa3-a781-220e90f3d442",
   "metadata": {},
   "source": [
    "## Comments on Model 1\n",
    "+ OK"
   ]
  },
  {
   "cell_type": "markdown",
   "id": "7b9823c5-84d3-4a5a-997d-fd646b17ee0d",
   "metadata": {},
   "source": [
    "# Model 2"
   ]
  },
  {
   "cell_type": "code",
   "execution_count": null,
   "id": "d6d7eb73-95b2-4b13-a078-ca1b0dd81baf",
   "metadata": {},
   "outputs": [],
   "source": [
    "with pm.Model() as model2:\n",
    "    # data\n",
    "    n_accounts = pm.Data('n_accounts', dfm['n_accounts'].values)\n",
    "    n_obs_fraudulent = pm.Data('n_obs_fraudulent', dfm['n_obs_fraudulent'].values)\n",
    "    p_detection_mean_m = pm.Data('p_detection_mean', p_detection_mean)\n",
    "    # detection_sigma_m = pm.Data('detection_sigma', detection_sigma)\n",
    "\n",
    "    # priors\n",
    "    daily_p_fraudulent = pm.Beta('p_fraudulent', 1.6, 1.6, shape=n_days)\n",
    "    detection_sigma_m = pm.HalfNormal('detection_sigma', 30) \n",
    "    \n",
    "    # process model\n",
    "    n_fraudulent = pm.Deterministic('n_fraudulent', n_accounts * daily_p_fraudulent)\n",
    "    \n",
    "    n_obs_fraudulentl = pm.Normal('n_obs_fraudulentl', (n_fraudulent * p_detection_mean_m), detection_sigma_m, observed=n_obs_fraudulent)\n",
    "    \n",
    "    prior = pm.sample_prior_predictive()\n",
    "    idata_model2 = az.from_pymc3(prior=prior)\n",
    "pm.model_to_graphviz(model2)"
   ]
  },
  {
   "cell_type": "code",
   "execution_count": null,
   "id": "f4542292-ec92-4e5b-b05e-067aa2f3b1fe",
   "metadata": {},
   "outputs": [],
   "source": [
    "idata_model2"
   ]
  },
  {
   "cell_type": "code",
   "execution_count": null,
   "id": "55513cbd-f90e-45a4-b289-ea1802fc190d",
   "metadata": {},
   "outputs": [],
   "source": [
    "with model2:\n",
    "    trace = pm.sample(draws=2000, tune=4000, return_inferencedata=False)\n",
    "    # post_pred = pm.sample_posterior_predictive(trace=trace, var_names=['n_fraudulent'])\n",
    "    # idata_model1.extend(az.from_pymc3(trace=trace, posterior_predictive=post_pred))\n",
    "    idata_model2.extend(az.from_pymc3(trace=trace))"
   ]
  },
  {
   "cell_type": "code",
   "execution_count": null,
   "id": "ca8e1655-d39c-473d-9724-aa5884d3bc9b",
   "metadata": {},
   "outputs": [],
   "source": [
    "idata_model2"
   ]
  },
  {
   "cell_type": "code",
   "execution_count": null,
   "id": "d5f338fd-33ab-435d-9ab0-780f9c6dcea7",
   "metadata": {},
   "outputs": [],
   "source": [
    "hdi_n_fraudulent = az.hdi(idata_model2.posterior['n_fraudulent']).to_dataframe().reset_index().pivot(index='n_fraudulent_dim_0', columns='hdi').droplevel(0, axis=1).astype(int)\n",
    "mean_n_fraudulent = idata_model2.posterior['n_fraudulent'].mean(axis=1).to_dataframe().groupby(by=['n_fraudulent_dim_0']).mean().rename(columns={'n_fraudulent': 'n_fraudulent_pred'})\n",
    "df_copy = df.copy()\n",
    "df_copy.columns = [col + '_orig' for col in df_copy.columns]\n",
    "df_posterior_check = pd.concat([hdi_n_fraudulent, mean_n_fraudulent, df_copy], axis=1)\n",
    "df_posterior_check"
   ]
  },
  {
   "cell_type": "code",
   "execution_count": null,
   "id": "6f24c1b5-0c7f-4094-8365-b82cb6008bc1",
   "metadata": {},
   "outputs": [],
   "source": [
    "p =(ggplot(df_posterior_check[0:100], aes(x='day_orig')) +\n",
    "    geom_ribbon(aes(ymin='lower', ymax='higher'), alpha=0.3, fill='blue') +\n",
    "    geom_point(aes(y='n_fraudulent_orig'), alpha=0.5, color='black') +\n",
    "    geom_point(aes(y='n_fraudulent_pred'), color='red', alpha=0.2) +\n",
    "    theme(figure_size=(16, 5)) +\n",
    "    labs(title=f'Number of fraudulent Accounts\\nred: predicted, black: actual, blue: hdi', x='day', y='number of fraudulent accounts')\n",
    "   )\n",
    "p.draw();"
   ]
  },
  {
   "cell_type": "code",
   "execution_count": null,
   "id": "e15fa8dc-8ee2-447b-a83a-cf904652fe84",
   "metadata": {},
   "outputs": [],
   "source": []
  },
  {
   "cell_type": "code",
   "execution_count": null,
   "id": "6397c791-a9b6-4d4c-af8e-92dbd149f791",
   "metadata": {},
   "outputs": [],
   "source": []
  },
  {
   "cell_type": "code",
   "execution_count": null,
   "id": "2cf3655b-6546-49a9-8360-1b185d0a647d",
   "metadata": {},
   "outputs": [],
   "source": []
  },
  {
   "cell_type": "code",
   "execution_count": null,
   "id": "751b527a-7c77-4cff-acd4-9721e0954c01",
   "metadata": {},
   "outputs": [],
   "source": [
    "stop"
   ]
  },
  {
   "cell_type": "code",
   "execution_count": null,
   "id": "2098b58c-2895-480a-952a-43e19a03fc25",
   "metadata": {},
   "outputs": [],
   "source": [
    "pred_n_fraudulent = idata_model1.posterior['n_fraudulent'].to_dataframe().reset_index()\n",
    "pred_n_fraudulent"
   ]
  },
  {
   "cell_type": "code",
   "execution_count": null,
   "id": "ce9fe846-e5b8-416f-90bf-2e9387829965",
   "metadata": {},
   "outputs": [],
   "source": [
    "# n_fraudulent_hdi = az.hdi(idata_model1.posterior['n_fraudulent']).to_dataframe().reset_index()\n",
    "# n_fraudulent_mean = idata_model1.posterior['n_fraudulent'].mean(axis=1)# .to_dataframe().reset_index()\n",
    "# n_fraudulent_mean\n",
    "# # n_fraudulent_hdi = n_fraudulent_hdi.pivot(index='n_fraudulent_dim_0', columns='hdi').droplevel(0, axis=1)\n",
    "# # n_fraudulent_hdi"
   ]
  },
  {
   "cell_type": "code",
   "execution_count": null,
   "id": "e1558f29-cea3-44ed-a80a-254af71d97f8",
   "metadata": {},
   "outputs": [],
   "source": [
    "summ = az.summary(idata_model1)\n",
    "n_frauds_df = pd.concat([summ.loc[[idx for idx in summ.index if 'n_fraudulent' in idx]].reset_index(), df], axis=1)\n",
    "n_frauds_df"
   ]
  },
  {
   "cell_type": "code",
   "execution_count": null,
   "id": "5073f317-64e9-4771-ab35-d02d3de56c96",
   "metadata": {},
   "outputs": [],
   "source": []
  },
  {
   "cell_type": "code",
   "execution_count": null,
   "id": "7ca50b3c-8c00-4803-8359-7e75f4ec9598",
   "metadata": {},
   "outputs": [],
   "source": []
  },
  {
   "cell_type": "code",
   "execution_count": null,
   "id": "9e567e2d-37ec-4925-b690-436cea1cd781",
   "metadata": {},
   "outputs": [],
   "source": []
  },
  {
   "cell_type": "code",
   "execution_count": null,
   "id": "e1287f07-92b4-42cc-9c00-a0d1da1ec8ac",
   "metadata": {},
   "outputs": [],
   "source": []
  },
  {
   "cell_type": "code",
   "execution_count": null,
   "id": "14ef402b-b0e5-4e9f-aff1-c5e6c8c1e3b1",
   "metadata": {},
   "outputs": [],
   "source": []
  },
  {
   "cell_type": "code",
   "execution_count": null,
   "id": "cb5689f5-a6a1-4f7e-927a-f1b5e6be4c3e",
   "metadata": {},
   "outputs": [],
   "source": []
  },
  {
   "cell_type": "code",
   "execution_count": null,
   "id": "c288b795-40f6-404f-b778-20ff7af9f7d0",
   "metadata": {},
   "outputs": [],
   "source": []
  },
  {
   "cell_type": "code",
   "execution_count": null,
   "id": "0ae23d55-a9ea-48af-ae05-bc17ac30de95",
   "metadata": {},
   "outputs": [],
   "source": []
  },
  {
   "cell_type": "code",
   "execution_count": null,
   "id": "ade7f1da-e2a4-4617-93ed-709dc51fcb99",
   "metadata": {},
   "outputs": [],
   "source": []
  },
  {
   "cell_type": "code",
   "execution_count": null,
   "id": "38fb7b99-95ee-485f-8535-63ef040b692e",
   "metadata": {},
   "outputs": [],
   "source": []
  },
  {
   "cell_type": "code",
   "execution_count": null,
   "id": "d8f8ee4b-d10f-4f7d-aa11-d18eb718af86",
   "metadata": {},
   "outputs": [],
   "source": []
  },
  {
   "cell_type": "code",
   "execution_count": null,
   "id": "a3f75a73-584a-4ca0-b99f-0c5ef7a87249",
   "metadata": {},
   "outputs": [],
   "source": []
  },
  {
   "cell_type": "code",
   "execution_count": null,
   "id": "d67d3b52-8add-40b1-b0fe-5056aa5ec71d",
   "metadata": {},
   "outputs": [],
   "source": []
  },
  {
   "cell_type": "code",
   "execution_count": null,
   "id": "7b867c49-037d-4700-a8a1-242378451b94",
   "metadata": {},
   "outputs": [],
   "source": [
    "stop"
   ]
  },
  {
   "cell_type": "code",
   "execution_count": null,
   "id": "a34e1e3a-74ed-45eb-a8d0-4c6ab9efebbe",
   "metadata": {},
   "outputs": [],
   "source": [
    "\n",
    "\n",
    "# Change these 2 probs here to see if the model can recover them below\n",
    "p_fraudulent = pm.Uniform\n",
    "p_fraudulent_act = 0.20\n",
    "p_detect_fraud_act = 0.60\n",
    "\n",
    "n_accounts = [int(x) for x in pm.TruncatedNormal.dist(mu=mu_accounts, sigma=sigma_accounts, lower=0).random(size=n_samples)]\n",
    "n_fraudulent = np.array(pm.Binomial.dist(n=n_accounts, p=p_fraudulent_act).random(size=1)).flatten()\n",
    "n_obs_fraudulent = np.array(pm.Binomial.dist(n=n_fraudulent, p=p_detect_fraud_act).random(size=1)).flatten()\n",
    "\n",
    "df1 = pd.DataFrame({'day': range(n_samples), 'n_accounts': n_accounts, 'n_fraudulent': n_fraudulent, 'n_obs_fraudulent': n_obs_fraudulent})\n",
    "df1['prop_fraudulent'] = df1['n_fraudulent'] / df1['n_accounts']\n",
    "df1['prop_obs_fraudulent'] = df1['n_obs_fraudulent'] / df1['n_accounts']\n",
    "df1['prop_detected_fraudulent'] = df1['n_obs_fraudulent'] / df1['n_fraudulent']\n",
    "df1"
   ]
  },
  {
   "cell_type": "code",
   "execution_count": null,
   "id": "4a758426-6545-4d93-a58f-d78d0ce8827a",
   "metadata": {},
   "outputs": [],
   "source": [
    "df1.describe()"
   ]
  },
  {
   "cell_type": "markdown",
   "id": "be3ebbae-28d4-4c10-9c4c-db491985274e",
   "metadata": {},
   "source": [
    "## Relationships"
   ]
  },
  {
   "cell_type": "code",
   "execution_count": null,
   "id": "e967577e-6d22-4937-a45a-58748c28b7b8",
   "metadata": {},
   "outputs": [],
   "source": [
    "sns.pairplot(df1[['n_accounts', 'n_fraudulent', 'n_obs_fraudulent', 'prop_fraudulent', 'prop_obs_fraudulent', 'prop_detected_fraudulent']], height=1.75);"
   ]
  },
  {
   "cell_type": "markdown",
   "id": "9c1bd338-bc5d-4ab5-9caa-c1e56a6a5bac",
   "metadata": {},
   "source": [
    "+ With this data generating model, there is a linear relationship between `n_obs_fraudulent` (number of detected/observed fraudulent accounts, and `n_fraudulent` - total number of fraudulent accounts created in a day."
   ]
  },
  {
   "cell_type": "markdown",
   "id": "1dd1bff4-434e-4d87-b9f5-bbd9cef3d4e2",
   "metadata": {},
   "source": [
    "# Model1"
   ]
  },
  {
   "cell_type": "code",
   "execution_count": null,
   "id": "806db6f1-523e-40d8-a184-a4bc6edc2a98",
   "metadata": {},
   "outputs": [],
   "source": [
    "# Prior for probabilities - see https://ben18785.shinyapps.io/distribution-zoo/ - Continuous Univariate - Beta dist for pukka distribution shape\n",
    "prob_dist = pd.Series(pm.Beta.dist(1.6, 1.6).random(size=1000))\n",
    "sns.histplot(prob_dist, stat='density', discrete=False, alpha=0.5);"
   ]
  },
  {
   "cell_type": "code",
   "execution_count": null,
   "id": "4392c8b8-fd56-48bd-9b86-1376c7be8863",
   "metadata": {},
   "outputs": [],
   "source": [
    "dfm = df1.copy()\n",
    "# The data we see\n",
    "dfm = dfm[['day', 'n_accounts', 'n_obs_fraudulent']]\n",
    "dfm.head()"
   ]
  },
  {
   "cell_type": "code",
   "execution_count": null,
   "id": "5a1528c0-7f34-4b34-8ab5-0873db4d4b52",
   "metadata": {},
   "outputs": [],
   "source": [
    "with pm.Model() as model1:\n",
    "    # data\n",
    "    n_accounts = pm.Data('n_accounts', dfm['n_accounts'].values)\n",
    "    n_obs_fraudulent = pm.Data('n_obs_fraudulent', dfm['n_obs_fraudulent'].values)\n",
    "\n",
    "    # priors\n",
    "    # p_detect_fraud = pm.Uniform('p_detect_fraud', 0.49, 0.99)\n",
    "    # p_fraudulent = pm.Uniform('p_fraudulent', 0.01, 0.48)\n",
    "    \n",
    "    # Try shapes here - https://ben18785.shinyapps.io/distribution-zoo/ - Continuous Univariate - Beta dist\n",
    "    p_detect_fraud = pm.Beta('p_detect_fraud', 1.6, 1.6)\n",
    "    p_fraudulent = pm.Beta('p_fraudulent', 1.6, 1.6)\n",
    "        \n",
    "    # Process Model\n",
    "    n_fraudulent = pm.Binomial('n_fraudulent', n=n_accounts, p=p_fraudulent, shape=n_samples)\n",
    "    n_obs_fraudulent_l = pm.Binomial('n_obs_fraudulent_l', n=n_fraudulent, p=p_detect_fraud, observed=n_obs_fraudulent)\n",
    "    prior = pm.sample_prior_predictive()\n",
    "    idata_model1 = az.from_pymc3(prior=prior)\n",
    "pm.model_to_graphviz(model1)"
   ]
  },
  {
   "cell_type": "code",
   "execution_count": null,
   "id": "c61cd6d8-20be-4da7-86a8-0331024311a6",
   "metadata": {},
   "outputs": [],
   "source": [
    "# merge prior with original data\n"
   ]
  },
  {
   "cell_type": "code",
   "execution_count": null,
   "id": "5ff1e88d-ecf9-4cf5-bbed-e3966d2e216d",
   "metadata": {},
   "outputs": [],
   "source": [
    "idata_model1"
   ]
  },
  {
   "cell_type": "code",
   "execution_count": null,
   "id": "462a48d5-8370-46ee-8726-bccd47e21f58",
   "metadata": {},
   "outputs": [],
   "source": [
    "az.plot_dist(idata_model1.prior_predictive['n_obs_fraudulent_l'])\n",
    "plt.xticks(rotation=90);"
   ]
  },
  {
   "cell_type": "code",
   "execution_count": null,
   "id": "a3f1be06-7403-4f46-8e9f-fa6e2405ae52",
   "metadata": {},
   "outputs": [],
   "source": [
    "sns.histplot(dfm['n_obs_fraudulent'], stat='density', discrete=False, alpha=0.5);"
   ]
  },
  {
   "cell_type": "code",
   "execution_count": null,
   "id": "44fcc1f9-1141-45d6-ae39-6ebf91785ad6",
   "metadata": {},
   "outputs": [],
   "source": [
    "with model1:\n",
    "    trace = pm.sample(draws=2000, tune=4000, return_inferencedata=False)\n",
    "    post_pred = pm.sample_posterior_predictive(trace=trace, var_names=['n_fraudulent'])\n",
    "    idata_model1.extend(az.from_pymc3(trace=trace, posterior_predictive=post_pred))\n",
    "    # idata_model1.extend(az.from_pymc3(trace=trace))"
   ]
  },
  {
   "cell_type": "code",
   "execution_count": null,
   "id": "a4194db0-ed37-4672-a64a-1adbabfbe5a3",
   "metadata": {},
   "outputs": [],
   "source": [
    "idata_model1"
   ]
  },
  {
   "cell_type": "code",
   "execution_count": null,
   "id": "808c9f18-4643-4934-b2ea-857d54660e22",
   "metadata": {},
   "outputs": [],
   "source": [
    "az.plot_trace(idata_model1.prior, var_names=['p_fraudulent', 'p_detect_fraud']);"
   ]
  },
  {
   "cell_type": "code",
   "execution_count": null,
   "id": "eb0dc218-886a-4642-bd64-8d00dec35064",
   "metadata": {},
   "outputs": [],
   "source": [
    "### Check cell below for how well the model has recovered the original parameters"
   ]
  },
  {
   "cell_type": "code",
   "execution_count": null,
   "id": "3f732931-0d17-43b0-a208-6b47688bfdd6",
   "metadata": {},
   "outputs": [],
   "source": [
    "print(f\"\\nActual probabilities the model is trying to recover - {p_fraudulent_act}, {p_detect_fraud_act}\\n\") \n",
    "az.plot_trace(idata_model1, var_names=['p_fraudulent', 'p_detect_fraud']);"
   ]
  },
  {
   "cell_type": "code",
   "execution_count": null,
   "id": "be7afc20-dc44-4ed4-896b-e356da81e9fd",
   "metadata": {},
   "outputs": [],
   "source": [
    "az.plot_dist(idata_model1.posterior['n_fraudulent'])\n",
    "plt.xticks(rotation=90);"
   ]
  },
  {
   "cell_type": "code",
   "execution_count": null,
   "id": "86e92ef3-51f5-4371-b970-91ec870fe917",
   "metadata": {},
   "outputs": [],
   "source": [
    "sns.histplot(df1['n_fraudulent'], stat='density', discrete=False, alpha=0.5);"
   ]
  },
  {
   "cell_type": "markdown",
   "id": "a16fcd19-271d-480d-a894-48cbba744310",
   "metadata": {},
   "source": [
    "### Out of Sample Prediction # 1"
   ]
  },
  {
   "cell_type": "code",
   "execution_count": null,
   "id": "7e74edff-f18e-48bf-b490-157f1299f0e9",
   "metadata": {},
   "outputs": [],
   "source": [
    "# On a particular day we see 1120 new accounts created, and we detect 125 fraudulent accounts - imaginary data\n",
    "n_accounts_oos1 = 1120\n",
    "n_obs_fraudulent_oos1 = 125\n",
    "with model1:\n",
    "    # data\n",
    "    n_accounts = pm.set_data({'n_accounts': [n_accounts_oos1]})\n",
    "    n_obs_fraudulent = pm.set_data({'n_obs_fraudulent': [n_obs_fraudulent_oos1]})\n",
    "    # Pass in p_fraud, so thgat the model returns a posterior distribution for p_fraud based on the new data\n",
    "    post_pred= pm.sample_posterior_predictive(trace, var_names=['p_fraudulent','p_detect_fraud'])\n",
    "    idata_model1_oos1 = az.from_dict(post_pred)"
   ]
  },
  {
   "cell_type": "code",
   "execution_count": null,
   "id": "0c460871-7aa2-49d0-b60b-ea70db23a28e",
   "metadata": {},
   "outputs": [],
   "source": [
    "idata_model1_oos1"
   ]
  },
  {
   "cell_type": "code",
   "execution_count": null,
   "id": "a3821c86-f8d6-4b38-9f7f-68912a946a5b",
   "metadata": {},
   "outputs": [],
   "source": [
    "az.plot_dist(idata_model1_oos1.posterior['p_fraudulent']);"
   ]
  },
  {
   "cell_type": "markdown",
   "id": "b3b65b63-d9dc-40da-9333-726225bab37f",
   "metadata": {},
   "source": [
    "### Out of Sample Prediction # 2"
   ]
  },
  {
   "cell_type": "code",
   "execution_count": null,
   "id": "a920ac72-6c66-4fd9-90ef-ed22b4e57026",
   "metadata": {},
   "outputs": [],
   "source": [
    "# On a particular day we see 1120 new accounts created, and we detect 10 fraudulent accounts - imaginary data\n",
    "n_accounts_oos2 = 1120\n",
    "n_obs_fraudulent_oos2 = 0\n",
    "with model1:\n",
    "    # data\n",
    "    n_accounts = pm.set_data({'n_accounts': [n_accounts_oos2]})\n",
    "    n_obs_fraudulent = pm.set_data({'n_obs_fraudulent': [n_obs_fraudulent_oos2]})\n",
    "    # Pass in p_fraud, so thgat the model returns a posterior distribution for p_fraud based on the new data\n",
    "    post_pred= pm.sample_posterior_predictive(trace, var_names=['p_fraudulent', 'p_detect_fraud'])\n",
    "    idata_model1_oos2 = az.from_dict(post_pred)  "
   ]
  },
  {
   "cell_type": "code",
   "execution_count": null,
   "id": "3de4accf-cc90-460e-a8ce-043199221dc2",
   "metadata": {},
   "outputs": [],
   "source": [
    "idata_model1_oos2"
   ]
  },
  {
   "cell_type": "code",
   "execution_count": null,
   "id": "0fcfe464-8d53-4123-8832-c941718c54c4",
   "metadata": {},
   "outputs": [],
   "source": [
    "az.plot_dist(idata_model1_oos2.posterior['p_fraudulent']);"
   ]
  },
  {
   "cell_type": "markdown",
   "id": "cc9d1833-c464-447b-a0cf-4ce4d58eea44",
   "metadata": {},
   "source": [
    "## Model 1 Comments\n",
    "+ I cannot get this to converge, but it gets close\n",
    "+ This is a simple model in that it assumes a constant probability of fraud - I think this is why it returns the same probability of fraud regardless of the new data inputs\n",
    "+ The model gets mixed up as to which probability is which for `p_fraud` and `p_fraud_detect` - it sometimes swaps the posteriors for p_fraud and p_detect_fraud. Maybe this could be managed by constraining the priors to more reasonably fitting distributions, or maybe I have a coding error."
   ]
  },
  {
   "cell_type": "code",
   "execution_count": null,
   "id": "87cddfb1-070a-4249-bbc9-147e549cc4a9",
   "metadata": {},
   "outputs": [],
   "source": []
  },
  {
   "cell_type": "markdown",
   "id": "391bac73-2e7e-4b6a-9864-00878444c98e",
   "metadata": {},
   "source": [
    "# Model 2\n",
    "+ We know n_obs_fraudulent, and we know n_accounts\n",
    "+ We want to find n_fraudulent which is equivalent to finding p_fraudulent\n",
    "+ n_fraudulent = n_accounts x p_fraudulent (unknown = known x unknown param)\n",
    "+ n_obs_fraudulent = n_fraudulent x p_detect_fraud (known = unknown x unknown param)\n",
    "+ n_obs_fraudulent = n_accounts x p_fraudulent x p_detect_fraud (known = known x unknown param x unknown param)\n",
    "+ So, our generating function is:\n",
    "    + n_obs_fraudulent = n_accounts * p_fraudulent * p_detect_fraud\n",
    "+ But this model cannot work because a probability distribution x another probability distribution = some other probability distribution - so the model will not be able to distinguish between the 2 probability distributions.\n",
    "+ Therefore, we could consider the model in a different way\n"
   ]
  },
  {
   "cell_type": "code",
   "execution_count": null,
   "id": "d1c116af-b503-4189-acfc-25a9f416a03e",
   "metadata": {},
   "outputs": [],
   "source": [
    "sns.pairplot(df1[['n_accounts', 'n_fraudulent', 'n_obs_fraudulent']], height=1.75);"
   ]
  },
  {
   "cell_type": "code",
   "execution_count": null,
   "id": "b158c12c-6f33-454e-aa69-898f7da2bcc2",
   "metadata": {},
   "outputs": [],
   "source": [
    "sns.scatterplot(data=df1, x='n_obs_fraudulent', y='n_fraudulent');\n",
    "# sns.scatterplot(data=df, x='n_accounts', y='n_fraudulent')"
   ]
  },
  {
   "cell_type": "code",
   "execution_count": null,
   "id": "a9e781c1-a65b-4b9d-b897-5a2ab1907f51",
   "metadata": {},
   "outputs": [],
   "source": [
    "res = linregress(df1['n_obs_fraudulent'].values, df1['n_fraudulent'].values)\n",
    "res"
   ]
  },
  {
   "cell_type": "code",
   "execution_count": null,
   "id": "396dd339-4787-4608-b644-b9818738a830",
   "metadata": {},
   "outputs": [],
   "source": []
  },
  {
   "cell_type": "code",
   "execution_count": null,
   "id": "4d9e3a59-5d71-470e-81cd-8750d0a884a4",
   "metadata": {},
   "outputs": [],
   "source": [
    "n_samples = 1000\n",
    "mu_accounts = 900\n",
    "sigma_accounts = 200\n",
    "\n",
    "# Change these 2 probs here to see if the model can recover them below\n",
    "p_fraudulent_act = 0.15\n",
    "p_detect_fraud_act = 0.60\n",
    "\n",
    "n_accounts = [int(x) for x in pm.TruncatedNormal.dist(mu=mu_accounts, sigma=sigma_accounts, lower=0).random(size=n_samples)]\n",
    "n_obs_fraudulent = pm.Binomial.dist(n=n_accounts, p=p_fraudulent_act * p_detect_fraud_act).random(size=n_samples)\n",
    "\n",
    "df2 = pd.DataFrame({'day': range(n_samples), 'n_accounts': n_accounts, 'n_obs_fraudulent': n_obs_fraudulent})\n",
    "df2"
   ]
  },
  {
   "cell_type": "code",
   "execution_count": null,
   "id": "d954ca94-ba4c-403b-a1e2-ee899cab4a47",
   "metadata": {},
   "outputs": [],
   "source": [
    "dfm = df2.copy()\n",
    "dfm.head()"
   ]
  },
  {
   "cell_type": "code",
   "execution_count": null,
   "id": "30d9a3b4-47c7-43c1-bcbb-21feb1f4b16a",
   "metadata": {},
   "outputs": [],
   "source": [
    "# This looks the same as the previos pairplot\n",
    "sns.pairplot(df2[['n_accounts', 'n_obs_fraudulent']], height=1.75);"
   ]
  },
  {
   "cell_type": "code",
   "execution_count": null,
   "id": "3fcc224a-63b1-48e6-9070-b96f19ce6dcf",
   "metadata": {},
   "outputs": [],
   "source": [
    "with pm.Model() as model2:\n",
    "    # data\n",
    "    n_accounts = pm.Data('n_accounts', dfm['n_accounts'].values)\n",
    "    n_obs_fraudulent = pm.Data('n_obs_fraudulent', dfm['n_obs_fraudulent'].values)\n",
    "\n",
    "    # priors\n",
    "    # p_detect_fraud = pm.Uniform('p_detect_fraud', 0.49, 0.99)\n",
    "    # p_fraudulent = pm.Uniform('p_fraudulent', 0.01, 0.48)\n",
    "    \n",
    "    # Try shapes here - https://ben18785.shinyapps.io/distribution-zoo/ - Continuous Univariate - Beta dist\n",
    "    p_detect_fraud = pm.Beta('p_detect_fraud', 1.6, 1.6)\n",
    "    p_fraudulent = pm.Beta('p_fraudulent', 1.6, 1.6)\n",
    "        \n",
    "    # Process Model\n",
    "    n_obs_fraudulent_l = pm.Binomial('n_obs_fraudulent_l', n=n_accounts, p=p_detect_fraud*p_fraudulent, observed=n_obs_fraudulent)\n",
    "    prior = pm.sample_prior_predictive()\n",
    "    idata_model2 = az.from_pymc3(prior=prior)\n",
    "pm.model_to_graphviz(model2)"
   ]
  },
  {
   "cell_type": "code",
   "execution_count": null,
   "id": "af1fcc4e-7b50-4ec6-9391-3980a4feca3a",
   "metadata": {},
   "outputs": [],
   "source": [
    "idata_model2"
   ]
  },
  {
   "cell_type": "code",
   "execution_count": null,
   "id": "ba121c01-4072-4b3c-9cca-6e48b5d9aba8",
   "metadata": {},
   "outputs": [],
   "source": [
    "az.plot_dist(idata_model2.prior_predictive['n_obs_fraudulent_l'])\n",
    "plt.xticks(rotation=90);"
   ]
  },
  {
   "cell_type": "code",
   "execution_count": null,
   "id": "f8a9c146-0a9b-4b56-8c5b-4bf51e196a92",
   "metadata": {},
   "outputs": [],
   "source": [
    "sns.histplot(dfm['n_obs_fraudulent'], stat='density', discrete=False, alpha=0.5);"
   ]
  },
  {
   "cell_type": "code",
   "execution_count": null,
   "id": "a3790c5d-e565-4c5f-9b8b-a1bca236840f",
   "metadata": {},
   "outputs": [],
   "source": [
    "with model2:\n",
    "    trace = pm.sample(draws=2000, tune=4000, return_inferencedata=False)\n",
    "    # post_pred = pm.sample_posterior_predictive(trace=trace, var_names=['p_fraudulent', 'p_detect_fraud'])\n",
    "    # idata_model2.extend(az.from_pymc3(trace=trace, posterior_predictive=post_pred))\n",
    "    idata_model2.extend(az.from_pymc3(trace=trace))"
   ]
  },
  {
   "cell_type": "code",
   "execution_count": null,
   "id": "894bfabe-7b54-46d0-a72f-ad2bfd5f8bd9",
   "metadata": {},
   "outputs": [],
   "source": [
    "idata_model2"
   ]
  },
  {
   "cell_type": "code",
   "execution_count": null,
   "id": "0bdd9d38-c6a0-4c07-aab0-ee8471e7b7bd",
   "metadata": {},
   "outputs": [],
   "source": [
    "az.plot_trace(idata_model2.prior, var_names=['p_fraudulent', 'p_detect_fraud']);"
   ]
  },
  {
   "cell_type": "code",
   "execution_count": null,
   "id": "336740c7-24c4-4b02-b8ba-6e035b9d7d66",
   "metadata": {},
   "outputs": [],
   "source": [
    "print(f\"\\nActual probabilities the model is trying to recover - {p_fraudulent_act}, {p_detect_fraud_act}\\n\") \n",
    "az.plot_trace(idata_model2, var_names=['p_fraudulent', 'p_detect_fraud']);"
   ]
  },
  {
   "cell_type": "markdown",
   "id": "6168155c-493a-469f-9e0b-8d2902758667",
   "metadata": {},
   "source": [
    "## Comments on Model 2\n",
    "+ Fail"
   ]
  },
  {
   "cell_type": "markdown",
   "id": "399c6a9a-386d-4e61-8ad0-8d276cfc4601",
   "metadata": {},
   "source": [
    "# Model 3\n",
    "+ We will assume we have completed a gauge r&r type study and have defined the probability of detecting a fraudulent account given an account is fraudulent\n",
    "+ This removes one of the parameters from the model"
   ]
  },
  {
   "cell_type": "code",
   "execution_count": null,
   "id": "046021c8-b634-4804-a76f-e930c78d89d5",
   "metadata": {},
   "outputs": [],
   "source": [
    "with pm.Model() as model3:\n",
    "    # data\n",
    "    n_accounts = pm.Data('n_accounts', dfm['n_accounts'].values)\n",
    "    n_obs_fraudulent = pm.Data('n_obs_fraudulent', dfm['n_obs_fraudulent'].values)\n",
    "\n",
    "    # Try shapes here - https://ben18785.shinyapps.io/distribution-zoo/ - Continuous Univariate - Beta dist\n",
    "    p_detect_fraud = p_detect_fraud_act\n",
    "    p_fraudulent = pm.Beta('p_fraudulent', 1.6, 1.6)\n",
    "    \n",
    "    # Process Model\n",
    "    n_obs_fraudulent_l = pm.Binomial('n_obs_fraudulent_l', n=n_accounts, p=p_detect_fraud*p_fraudulent, observed=n_obs_fraudulent)\n",
    "        \n",
    "    prior = pm.sample_prior_predictive()\n",
    "    idata_model3 = az.from_pymc3(prior=prior)\n",
    "pm.model_to_graphviz(model3)"
   ]
  },
  {
   "cell_type": "code",
   "execution_count": null,
   "id": "d1324bbd-5478-40d8-bc56-77e503a06350",
   "metadata": {},
   "outputs": [],
   "source": [
    "idata_model3"
   ]
  },
  {
   "cell_type": "code",
   "execution_count": null,
   "id": "224b6298-03f8-4bbc-b1f5-e333bc430a1e",
   "metadata": {},
   "outputs": [],
   "source": [
    "az.plot_dist(idata_model3.prior_predictive['n_obs_fraudulent_l'])\n",
    "plt.xticks(rotation=90);"
   ]
  },
  {
   "cell_type": "code",
   "execution_count": null,
   "id": "5d3c0d43-30c4-429e-8b8b-7c78e9295aa8",
   "metadata": {},
   "outputs": [],
   "source": [
    "sns.histplot(dfm['n_obs_fraudulent'], stat='density', discrete=False, alpha=0.5);"
   ]
  },
  {
   "cell_type": "code",
   "execution_count": null,
   "id": "d80e5523-2f93-4321-940c-4f25d730aed3",
   "metadata": {},
   "outputs": [],
   "source": [
    "with model3:\n",
    "    trace = pm.sample(draws=2000, tune=4000, return_inferencedata=False)\n",
    "    # post_pred = pm.sample_posterior_predictive(trace=trace, var_names=['n_fraudulent'])\n",
    "    # idata_model1.extend(az.from_pymc3(trace=trace, posterior_predictive=post_pred))\n",
    "    idata_model3.extend(az.from_pymc3(trace=trace))"
   ]
  },
  {
   "cell_type": "code",
   "execution_count": null,
   "id": "a19a1ead-63d5-407a-bdd2-a754bec97366",
   "metadata": {},
   "outputs": [],
   "source": [
    "idata_model3"
   ]
  },
  {
   "cell_type": "code",
   "execution_count": null,
   "id": "87515545-7e18-46cd-b684-8788caae41b4",
   "metadata": {},
   "outputs": [],
   "source": [
    "az.plot_trace(idata_model3.prior, var_names=['p_fraudulent']);"
   ]
  },
  {
   "cell_type": "code",
   "execution_count": null,
   "id": "e7ce9063-586d-4735-a964-0845e2d024a8",
   "metadata": {},
   "outputs": [],
   "source": [
    "print(f\"\\nActual probability the model is trying to recover - {p_fraudulent_act}\\n\") \n",
    "az.plot_trace(idata_model3, var_names=['p_fraudulent']);"
   ]
  },
  {
   "cell_type": "markdown",
   "id": "24421dfd-6fe5-4378-bec2-5f1206bbbd37",
   "metadata": {},
   "source": [
    "## Comments on model 3\n",
    "+ seems to recover the percentage fraudulent, but I'm not too happy about having to constrain the probability of detection to a single value\n",
    "+ I am not sure how to even calculate this number - unless it is something that can be calculated many days after the initial detection? \n",
    "+ Maybe a better option would be a quite narrow prior on the probability of detection, but this would need to be based on a an analysis of the data - try this next"
   ]
  },
  {
   "cell_type": "markdown",
   "id": "ca734f1d-ea34-4b90-818a-180911362e9b",
   "metadata": {},
   "source": [
    "# Model 4\n",
    "+ Try narrow prior on probability of detection - but base it on the actual probability of detection used to generate the data"
   ]
  },
  {
   "cell_type": "code",
   "execution_count": null,
   "id": "692b44af-4749-47fd-b1df-01f8e64ca8ea",
   "metadata": {},
   "outputs": [],
   "source": [
    "with pm.Model() as model4:\n",
    "    # data\n",
    "    n_accounts = pm.Data('n_accounts', dfm['n_accounts'].values)\n",
    "    n_obs_fraudulent = pm.Data('n_obs_fraudulent', dfm['n_obs_fraudulent'].values)\n",
    "\n",
    "    # Try shapes here - https://ben18785.shinyapps.io/distribution-zoo/ - Continuous Univariate - Beta dist\n",
    "    # Put a +/- 5% range around the actual value as the prior - this is pretty tightly constrained\n",
    "    p_detect_fraud = pm.Uniform('p_detect_fraud', p_detect_fraud_act-0.05, p_detect_fraud_act + 0.05)\n",
    "    p_fraudulent = pm.Beta('p_fraudulent', 1.6, 1.6)\n",
    "    \n",
    "    # Process Model\n",
    "    n_obs_fraudulent_l = pm.Binomial('n_obs_fraudulent_l', n=n_accounts, p=p_detect_fraud*p_fraudulent, observed=n_obs_fraudulent)\n",
    "        \n",
    "    prior = pm.sample_prior_predictive()\n",
    "    idata_model4 = az.from_pymc3(prior=prior)\n",
    "pm.model_to_graphviz(model4)"
   ]
  },
  {
   "cell_type": "code",
   "execution_count": null,
   "id": "2785b07e-bc12-4e22-84ae-cbde86ef424d",
   "metadata": {},
   "outputs": [],
   "source": [
    "with model4:\n",
    "    trace = pm.sample(draws=2000, tune=4000, return_inferencedata=False)\n",
    "    # post_pred = pm.sample_posterior_predictive(trace=trace, var_names=['n_fraudulent'])\n",
    "    # idata_model1.extend(az.from_pymc3(trace=trace, posterior_predictive=post_pred))\n",
    "    idata_model4.extend(az.from_pymc3(trace=trace))"
   ]
  },
  {
   "cell_type": "code",
   "execution_count": null,
   "id": "46200760-e597-49ff-a478-1edee1133e68",
   "metadata": {},
   "outputs": [],
   "source": [
    "az.plot_trace(idata_model4.prior, var_names=['p_fraudulent', 'p_detect_fraud']);"
   ]
  },
  {
   "cell_type": "code",
   "execution_count": null,
   "id": "023060f2-e16d-4e08-a1b1-77b7d4b4bcf9",
   "metadata": {},
   "outputs": [],
   "source": [
    "print(f\"\\nActual probabilities the model is trying to recover - {p_fraudulent_act}, {p_detect_fraud_act}\\n\") \n",
    "az.plot_trace(idata_model4, var_names=['p_fraudulent', 'p_detect_fraud']);"
   ]
  },
  {
   "cell_type": "markdown",
   "id": "071f58b7-6f2b-4350-a64a-c78525b1c370",
   "metadata": {},
   "source": [
    "## Comments on Model 4\n",
    "+ Gets close, but not really stable\n",
    "+ I suspect multiplying distributions is causing the issue - I know what it means to multiply 2 probabilities together, but I have no idea what multiplying 2 distributions means\n",
    "+ I think this is the wrong way of thinking about variation - maybe think of total variation as adding gauge variation to the variation around the proportion fraudulent"
   ]
  },
  {
   "cell_type": "code",
   "execution_count": null,
   "id": "03a3e26a-d914-47b8-8d02-ea17d48f2299",
   "metadata": {},
   "outputs": [],
   "source": []
  },
  {
   "cell_type": "code",
   "execution_count": null,
   "id": "f801947c-920e-4af9-bcac-58a03b83faea",
   "metadata": {},
   "outputs": [],
   "source": []
  },
  {
   "cell_type": "code",
   "execution_count": null,
   "id": "e39c439b-148a-40e0-9f6e-0756d40f266c",
   "metadata": {},
   "outputs": [],
   "source": []
  }
 ],
 "metadata": {
  "kernelspec": {
   "display_name": "Python 3 (ipykernel)",
   "language": "python",
   "name": "python3"
  },
  "language_info": {
   "codemirror_mode": {
    "name": "ipython",
    "version": 3
   },
   "file_extension": ".py",
   "mimetype": "text/x-python",
   "name": "python",
   "nbconvert_exporter": "python",
   "pygments_lexer": "ipython3",
   "version": "3.9.7"
  }
 },
 "nbformat": 4,
 "nbformat_minor": 5
}
